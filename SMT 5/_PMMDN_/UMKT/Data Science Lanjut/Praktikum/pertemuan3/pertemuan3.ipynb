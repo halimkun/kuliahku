{
 "cells": [
  {
   "cell_type": "code",
   "execution_count": 2,
   "source": [
    "class Karyawan:\n",
    "    nama_perusahaan = \"HALIMKUN\"\n",
    "    insentif_lembur = 250000\n",
    "\n",
    "    def __init__(self, nama, usia, pendapatan):\n",
    "        self.nama = nama \n",
    "        self.usia = usia \n",
    "        self.pendapatan = pendapatan \n",
    "        self.pendapatan_tambahan = 0\n",
    "\n",
    "    def lembur(self):\n",
    "        self.pendapatan_tambahan += self.insentif_lembur\n",
    "\n",
    "    def tambahan_proyek(self, insentif_proyek):\n",
    "        self.pendapatan_tambahan += insentif_proyek\n",
    "\n",
    "    def total_pendapatan(self):\n",
    "        return self.pendapatan + self.pendapatan_tambahan\n",
    "\n",
    "\n",
    "class AnalisData(Karyawan):\n",
    "    def __init__(self, nama, usia, pendapatan):\n",
    "        super().__init__(nama, usia, pendapatan)\n",
    "\n",
    "\n",
    "class IlmuanData(Karyawan):\n",
    "    def __init__(self, nama, usia, pendapatan):\n",
    "        super().__init__(nama, usia, pendapatan)"
   ],
   "outputs": [],
   "metadata": {}
  },
  {
   "cell_type": "code",
   "execution_count": 15,
   "source": [
    "aksara = AnalisData(\"aksara\", 20, 2500000)\n",
    "aksara.lembur()\n",
    "print(aksara.total_pendapatan())\n",
    "\n",
    "senja = IlmuanData(\"senja\", 20, 5000000)\n",
    "senja.tambahan_proyek(2500000)\n",
    "print(senja.total_pendapatan())"
   ],
   "outputs": [
    {
     "output_type": "stream",
     "name": "stdout",
     "text": [
      "2750000\n",
      "7500000\n"
     ]
    }
   ],
   "metadata": {}
  }
 ],
 "metadata": {
  "orig_nbformat": 4,
  "language_info": {
   "name": "python",
   "version": "3.9.7",
   "mimetype": "text/x-python",
   "codemirror_mode": {
    "name": "ipython",
    "version": 3
   },
   "pygments_lexer": "ipython3",
   "nbconvert_exporter": "python",
   "file_extension": ".py"
  },
  "kernelspec": {
   "name": "python3",
   "display_name": "Python 3.9.7 64-bit"
  },
  "interpreter": {
   "hash": "e7370f93d1d0cde622a1f8e1c04877d8463912d04d973331ad4851f04de6915a"
  }
 },
 "nbformat": 4,
 "nbformat_minor": 2
}