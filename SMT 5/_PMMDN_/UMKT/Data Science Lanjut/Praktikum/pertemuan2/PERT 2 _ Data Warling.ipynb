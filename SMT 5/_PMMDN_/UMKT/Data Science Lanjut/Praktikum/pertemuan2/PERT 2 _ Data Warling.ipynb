{
 "cells": [
  {
   "cell_type": "markdown",
   "source": [
    "Nama        : Muhamad Faisal Halim  \n",
    "NIM         : 19.240.0163  \n",
    "Kelas       : -\n",
    "\n",
    "---\n",
    "## Mahasiswa MBKM \n",
    "\n",
    "***Universitar Mummadiyah Kalimantan Timur***  \n",
    "~ STMIK Widya Pratama Pekalongan"
   ],
   "metadata": {}
  },
  {
   "cell_type": "code",
   "execution_count": null,
   "source": [
    "import pandas as pd\n",
    "\n",
    "csv = pd.read_csv(\"https://dqlab-dataset.s3-ap-southeast-1.amazonaws.com/shopping_data.csv\")\n",
    "\n",
    "print(csv)"
   ],
   "outputs": [],
   "metadata": {}
  },
  {
   "cell_type": "code",
   "execution_count": null,
   "source": [
    "import pandas as pd\n",
    "\n",
    "csv = pd.read_csv(\"https://dqlab-dataset.s3-ap-southeast-1.amazonaws.com/shopping_data.csv\")\n",
    "print(csv.head(7))\n"
   ],
   "outputs": [],
   "metadata": {}
  },
  {
   "cell_type": "code",
   "execution_count": null,
   "source": [
    "import pandas as pd\n",
    "\n",
    "csv = pd.read_csv(\"https://dqlab-dataset.s3-ap-southeast-1.amazonaws.com/shopping_data.csv\")\n",
    "print(csv['Age'].head(10))\n"
   ],
   "outputs": [],
   "metadata": {}
  },
  {
   "cell_type": "code",
   "execution_count": null,
   "source": [
    "import pandas as pd\n",
    "\n",
    "csv = pd.read_csv(\"https://dqlab-dataset.s3-ap-southeast-1.amazonaws.com/shopping_data.csv\")\n",
    "print(csv.iloc[3])"
   ],
   "outputs": [],
   "metadata": {}
  },
  {
   "cell_type": "code",
   "execution_count": null,
   "source": [
    "import pandas as pd\n",
    "\n",
    "csv = pd.read_csv(\"https://dqlab-dataset.s3-ap-southeast-1.amazonaws.com/shopping_data.csv\")\n",
    "print(csv.describe(exclude=['O']))"
   ],
   "outputs": [],
   "metadata": {}
  },
  {
   "cell_type": "code",
   "execution_count": null,
   "source": [
    "import pandas as pd\n",
    "\n",
    "csv = pd.read_csv(\"https://dqlab-dataset.s3-ap-southeast-1.amazonaws.com/shopping_data_missingvalue.csv\")\n",
    "print(csv.isnull().values.any())"
   ],
   "outputs": [],
   "metadata": {}
  },
  {
   "cell_type": "code",
   "execution_count": 2,
   "source": [
    "import pandas as pd\n",
    "\n",
    "csv = pd.read_csv(\"https://dqlab-dataset.s3-ap-southeast-1.amazonaws.com/shopping_data_missingvalue.csv\")\n",
    "print(csv.mean(numeric_only=True))\n",
    "print(\"--- DATASET TERDAPAT NILAI KOSONG ---\")\n",
    "print(csv.head(5))\n",
    "\n",
    "csv=csv.fillna(csv.mean(numeric_only=True))\n",
    "print(\"--- DATASET YANG SUDAH DISI DENGAN MEAN ---\")\n",
    "print(csv.head(5))"
   ],
   "outputs": [
    {
     "output_type": "stream",
     "name": "stdout",
     "text": [
      "CustomerID                100.500000\n",
      "Age                        38.939698\n",
      "Annual Income (k$)         61.005051\n",
      "Spending Score (1-100)     50.489899\n",
      "dtype: float64\n",
      "--- DATASET TERDAPAT NILAI KOSONG ---\n",
      "   CustomerID   Genre   Age  Annual Income (k$)  Spending Score (1-100)\n",
      "0           1    Male  19.0                15.0                    39.0\n",
      "1           2    Male   NaN                15.0                    81.0\n",
      "2           3  Female  20.0                 NaN                     6.0\n",
      "3           4  Female  23.0                16.0                    77.0\n",
      "4           5  Female  31.0                17.0                     NaN\n",
      "--- DATASET YANG SUDAH DISI DENGAN MEAN ---\n",
      "   CustomerID   Genre        Age  Annual Income (k$)  Spending Score (1-100)\n",
      "0           1    Male  19.000000           15.000000               39.000000\n",
      "1           2    Male  38.939698           15.000000               81.000000\n",
      "2           3  Female  20.000000           61.005051                6.000000\n",
      "3           4  Female  23.000000           16.000000               77.000000\n",
      "4           5  Female  31.000000           17.000000               50.489899\n"
     ]
    }
   ],
   "metadata": {}
  },
  {
   "cell_type": "code",
   "execution_count": 4,
   "source": [
    "import pandas as pd\n",
    "\n",
    "csv_data = pd.read_csv(\"https://dqlab-dataset.s3-ap-southeast-1.amazonaws.com/shopping_data_missingvalue.csv\")\n",
    "print(\"--- DATASET TERDAPAT NILAI KOSONG ---\")\n",
    "print(csv_data.head(5))\n",
    "\n",
    "csv_data=csv_data.fillna(csv_data.median(numeric_only=True))\n",
    "print(\"--- DATASET YANG SUDAH DISI DENGAN MEAN ---\")\n",
    "print(csv_data.head(5))"
   ],
   "outputs": [
    {
     "output_type": "stream",
     "name": "stdout",
     "text": [
      "--- DATASET TERDAPAT NILAI KOSONG ---\n",
      "   CustomerID   Genre   Age  Annual Income (k$)  Spending Score (1-100)\n",
      "0           1    Male  19.0                15.0                    39.0\n",
      "1           2    Male   NaN                15.0                    81.0\n",
      "2           3  Female  20.0                 NaN                     6.0\n",
      "3           4  Female  23.0                16.0                    77.0\n",
      "4           5  Female  31.0                17.0                     NaN\n",
      "--- DATASET YANG SUDAH DISI DENGAN MEAN ---\n",
      "   CustomerID   Genre   Age  Annual Income (k$)  Spending Score (1-100)\n",
      "0           1    Male  19.0                15.0                    39.0\n",
      "1           2    Male  36.0                15.0                    81.0\n",
      "2           3  Female  20.0                62.0                     6.0\n",
      "3           4  Female  23.0                16.0                    77.0\n",
      "4           5  Female  31.0                17.0                    50.0\n"
     ]
    }
   ],
   "metadata": {}
  },
  {
   "cell_type": "code",
   "execution_count": 5,
   "source": [
    "import pandas as pd\n",
    "import numpy as np\n",
    "from sklearn import preprocessing\n",
    "\n",
    "csv = pd.read_csv(\"https://dqlab-dataset.s3-ap-southeast-1.amazonaws.com/shopping_data.csv\")\n",
    "array = csv.values\n",
    "\n",
    "# Memisahkan fitur dari dataset.\n",
    "X = array[:,2:5]  \n",
    "# Memisahkan class dari dataset\n",
    "Y = array[:,0:1]  \n",
    "\n",
    "dataset = pd.DataFrame({'Customer ID':array[:,0],'Gender':array[:,1],'Age':array[:,2],'Income':array[:,3],'Spending Score':array[:,4]})\n",
    "\n",
    "print(\"-- DATASET SEBELUM NORMALISASI --\")\n",
    "print(dataset.head(5))\n",
    "\n",
    "# inisialisasi normalisasi MinMax\n",
    "min_max_scaler = preprocessing.MinMaxScaler(feature_range=(0,1))\n",
    "\n",
    " #transformasi MinMax untuk fitur\n",
    "data = min_max_scaler.fit_transform(X)\n",
    "dataset = pd.DataFrame({'Age':data[:,0],'Income':data[:,1],'Spending Score':data[:,2],'Customer ID':array[:,0],'Gender':array[:,1]})\n",
    "\n",
    "print(\"-- DATASET SETELAH NORMALISASI --\")\n",
    "print(dataset.head(5))"
   ],
   "outputs": [
    {
     "output_type": "stream",
     "name": "stdout",
     "text": [
      "-- DATASET SEBELUM NORMALISASI --\n",
      "  Customer ID  Gender Age Income Spending Score\n",
      "0           1    Male  19     15             39\n",
      "1           2    Male  21     15             81\n",
      "2           3  Female  20     16              6\n",
      "3           4  Female  23     16             77\n",
      "4           5  Female  31     17             40\n",
      "-- DATASET SETELAH NORMALISASI --\n",
      "        Age    Income  Spending Score Customer ID  Gender\n",
      "0  0.019231  0.000000        0.387755           1    Male\n",
      "1  0.057692  0.000000        0.816327           2    Male\n",
      "2  0.038462  0.008197        0.051020           3  Female\n",
      "3  0.096154  0.008197        0.775510           4  Female\n",
      "4  0.250000  0.016393        0.397959           5  Female\n"
     ]
    }
   ],
   "metadata": {}
  }
 ],
 "metadata": {
  "orig_nbformat": 4,
  "language_info": {
   "name": "python",
   "version": "3.9.7",
   "mimetype": "text/x-python",
   "codemirror_mode": {
    "name": "ipython",
    "version": 3
   },
   "pygments_lexer": "ipython3",
   "nbconvert_exporter": "python",
   "file_extension": ".py"
  },
  "kernelspec": {
   "name": "python3",
   "display_name": "Python 3.9.7 64-bit"
  },
  "interpreter": {
   "hash": "e7370f93d1d0cde622a1f8e1c04877d8463912d04d973331ad4851f04de6915a"
  }
 },
 "nbformat": 4,
 "nbformat_minor": 2
}