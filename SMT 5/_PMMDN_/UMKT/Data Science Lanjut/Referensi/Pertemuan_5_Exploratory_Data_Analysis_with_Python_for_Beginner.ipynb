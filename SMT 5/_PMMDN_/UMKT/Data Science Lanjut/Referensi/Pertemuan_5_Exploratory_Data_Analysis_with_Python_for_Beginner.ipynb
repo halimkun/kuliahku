{
  "nbformat": 4,
  "nbformat_minor": 0,
  "metadata": {
    "colab": {
      "name": "Pertemuan 5 - Exploratory Data Analysis with Python for Beginner.ipynb",
      "provenance": [],
      "collapsed_sections": [
        "03nh9oT7b9EA",
        "UO9V2du2fDQs",
        "ajcqZnsCgcdb",
        "oaBcwDIjjeDx",
        "poP7m2U8k0v6"
      ]
    },
    "kernelspec": {
      "name": "python3",
      "display_name": "Python 3"
    }
  },
  "cells": [
    {
      "cell_type": "markdown",
      "metadata": {
        "id": "03nh9oT7b9EA"
      },
      "source": [
        "# **Series**\n",
        "\n",
        "Series adalah suatu objek satu dimensi yang\n",
        "dapat menyimpan berbagai jenis tipe data\n",
        "seperti integer, string, dan lain sebagainya.\n",
        "tipe data dari objek series ini harus seragam.\n",
        "Di bawah ini contoh membuat list :"
      ]
    },
    {
      "cell_type": "code",
      "metadata": {
        "id": "uCUqxPMQb7hk",
        "outputId": "d28c453c-fa31-4914-806f-b8520cb5ceb9",
        "colab": {
          "base_uri": "https://localhost:8080/"
        }
      },
      "source": [
        "import pandas as pd\n",
        "\n",
        "x = pd.Series([6,3,4,6])\n",
        "print(x)"
      ],
      "execution_count": null,
      "outputs": [
        {
          "output_type": "stream",
          "text": [
            "0    6\n",
            "1    3\n",
            "2    4\n",
            "3    6\n",
            "dtype: int64\n"
          ],
          "name": "stdout"
        }
      ]
    },
    {
      "cell_type": "markdown",
      "metadata": {
        "id": "-W8O4nIMclU5"
      },
      "source": [
        "Series memiliki satu sumbu saja, dari contoh di atas sumbu tersebut\n",
        "berada baris baris, yaitu 0, 1, 2, 3. kita bisa mengubah sumbu tersebut\n",
        "dengan sebagai berikut :"
      ]
    },
    {
      "cell_type": "code",
      "metadata": {
        "id": "AhTF4idWcs97",
        "outputId": "d27bfdf8-9301-49cc-9cd7-ebcbcad64251",
        "colab": {
          "base_uri": "https://localhost:8080/"
        }
      },
      "source": [
        "import pandas as pd\n",
        "\n",
        "#cara Pertama\n",
        "print(\"Cara Pertama\")\n",
        "x.index = ['a','b','c','d']\n",
        "print(x)\n",
        "print()\n",
        "\n",
        "#cara Kedua\n",
        "print('Cara Kedua')\n",
        "x = pd.Series([6,3,4,6], index = ['a','b','c','d'])\n",
        "print(x)\n",
        "print(type(x))"
      ],
      "execution_count": null,
      "outputs": [
        {
          "output_type": "stream",
          "text": [
            "Cara Pertama\n",
            "a    6\n",
            "b    3\n",
            "c    4\n",
            "d    6\n",
            "dtype: int64\n",
            "\n",
            "Cara Kedua\n",
            "a    6\n",
            "b    3\n",
            "c    4\n",
            "d    6\n",
            "dtype: int64\n",
            "<class 'pandas.core.series.Series'>\n"
          ],
          "name": "stdout"
        }
      ]
    },
    {
      "cell_type": "markdown",
      "metadata": {
        "id": "MO6NsO_Yd2uO"
      },
      "source": [
        "\n",
        "Series yang kita buat memiliki index default, lalu bagaimana jika kita\n",
        "ingin membuat custom index ? Yup benar, kita harus menambahkan\n",
        "parameter kedua yaitu index. Berikut contoh sederhananya:"
      ]
    },
    {
      "cell_type": "code",
      "metadata": {
        "id": "FF55GgSCd6W9",
        "outputId": "9db33e3d-a257-42db-e18b-d8ae0b5b4e50",
        "colab": {
          "base_uri": "https://localhost:8080/"
        }
      },
      "source": [
        "import pandas as pd\n",
        "import numpy as np\n",
        "\n",
        "data = np.array(['a','b','c','d'])\n",
        "\n",
        "karakter = pd.Series(data,index = ['satu','dua','tiga','empat'])\n",
        "print(karakter)"
      ],
      "execution_count": null,
      "outputs": [
        {
          "output_type": "stream",
          "text": [
            "satu     a\n",
            "dua      b\n",
            "tiga     c\n",
            "empat    d\n",
            "dtype: object\n"
          ],
          "name": "stdout"
        }
      ]
    },
    {
      "cell_type": "markdown",
      "metadata": {
        "id": "x-VNwLLqeUpx"
      },
      "source": [
        "Sekarang kita berhasil membuat custom index pada Series kita. Sekarang\n",
        "bagaimana caranya untuk mengakses series berdasarkan indexnya.\n",
        "Caranya sama seperti kita mengakses sebuah array."
      ]
    },
    {
      "cell_type": "code",
      "metadata": {
        "id": "KHmRLLnweYLF",
        "outputId": "9451dd64-0b41-4d90-e89c-d3ac76249077",
        "colab": {
          "base_uri": "https://localhost:8080/"
        }
      },
      "source": [
        "import pandas as pd\n",
        "import numpy as np\n",
        "\n",
        "data = np.array(['a','b','c','d'])\n",
        "\n",
        "karakter = pd.Series(data,index = ['satu','dua','tiga','empat'])\n",
        "print(karakter[\"satu\"])"
      ],
      "execution_count": null,
      "outputs": [
        {
          "output_type": "stream",
          "text": [
            "a\n"
          ],
          "name": "stdout"
        }
      ]
    },
    {
      "cell_type": "markdown",
      "metadata": {
        "id": "YsAYAylzekc9"
      },
      "source": [
        "Seperti yang sudah kita bahas sebelumnya, pandas menyediakan\n",
        "beragam fungsi operasi untuk mengolah data. Contoh jika kita\n",
        "menggunakan series kita bisa mencari nilai max, min, dan mean secara\n",
        "langsung, bahkan kita juga bisa melakukan operasi perpangkatan pada\n",
        "nilai Series secara langsung. Biar gak bingung yuk mari kita coba."
      ]
    },
    {
      "cell_type": "code",
      "metadata": {
        "id": "A73H_uaaemnc",
        "outputId": "2aaea208-c555-472a-8a7b-7b4f8f03513e",
        "colab": {
          "base_uri": "https://localhost:8080/"
        }
      },
      "source": [
        "import pandas as pd\n",
        "import numpy as np\n",
        "\n",
        "angka = pd.Series(np.array([60.5,70.8,80.05,90.45]))\n",
        "print(angka)"
      ],
      "execution_count": null,
      "outputs": [
        {
          "output_type": "stream",
          "text": [
            "0    60.50\n",
            "1    70.80\n",
            "2    80.05\n",
            "3    90.45\n",
            "dtype: float64\n"
          ],
          "name": "stdout"
        }
      ]
    },
    {
      "cell_type": "markdown",
      "metadata": {
        "id": "UO9V2du2fDQs"
      },
      "source": [
        "# **Data Frame**\n",
        "DataFrame adalah suatu objek 2 dimensi tempat menyimpan data\n",
        "dengan lebih terstruktur. dataframe memiliki 2 index, yaitu index baris\n",
        "dan index columns. Dalam satu column dataframe harus memiliki tipe\n",
        "data yang sama. tapi antar columnnya dataframe bisa memiliki jenis\n",
        "data yang berbeda. untuk lebih jelasnya perhatikan contoh berikut :"
      ]
    },
    {
      "cell_type": "code",
      "metadata": {
        "id": "PGLWgWUlfJtd",
        "outputId": "eb7dcf5e-42c8-469b-bc0d-17c7c8624f2d",
        "colab": {
          "base_uri": "https://localhost:8080/"
        }
      },
      "source": [
        "import pandas as pd\n",
        "\n",
        "df =pd.DataFrame({'tipe_int':[50,21],'tipe_string':['a','b']})\n",
        "\n",
        "print(df)\n",
        "\n",
        "print(type(df))"
      ],
      "execution_count": null,
      "outputs": [
        {
          "output_type": "stream",
          "text": [
            "   tipe_int tipe_string\n",
            "0        50           a\n",
            "1        21           b\n",
            "<class 'pandas.core.frame.DataFrame'>\n"
          ],
          "name": "stdout"
        }
      ]
    },
    {
      "cell_type": "markdown",
      "metadata": {
        "id": "ajcqZnsCgcdb"
      },
      "source": [
        "# **Exploratory Data Analysis dengan Pandas**\n",
        "\n",
        "Cobalah untuk mengimport dataset marketplace ABC dari order.csv dan disimpan ke dalam dataframe bernama **order_df**.\n",
        "\n",
        "Notes : untuk dataset diinput dari link berikut \n",
        "\n",
        "https://dqlab-dataset.s3-ap-southeast-1.amazonaws.com/order.csv"
      ]
    },
    {
      "cell_type": "code",
      "metadata": {
        "id": "XGG526ftgu_C"
      },
      "source": [
        "import pandas as pd\n",
        "order_df = pd.read_csv(\"order.csv\")"
      ],
      "execution_count": null,
      "outputs": []
    },
    {
      "cell_type": "markdown",
      "metadata": {
        "id": "rBrzUsYBcxL1"
      },
      "source": [
        "Cobalah untuk order dataframe dengan menuliskan syntax Python untuk melihat struktur dari order_df dengan menggunakan fungsi shape!\n",
        "\n",
        " "
      ]
    },
    {
      "cell_type": "code",
      "metadata": {
        "id": "GtBg8FcPcyqO",
        "outputId": "2591d2c5-34b0-4e4c-ccc1-8f15eb26507e",
        "colab": {
          "base_uri": "https://localhost:8080/"
        }
      },
      "source": [
        "import pandas as pd\n",
        "order_df = pd.read_csv(\"order.csv\")\n",
        "print(order_df.shape)"
      ],
      "execution_count": null,
      "outputs": [
        {
          "output_type": "stream",
          "text": [
            "(49999, 12)\n"
          ],
          "name": "stdout"
        }
      ]
    },
    {
      "cell_type": "markdown",
      "metadata": {
        "id": "CJgjkBeUc5bB"
      },
      "source": [
        "Cobalah untuk check bagaimana contoh data dari dataframe tersebut dengan fungsi head dengan limit 10 baris!"
      ]
    },
    {
      "cell_type": "code",
      "metadata": {
        "id": "8TOdBDxWc6RM",
        "outputId": "ddcfe4f3-c3bf-4d1b-c394-eb84af925c36",
        "colab": {
          "base_uri": "https://localhost:8080/"
        }
      },
      "source": [
        "import pandas as pd\n",
        "order_df = pd.read_csv(\"order.csv\")\n",
        "print(order_df.head(10))"
      ],
      "execution_count": null,
      "outputs": [
        {
          "output_type": "stream",
          "text": [
            "                           order_id  ...  product_weight_gram\n",
            "0  2e7a8482f6fb09756ca50c10d7bfc047  ...               1800.0\n",
            "1  2e7a8482f6fb09756ca50c10d7bfc047  ...               1400.0\n",
            "2  e5fa5a7210941f7d56d0208e4e071d35  ...                700.0\n",
            "3  3b697a20d9e427646d92567910af6d57  ...                300.0\n",
            "4  71303d7e93b399f5bcd537d124c0bcfa  ...                500.0\n",
            "5  be5bc2f0da14d8071e2d45451ad119d9  ...                400.0\n",
            "6  0a0837a5eee9e7a9ce2b1fa831944d27  ...               3100.0\n",
            "7  1ff217aa612f6cd7c4255c9bfe931c8b  ...                200.0\n",
            "8  22613579f7d11cc59c4347526fc3c79e  ...                600.0\n",
            "9  356b492aba2d1a7da886e54e0b6212b7  ...                610.0\n",
            "\n",
            "[10 rows x 12 columns]\n"
          ],
          "name": "stdout"
        }
      ]
    },
    {
      "cell_type": "markdown",
      "metadata": {
        "id": "-xTJrMPUdU8e"
      },
      "source": [
        "Berikut hasil menggunakan fungsi describe pada nilai_skor_df"
      ]
    },
    {
      "cell_type": "code",
      "metadata": {
        "id": "vWQHM91neE1X",
        "outputId": "b822c73b-d238-4413-ab12-ed1ee95fda6e",
        "colab": {
          "base_uri": "https://localhost:8080/"
        }
      },
      "source": [
        "import pandas as pd\n",
        "import matplotlib.pyplot as plt\n",
        "\n",
        "nilai_skor_df = pd.read_csv('nilai_skor.csv')\n",
        " #Function describe dapat memberikan informasi mengenai nilai rataan, standar deviasi dan IQR (interquartile range).\n",
        "print(nilai_skor_df.describe())"
      ],
      "execution_count": null,
      "outputs": [
        {
          "output_type": "stream",
          "text": [
            "             Age     Score\n",
            "count   5.000000   5.00000\n",
            "mean   21.400000  79.40000\n",
            "std     2.701851  12.36123\n",
            "min    18.000000  64.00000\n",
            "25%    20.000000  75.00000\n",
            "50%    21.000000  78.00000\n",
            "75%    23.000000  82.00000\n",
            "max    25.000000  98.00000\n"
          ],
          "name": "stdout"
        }
      ]
    },
    {
      "cell_type": "markdown",
      "metadata": {
        "id": "o_JI_JlyezL5"
      },
      "source": [
        "Jika ingin mendapatkan summary statistik dari kolom yang tidak bernilai angka, maka aku dapat menambahkan command include=[\"object\"] pada syntax describe(). Berikut contohnya :\n"
      ]
    },
    {
      "cell_type": "code",
      "metadata": {
        "id": "HWNcbiXZe3lb",
        "outputId": "f4a8f9ca-f789-4f9d-d2e0-655a212b7021",
        "colab": {
          "base_uri": "https://localhost:8080/"
        }
      },
      "source": [
        "import pandas as pd\n",
        "import matplotlib.pyplot as plt\n",
        "\n",
        "nilai_skor_df = pd.read_csv('nilai_skor.csv')\n",
        " #Function describe dapat memberikan informasi mengenai nilai rataan, standar deviasi dan IQR (interquartile range).\n",
        "print(nilai_skor_df.describe(include=\"object\"))"
      ],
      "execution_count": null,
      "outputs": [
        {
          "output_type": "stream",
          "text": [
            "            Name\n",
            "count          5\n",
            "unique         5\n",
            "top     Daniella\n",
            "freq           1\n"
          ],
          "name": "stdout"
        }
      ]
    },
    {
      "cell_type": "markdown",
      "metadata": {
        "id": "1WsK2G1UfFjw"
      },
      "source": [
        "Function describe() dengan include=\"all\" akan memberikan summary statistic dari semua kolom. Contoh penggunaannya:\n"
      ]
    },
    {
      "cell_type": "code",
      "metadata": {
        "id": "8hGY89l4fHqB",
        "outputId": "75ba1b64-392d-4173-80d3-2a180d870b0d",
        "colab": {
          "base_uri": "https://localhost:8080/"
        }
      },
      "source": [
        "import pandas as pd\n",
        "import matplotlib.pyplot as plt\n",
        "\n",
        "nilai_skor_df = pd.read_csv('nilai_skor.csv')\n",
        " #argument bernama include = \"all\" untuk mendapatkan summary statistik atau statistik deskriptif dari kolom numerik dan karakter.).\n",
        "print(nilai_skor_df.describe(include=\"all\"))"
      ],
      "execution_count": null,
      "outputs": [
        {
          "output_type": "stream",
          "text": [
            "              Age      Name     Score\n",
            "count    5.000000         5   5.00000\n",
            "unique        NaN         5       NaN\n",
            "top           NaN  Daniella       NaN\n",
            "freq          NaN         1       NaN\n",
            "mean    21.400000       NaN  79.40000\n",
            "std      2.701851       NaN  12.36123\n",
            "min     18.000000       NaN  64.00000\n",
            "25%     20.000000       NaN  75.00000\n",
            "50%     21.000000       NaN  78.00000\n",
            "75%     23.000000       NaN  82.00000\n",
            "max     25.000000       NaN  98.00000\n"
          ],
          "name": "stdout"
        }
      ]
    },
    {
      "cell_type": "markdown",
      "metadata": {
        "id": "BHsu-O5UfdSJ"
      },
      "source": [
        "Selanjutnya, untuk mencari rataan dari suatu data dari dataframe. Aku dapat menggunakan syntax mean, median, dan mode dari Pandas.\n"
      ]
    },
    {
      "cell_type": "code",
      "metadata": {
        "id": "-m_KxsHkfeY7",
        "outputId": "c57a5821-e296-428b-b07e-526ab1aa3456",
        "colab": {
          "base_uri": "https://localhost:8080/"
        }
      },
      "source": [
        "import pandas as pd\n",
        "import matplotlib.pyplot as plt\n",
        "\n",
        "nilai_skor_df = pd.read_csv('nilai_skor.csv')\n",
        "#mecari mean dan median dari kolom Age Score\n",
        "print('Mean', nilai_skor_df.loc[:,\"Age\"].mean())\n",
        "print('Median', nilai_skor_df.loc[:,\"Score\"].median())"
      ],
      "execution_count": null,
      "outputs": [
        {
          "output_type": "stream",
          "text": [
            "Mean 21.4\n",
            "Median 78.0\n"
          ],
          "name": "stdout"
        }
      ]
    },
    {
      "cell_type": "markdown",
      "metadata": {
        "id": "oaBcwDIjjeDx"
      },
      "source": [
        "# **Mengenal dan Membuat Distribusi Data dengan Histogram**"
      ]
    },
    {
      "cell_type": "code",
      "metadata": {
        "id": "9KEO_YMGkKxj",
        "outputId": "2784c2e6-ace3-41e6-d7a3-3eab66e45be5",
        "colab": {
          "base_uri": "https://localhost:8080/",
          "height": 348
        }
      },
      "source": [
        "import pandas as pd\n",
        "import matplotlib.pyplot as plt\n",
        "order_df = pd.read_csv(\"order.csv\")\n",
        "# plot histogram kolom: price\n",
        "order_df[[\"price\"]].hist(figsize=(4, 5), bins=10, xlabelsize=8, ylabelsize=8)\n",
        "plt.show()  # Untuk menampilkan histogram plot"
      ],
      "execution_count": null,
      "outputs": [
        {
          "output_type": "display_data",
          "data": {
            "image/png": "[encoded data removed]",
            "text/plain": [
              "<Figure size 288x360 with 1 Axes>"
            ]
          },
          "metadata": {
            "tags": [],
            "needs_background": "light"
          }
        }
      ]
    },
    {
      "cell_type": "markdown",
      "metadata": {
        "id": "poP7m2U8k0v6"
      },
      "source": [
        "# **Standar Deviasi dan Varians pada Pandas**\n",
        "\n",
        "Varians dan standar deviasi juga merupakan suatu ukuran dispersi atau variasi. Standar deviasi merupakan ukuran dispersi yang paling banyak dipakai. Hal ini mungkin karena standar deviasi mempunyai satuan ukuran yang sama dengan satuan ukuran data asalnya. Sedangkan varians memiliki satuan kuadrat dari data asalnya (misalnya cm^2)."
      ]
    },
    {
      "cell_type": "code",
      "metadata": {
        "id": "WIEm2qHfk40S",
        "outputId": "e4a5820b-977f-4dc1-c0b5-2e70f0c573e2",
        "colab": {
          "base_uri": "https://localhost:8080/"
        }
      },
      "source": [
        "import pandas as pd\n",
        "import matplotlib.pyplot as plt\n",
        "\n",
        "nilai_skor_df = pd.read_csv('nilai_skor.csv')\n",
        "#mecari mean dan median dari kolom Age Score\n",
        "print('Standar Deviasi', nilai_skor_df.loc[:,\"Age\"].std())\n",
        "print('Varians', nilai_skor_df.loc[:,\"Score\"].var())"
      ],
      "execution_count": null,
      "outputs": [
        {
          "output_type": "stream",
          "text": [
            "Mean 2.701851217221259\n",
            "Median 152.8\n"
          ],
          "name": "stdout"
        }
      ]
    },
    {
      "cell_type": "markdown",
      "metadata": {
        "id": "KNmB0rY4lyZ9"
      },
      "source": [
        "# **Menemukan Outliers Menggunakan Pandas**"
      ]
    },
    {
      "cell_type": "code",
      "metadata": {
        "id": "f1f8kN2Ul0q7",
        "outputId": "a9c7e029-4377-464a-f325-72dc52b7befe",
        "colab": {
          "base_uri": "https://localhost:8080/"
        }
      },
      "source": [
        "import pandas as pd\n",
        "order_df = pd.read_csv(\"nilai_skor.csv\")\n",
        "# Hitung quartile 1\n",
        "Q1 = order_df[[\"Score\"]].quantile(0.25)\n",
        "# Hitung quartile 3\n",
        "Q3 = order_df[[\"Score\"]].quantile(0.75)\n",
        "# Hitung inter quartile range dan cetak ke console\n",
        "IQR = Q3 - Q1\n",
        "print(IQR)"
      ],
      "execution_count": null,
      "outputs": [
        {
          "output_type": "stream",
          "text": [
            "Score    7.0\n",
            "dtype: float64\n"
          ],
          "name": "stdout"
        }
      ]
    },
    {
      "cell_type": "code",
      "metadata": {
        "id": "msXgHSnJmjCm",
        "outputId": "135db515-12a9-4721-dcb7-b4b3b35a3b55",
        "colab": {
          "base_uri": "https://localhost:8080/"
        }
      },
      "source": [
        "import pandas as pd\n",
        "nilai_skor_df = pd.read_csv(\"nilai_skor.csv\")\n",
        "# Hitung quartile 1\n",
        "Q1 = nilai_skor_df[[\"Score\"]].quantile(0.25)\n",
        "# Hitung quartile 3\n",
        "Q3 = nilai_skor_df[[\"Score\"]].quantile(0.75)\n",
        "# Hitung inter quartile range dan cetak ke console\n",
        "IQR = Q3 - Q1\n",
        "print((nilai_skor_df < (Q1 - 1.5*IQR)) | (nilai_skor_df > (Q3+ 1.5* IQR)))"
      ],
      "execution_count": null,
      "outputs": [
        {
          "output_type": "stream",
          "text": [
            "     Age   Name  Score\n",
            "0  False  False  False\n",
            "1  False  False  False\n",
            "2  False  False  False\n",
            "3  False  False   True\n",
            "4  False  False   True\n"
          ],
          "name": "stdout"
        }
      ]
    },
    {
      "cell_type": "markdown",
      "metadata": {
        "id": "mH-KBb0SmDc8"
      },
      "source": [
        "Cobalah untuk mengubah kolom freight_value menjadi shipping_cost dalam data frame order_df, dengan menggunakan fungsi rename()."
      ]
    },
    {
      "cell_type": "code",
      "metadata": {
        "id": "0cTvsmfemGMI",
        "outputId": "15b0e84f-aec6-402a-c785-6fbffdba15e6",
        "colab": {
          "base_uri": "https://localhost:8080/"
        }
      },
      "source": [
        "import pandas as pd\n",
        "nilai_skor_df = pd.read_csv(\"nilai_skor.csv\")\n",
        "# Ganti nama kolom freight_value menjadi shipping_cost\n",
        "nilai_skor_df.rename(columns={\"Age\": \"Umur\"}, inplace=True)\n",
        "print(nilai_skor_df)"
      ],
      "execution_count": null,
      "outputs": [
        {
          "output_type": "stream",
          "text": [
            "   Umur      Name  Score\n",
            "0    20   Lindsay     82\n",
            "1    18    Robert     75\n",
            "2    23     Ricko     78\n",
            "3    21     Nicky     64\n",
            "4    25  Daniella     98\n"
          ],
          "name": "stdout"
        }
      ]
    },
    {
      "cell_type": "markdown",
      "metadata": {
        "id": "sTvir0sxn21S"
      },
      "source": [
        "Rename menggunakan indeks kolom "
      ]
    },
    {
      "cell_type": "code",
      "metadata": {
        "id": "K-rUYtmvn6Rv",
        "outputId": "3757b05c-2236-4949-91f7-7a1db66ef97f",
        "colab": {
          "base_uri": "https://localhost:8080/"
        }
      },
      "source": [
        "import pandas as pd\n",
        "nilai_skor_df = pd.read_csv(\"nilai_skor.csv\")\n",
        "# Ganti nama kolom freight_value menjadi shipping_cost\n",
        "nilai_skor_df.columns.values[1] = 'Nama'\n",
        "print(nilai_skor_df)"
      ],
      "execution_count": null,
      "outputs": [
        {
          "output_type": "stream",
          "text": [
            "   Age      Nama  Score\n",
            "0   20   Lindsay     82\n",
            "1   18    Robert     75\n",
            "2   23     Ricko     78\n",
            "3   21     Nicky     64\n",
            "4   25  Daniella     98\n"
          ],
          "name": "stdout"
        }
      ]
    },
    {
      "cell_type": "markdown",
      "metadata": {
        "id": "A97dL78FofHk"
      },
      "source": [
        "**.groupby menggunakan Pandas**\n",
        "\n",
        "Penjelasan: komputasi dibawah menggunakan kolom ‘Name’ sebagai aggregate dan kemudian menggunakan menghitung mean dari kolom ‘Score’ pada tiap - tiap aggregate tersebut."
      ]
    },
    {
      "cell_type": "code",
      "metadata": {
        "id": "i5-ZIfSjogWX",
        "outputId": "d6c40753-63e4-434d-90bb-0ab33b91599b",
        "colab": {
          "base_uri": "https://localhost:8080/"
        }
      },
      "source": [
        "import pandas as pd\n",
        "df = pd.read_csv(\"nilai_kelasB.csv\")\n",
        "\n",
        "#Penggunaan GroupBy\n",
        "df[\"Score\"].groupby(df[\"Name\"]).mean()"
      ],
      "execution_count": null,
      "outputs": [
        {
          "output_type": "execute_result",
          "data": {
            "text/plain": [
              "Name\n",
              "Alisa        72.00\n",
              "Bobby        57.50\n",
              "Catherine    63.75\n",
              "Name: Score, dtype: float64"
            ]
          },
          "metadata": {
            "tags": []
          },
          "execution_count": 22
        }
      ]
    },
    {
      "cell_type": "markdown",
      "metadata": {
        "id": "RGEFfZSlrYsf"
      },
      "source": [
        "**Contoh lainnya :**\n",
        "\n",
        "Penjelasan: komputasi bawah ini menggunakan kolom ‘Name’ dan ‘Exam’ sebagai aggregate dan kemudian menggunakan menghitung mean dari kolom ‘Score’ pada tiap - tiap aggregate tersebut."
      ]
    },
    {
      "cell_type": "code",
      "metadata": {
        "id": "ZprGwaGereah",
        "outputId": "e405afc5-eef3-4e4f-cb04-42d7ab746c25",
        "colab": {
          "base_uri": "https://localhost:8080/"
        }
      },
      "source": [
        "import pandas as pd\n",
        "df = pd.read_csv(\"nilai_kelasB.csv\")\n",
        "\n",
        "#Penggunaan GroupBy\n",
        "df[\"Score\"].groupby(df[\"Exam\"]).sum()"
      ],
      "execution_count": null,
      "outputs": [
        {
          "output_type": "execute_result",
          "data": {
            "text/plain": [
              "Exam\n",
              "Semester 1    346\n",
              "Semester 2    427\n",
              "Name: Score, dtype: int64"
            ]
          },
          "metadata": {
            "tags": []
          },
          "execution_count": 23
        }
      ]
    },
    {
      "cell_type": "markdown",
      "metadata": {
        "id": "Bn7cjSd1rtX_"
      },
      "source": [
        "**Sorting Menggunakan Pandas**\n",
        "\n",
        "Contoh: \n",
        "\n",
        "Sorting terhadap dataset nilai_skor_df berdasarkan age!\n"
      ]
    },
    {
      "cell_type": "code",
      "metadata": {
        "id": "2tJevnBgr2a6",
        "outputId": "1d60c8ea-4bba-4a09-db04-f098b5460edd",
        "colab": {
          "base_uri": "https://localhost:8080/",
          "height": 204
        }
      },
      "source": [
        "import pandas as pd\n",
        "df = pd.read_csv(\"nilai_skor.csv\")\n",
        "\n",
        "#Penggunaan Sorting\n",
        "df.sort_values(by=\"Age\")"
      ],
      "execution_count": null,
      "outputs": [
        {
          "output_type": "execute_result",
          "data": {
            "text/html": [
              "<div>\n",
              "<style scoped>\n",
              "    .dataframe tbody tr th:only-of-type {\n",
              "        vertical-align: middle;\n",
              "    }\n",
              "\n",
              "    .dataframe tbody tr th {\n",
              "        vertical-align: top;\n",
              "    }\n",
              "\n",
              "    .dataframe thead th {\n",
              "        text-align: right;\n",
              "    }\n",
              "</style>\n",
              "<table border=\"1\" class=\"dataframe\">\n",
              "  <thead>\n",
              "    <tr style=\"text-align: right;\">\n",
              "      <th></th>\n",
              "      <th>Age</th>\n",
              "      <th>Name</th>\n",
              "      <th>Score</th>\n",
              "    </tr>\n",
              "  </thead>\n",
              "  <tbody>\n",
              "    <tr>\n",
              "      <th>1</th>\n",
              "      <td>18</td>\n",
              "      <td>Robert</td>\n",
              "      <td>75</td>\n",
              "    </tr>\n",
              "    <tr>\n",
              "      <th>0</th>\n",
              "      <td>20</td>\n",
              "      <td>Lindsay</td>\n",
              "      <td>82</td>\n",
              "    </tr>\n",
              "    <tr>\n",
              "      <th>3</th>\n",
              "      <td>21</td>\n",
              "      <td>Nicky</td>\n",
              "      <td>64</td>\n",
              "    </tr>\n",
              "    <tr>\n",
              "      <th>2</th>\n",
              "      <td>23</td>\n",
              "      <td>Ricko</td>\n",
              "      <td>78</td>\n",
              "    </tr>\n",
              "    <tr>\n",
              "      <th>4</th>\n",
              "      <td>25</td>\n",
              "      <td>Daniella</td>\n",
              "      <td>98</td>\n",
              "    </tr>\n",
              "  </tbody>\n",
              "</table>\n",
              "</div>"
            ],
            "text/plain": [
              "   Age      Name  Score\n",
              "1   18    Robert     75\n",
              "0   20   Lindsay     82\n",
              "3   21     Nicky     64\n",
              "2   23     Ricko     78\n",
              "4   25  Daniella     98"
            ]
          },
          "metadata": {
            "tags": []
          },
          "execution_count": 25
        }
      ]
    },
    {
      "cell_type": "markdown",
      "metadata": {
        "id": "gjlR_TqrvIib"
      },
      "source": [
        "Function tersebut akan secara default mengurutkan secara ascending (dimulai dari nilai terkecil), untuk dapat mengurutkan secara descending (nilai terbesar lebih dahulu), dapat menggunakan properti tambahan seperti slide berikut nya\n",
        "\n",
        "\n",
        "**Berikut syntax untuk descending : **"
      ]
    },
    {
      "cell_type": "code",
      "metadata": {
        "id": "WIwwAcFRvSJi",
        "outputId": "ed131382-33db-4f56-b2f3-1f12fa1c2bfa",
        "colab": {
          "base_uri": "https://localhost:8080/",
          "height": 204
        }
      },
      "source": [
        "import pandas as pd\n",
        "df = pd.read_csv(\"nilai_skor.csv\")\n",
        "\n",
        "#Penggunaan Sorting\n",
        "df.sort_values(by=\"Age\",ascending=False)"
      ],
      "execution_count": null,
      "outputs": [
        {
          "output_type": "execute_result",
          "data": {
            "text/html": [
              "<div>\n",
              "<style scoped>\n",
              "    .dataframe tbody tr th:only-of-type {\n",
              "        vertical-align: middle;\n",
              "    }\n",
              "\n",
              "    .dataframe tbody tr th {\n",
              "        vertical-align: top;\n",
              "    }\n",
              "\n",
              "    .dataframe thead th {\n",
              "        text-align: right;\n",
              "    }\n",
              "</style>\n",
              "<table border=\"1\" class=\"dataframe\">\n",
              "  <thead>\n",
              "    <tr style=\"text-align: right;\">\n",
              "      <th></th>\n",
              "      <th>Age</th>\n",
              "      <th>Name</th>\n",
              "      <th>Score</th>\n",
              "    </tr>\n",
              "  </thead>\n",
              "  <tbody>\n",
              "    <tr>\n",
              "      <th>4</th>\n",
              "      <td>25</td>\n",
              "      <td>Daniella</td>\n",
              "      <td>98</td>\n",
              "    </tr>\n",
              "    <tr>\n",
              "      <th>2</th>\n",
              "      <td>23</td>\n",
              "      <td>Ricko</td>\n",
              "      <td>78</td>\n",
              "    </tr>\n",
              "    <tr>\n",
              "      <th>3</th>\n",
              "      <td>21</td>\n",
              "      <td>Nicky</td>\n",
              "      <td>64</td>\n",
              "    </tr>\n",
              "    <tr>\n",
              "      <th>0</th>\n",
              "      <td>20</td>\n",
              "      <td>Lindsay</td>\n",
              "      <td>82</td>\n",
              "    </tr>\n",
              "    <tr>\n",
              "      <th>1</th>\n",
              "      <td>18</td>\n",
              "      <td>Robert</td>\n",
              "      <td>75</td>\n",
              "    </tr>\n",
              "  </tbody>\n",
              "</table>\n",
              "</div>"
            ],
            "text/plain": [
              "   Age      Name  Score\n",
              "4   25  Daniella     98\n",
              "2   23     Ricko     78\n",
              "3   21     Nicky     64\n",
              "0   20   Lindsay     82\n",
              "1   18    Robert     75"
            ]
          },
          "metadata": {
            "tags": []
          },
          "execution_count": 27
        }
      ]
    },
    {
      "cell_type": "markdown",
      "metadata": {
        "id": "-h1oQlGOveH3"
      },
      "source": [
        "Fungsi sorting di Pandas juga dapat dilakukan menggunakan lebih dari satu kolom sebagai syarat. Contoh nya pada skenario dibawah, akan mencoba mengaplikasikan fungsi Sorting menggunakan Age dan Score sekaligus:\n"
      ]
    },
    {
      "cell_type": "code",
      "metadata": {
        "id": "awsCJAN7vfSY",
        "outputId": "cfb3bf0b-4484-416e-d3e2-69d292d1d5d9",
        "colab": {
          "base_uri": "https://localhost:8080/",
          "height": 204
        }
      },
      "source": [
        "import pandas as pd\n",
        "df = pd.read_csv(\"nilai_skor.csv\")\n",
        "\n",
        "#Penggunaan Sorting\n",
        "df.sort_values(by=[\"Age\",\"Score\"],ascending=[True,False])"
      ],
      "execution_count": null,
      "outputs": [
        {
          "output_type": "execute_result",
          "data": {
            "text/html": [
              "<div>\n",
              "<style scoped>\n",
              "    .dataframe tbody tr th:only-of-type {\n",
              "        vertical-align: middle;\n",
              "    }\n",
              "\n",
              "    .dataframe tbody tr th {\n",
              "        vertical-align: top;\n",
              "    }\n",
              "\n",
              "    .dataframe thead th {\n",
              "        text-align: right;\n",
              "    }\n",
              "</style>\n",
              "<table border=\"1\" class=\"dataframe\">\n",
              "  <thead>\n",
              "    <tr style=\"text-align: right;\">\n",
              "      <th></th>\n",
              "      <th>Age</th>\n",
              "      <th>Name</th>\n",
              "      <th>Score</th>\n",
              "    </tr>\n",
              "  </thead>\n",
              "  <tbody>\n",
              "    <tr>\n",
              "      <th>1</th>\n",
              "      <td>18</td>\n",
              "      <td>Robert</td>\n",
              "      <td>75</td>\n",
              "    </tr>\n",
              "    <tr>\n",
              "      <th>0</th>\n",
              "      <td>20</td>\n",
              "      <td>Lindsay</td>\n",
              "      <td>82</td>\n",
              "    </tr>\n",
              "    <tr>\n",
              "      <th>3</th>\n",
              "      <td>21</td>\n",
              "      <td>Nicky</td>\n",
              "      <td>64</td>\n",
              "    </tr>\n",
              "    <tr>\n",
              "      <th>2</th>\n",
              "      <td>23</td>\n",
              "      <td>Ricko</td>\n",
              "      <td>78</td>\n",
              "    </tr>\n",
              "    <tr>\n",
              "      <th>4</th>\n",
              "      <td>25</td>\n",
              "      <td>Daniella</td>\n",
              "      <td>98</td>\n",
              "    </tr>\n",
              "  </tbody>\n",
              "</table>\n",
              "</div>"
            ],
            "text/plain": [
              "   Age      Name  Score\n",
              "1   18    Robert     75\n",
              "0   20   Lindsay     82\n",
              "3   21     Nicky     64\n",
              "2   23     Ricko     78\n",
              "4   25  Daniella     98"
            ]
          },
          "metadata": {
            "tags": []
          },
          "execution_count": 28
        }
      ]
    }
  ]
}