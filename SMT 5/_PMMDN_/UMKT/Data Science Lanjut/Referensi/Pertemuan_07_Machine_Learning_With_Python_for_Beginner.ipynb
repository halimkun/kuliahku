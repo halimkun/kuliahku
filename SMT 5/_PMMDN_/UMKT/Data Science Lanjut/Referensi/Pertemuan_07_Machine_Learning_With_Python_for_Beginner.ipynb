{
  "nbformat": 4,
  "nbformat_minor": 0,
  "metadata": {
    "colab": {
      "name": "Pertemuan 7 - Machine Learning With Python for Beginner.ipynb",
      "provenance": [],
      "collapsed_sections": [
        "tMDVTm3tCd1F",
        "n-InWmE9GodR",
        "atPdHy6QJEal"
      ]
    },
    "kernelspec": {
      "name": "python3",
      "display_name": "Python 3"
    }
  },
  "cells": [
    {
      "cell_type": "markdown",
      "metadata": {
        "id": "tMDVTm3tCd1F"
      },
      "source": [
        "# **Eksplorasi Data & Data Pre-processing**"
      ]
    },
    {
      "cell_type": "markdown",
      "metadata": {
        "id": "GiPTmx3CCoEP"
      },
      "source": [
        "## **Eksplorasi Data: Memahami Data dengan Statistik**"
      ]
    },
    {
      "cell_type": "code",
      "metadata": {
        "id": "ZBPYNkWUBpag",
        "outputId": "c18da883-811d-4688-8320-8bcc7c02e363",
        "colab": {
          "base_uri": "https://localhost:8080/"
        }
      },
      "source": [
        "import pandas as pd\n",
        "dataset = pd.read_csv('https://dqlab-dataset.s3-ap-southeast-1.amazonaws.com/pythonTutorial/online_raw.csv')\n",
        "print('Shape dataset:', dataset.shape)\n",
        "print('\\nLima data teratas:\\n', dataset.head())\n",
        "print('\\nInformasi dataset:')\n",
        "print(dataset.info())\n",
        "print('\\nStatistik deskriptif:\\n', dataset.describe())"
      ],
      "execution_count": null,
      "outputs": [
        {
          "output_type": "stream",
          "text": [
            "Shape dataset: (12330, 18)\n",
            "\n",
            "Lima data teratas:\n",
            "    Administrative  Administrative_Duration  ...  Weekend  Revenue\n",
            "0             0.0                      0.0  ...    False    False\n",
            "1             0.0                      0.0  ...    False    False\n",
            "2             0.0                     -1.0  ...    False    False\n",
            "3             0.0                      0.0  ...    False    False\n",
            "4             0.0                      0.0  ...     True    False\n",
            "\n",
            "[5 rows x 18 columns]\n",
            "\n",
            "Informasi dataset:\n",
            "<class 'pandas.core.frame.DataFrame'>\n",
            "RangeIndex: 12330 entries, 0 to 12329\n",
            "Data columns (total 18 columns):\n",
            " #   Column                   Non-Null Count  Dtype  \n",
            "---  ------                   --------------  -----  \n",
            " 0   Administrative           12316 non-null  float64\n",
            " 1   Administrative_Duration  12316 non-null  float64\n",
            " 2   Informational            12316 non-null  float64\n",
            " 3   Informational_Duration   12316 non-null  float64\n",
            " 4   ProductRelated           12316 non-null  float64\n",
            " 5   ProductRelated_Duration  12316 non-null  float64\n",
            " 6   BounceRates              12316 non-null  float64\n",
            " 7   ExitRates                12316 non-null  float64\n",
            " 8   PageValues               12330 non-null  float64\n",
            " 9   SpecialDay               12330 non-null  float64\n",
            " 10  Month                    12330 non-null  object \n",
            " 11  OperatingSystems         12330 non-null  int64  \n",
            " 12  Browser                  12330 non-null  int64  \n",
            " 13  Region                   12330 non-null  int64  \n",
            " 14  TrafficType              12330 non-null  int64  \n",
            " 15  VisitorType              12330 non-null  object \n",
            " 16  Weekend                  12330 non-null  bool   \n",
            " 17  Revenue                  12330 non-null  bool   \n",
            "dtypes: bool(2), float64(10), int64(4), object(2)\n",
            "memory usage: 1.5+ MB\n",
            "None\n",
            "\n",
            "Statistik deskriptif:\n",
            "        Administrative  Administrative_Duration  ...        Region   TrafficType\n",
            "count    12316.000000             12316.000000  ...  12330.000000  12330.000000\n",
            "mean         2.317798                80.906176  ...      3.147364      4.069586\n",
            "std          3.322754               176.860432  ...      2.401591      4.025169\n",
            "min          0.000000                -1.000000  ...      1.000000      1.000000\n",
            "25%          0.000000                 0.000000  ...      1.000000      2.000000\n",
            "50%          1.000000                 8.000000  ...      3.000000      2.000000\n",
            "75%          4.000000                93.500000  ...      4.000000      4.000000\n",
            "max         27.000000              3398.750000  ...      9.000000     20.000000\n",
            "\n",
            "[8 rows x 14 columns]\n"
          ],
          "name": "stdout"
        }
      ]
    },
    {
      "cell_type": "code",
      "metadata": {
        "id": "IusV9LbqDChU",
        "outputId": "5f53c0ce-9417-4204-b1f3-c6053daa6b0f",
        "colab": {
          "base_uri": "https://localhost:8080/"
        }
      },
      "source": [
        "dataset_corr = dataset.corr()\n",
        "print('Korelasi dataset:\\n', dataset.corr())\n",
        "print('Distribusi Label (Revenue):\\n', dataset['Revenue'].value_counts())\n",
        "# Tugas praktek\n",
        "print('\\nKorelasi BounceRates-ExitRates:', dataset_corr.loc['BounceRates', 'ExitRates'])\n",
        "print('\\nKorelasi Revenue-PageValues:', dataset_corr.loc['Revenue', 'PageValues'])\n",
        "print('\\nKorelasi TrafficType-Weekend:', dataset_corr.loc['TrafficType', 'Weekend'])"
      ],
      "execution_count": null,
      "outputs": [
        {
          "output_type": "stream",
          "text": [
            "Korelasi dataset:\n",
            "                          Administrative  ...   Revenue\n",
            "Administrative                 1.000000  ...  0.138631\n",
            "Administrative_Duration        0.601466  ...  0.093395\n",
            "Informational                  0.376782  ...  0.095085\n",
            "Informational_Duration         0.255757  ...  0.070250\n",
            "ProductRelated                 0.430832  ...  0.158280\n",
            "ProductRelated_Duration        0.373647  ...  0.152130\n",
            "BounceRates                   -0.223474  ... -0.150621\n",
            "ExitRates                     -0.316192  ... -0.206886\n",
            "PageValues                     0.098771  ...  0.492569\n",
            "SpecialDay                    -0.095054  ... -0.082305\n",
            "OperatingSystems              -0.006459  ... -0.014668\n",
            "Browser                       -0.025243  ...  0.023984\n",
            "Region                        -0.005680  ... -0.011595\n",
            "TrafficType                   -0.033748  ... -0.005113\n",
            "Weekend                        0.026404  ...  0.029295\n",
            "Revenue                        0.138631  ...  1.000000\n",
            "\n",
            "[16 rows x 16 columns]\n",
            "Distribusi Label (Revenue):\n",
            " False    10422\n",
            "True      1908\n",
            "Name: Revenue, dtype: int64\n",
            "\n",
            "Korelasi BounceRates-ExitRates: 0.9134364214595944\n",
            "\n",
            "Korelasi Revenue-PageValues: 0.49256929525114623\n",
            "\n",
            "Korelasi TrafficType-Weekend: -0.0022212292430307825\n"
          ],
          "name": "stdout"
        }
      ]
    },
    {
      "cell_type": "markdown",
      "metadata": {
        "id": "JnwAJvvuDWkj"
      },
      "source": [
        "## **Eksplorasi Data: Memahami Data dengan Visual**"
      ]
    },
    {
      "cell_type": "code",
      "metadata": {
        "id": "SncK4hziDYqY",
        "outputId": "049be2fc-6f0a-45ee-9dea-9620e2be2bde",
        "colab": {
          "base_uri": "https://localhost:8080/",
          "height": 445
        }
      },
      "source": [
        "import matplotlib.pyplot as plt\n",
        "import seaborn as sns\n",
        "# checking the Distribution of customers on Revenue\n",
        "plt.rcParams['figure.figsize'] = (12,5)\n",
        "plt.subplot(1, 2, 1)\n",
        "sns.countplot(dataset['Revenue'], palette = 'pastel')\n",
        "plt.title('Buy or Not', fontsize = 20)\n",
        "plt.xlabel('Revenue or not', fontsize = 14)\n",
        "plt.ylabel('count', fontsize = 14)\n",
        "# checking the Distribution of customers on Weekend\n",
        "plt.subplot(1, 2, 2)\n",
        "sns.countplot(dataset['Weekend'], palette = 'inferno')\n",
        "plt.title('Purchase on Weekends', fontsize = 20)\n",
        "plt.xlabel('Weekend or not', fontsize = 14)\n",
        "plt.ylabel('count', fontsize = 14)\n",
        "plt.show()"
      ],
      "execution_count": null,
      "outputs": [
        {
          "output_type": "stream",
          "text": [
            "/usr/local/lib/python3.6/dist-packages/seaborn/_decorators.py:43: FutureWarning: Pass the following variable as a keyword arg: x. From version 0.12, the only valid positional argument will be `data`, and passing other arguments without an explicit keyword will result in an error or misinterpretation.\n",
            "  FutureWarning\n",
            "/usr/local/lib/python3.6/dist-packages/seaborn/_decorators.py:43: FutureWarning: Pass the following variable as a keyword arg: x. From version 0.12, the only valid positional argument will be `data`, and passing other arguments without an explicit keyword will result in an error or misinterpretation.\n",
            "  FutureWarning\n"
          ],
          "name": "stderr"
        },
        {
          "output_type": "display_data",
          "data": {
            "image/png": "[encoded data removed]",
            "text/plain": [
              "<Figure size 864x360 with 2 Axes>"
            ]
          },
          "metadata": {
            "tags": [],
            "needs_background": "light"
          }
        }
      ]
    },
    {
      "cell_type": "code",
      "metadata": {
        "id": "wCSCyGYUD0Jg",
        "outputId": "e3d504aa-4a6b-40d9-fd2b-afb4510c1264",
        "colab": {
          "base_uri": "https://localhost:8080/",
          "height": 358
        }
      },
      "source": [
        "import matplotlib.pyplot as plt\n",
        "# visualizing the distribution of customers around the Region\n",
        "plt.hist(dataset['Region'], color = 'lightblue')\n",
        "plt.title('Distribution of Customers', fontsize = 20)\n",
        "plt.xlabel('Region Codes', fontsize = 14)\n",
        "plt.ylabel('Count Users', fontsize = 14)\n",
        "plt.show()"
      ],
      "execution_count": null,
      "outputs": [
        {
          "output_type": "display_data",
          "data": {
            "image/png": "[encoded data removed]",
            "text/plain": [
              "<Figure size 864x360 with 1 Axes>"
            ]
          },
          "metadata": {
            "tags": [],
            "needs_background": "light"
          }
        }
      ]
    },
    {
      "cell_type": "markdown",
      "metadata": {
        "id": "FtVfDqwvEcgz"
      },
      "source": [
        "## **Data Pre-processing: Handling Missing Value - Part 1**"
      ]
    },
    {
      "cell_type": "code",
      "metadata": {
        "id": "Te6uvwc5Eea2",
        "outputId": "2b903aef-55a0-4695-ee5f-6e125675590d",
        "colab": {
          "base_uri": "https://localhost:8080/"
        }
      },
      "source": [
        "#checking missing value for each feature\n",
        "print('Checking missing value for each feature:')\n",
        "print(dataset.isnull().sum())\n",
        "#Counting total missing value\n",
        "print('\\nCounting total missing value:')\n",
        "print(dataset.isnull().sum().sum())"
      ],
      "execution_count": null,
      "outputs": [
        {
          "output_type": "stream",
          "text": [
            "Checking missing value for each feature:\n",
            "Administrative             14\n",
            "Administrative_Duration    14\n",
            "Informational              14\n",
            "Informational_Duration     14\n",
            "ProductRelated             14\n",
            "ProductRelated_Duration    14\n",
            "BounceRates                14\n",
            "ExitRates                  14\n",
            "PageValues                  0\n",
            "SpecialDay                  0\n",
            "Month                       0\n",
            "OperatingSystems            0\n",
            "Browser                     0\n",
            "Region                      0\n",
            "TrafficType                 0\n",
            "VisitorType                 0\n",
            "Weekend                     0\n",
            "Revenue                     0\n",
            "dtype: int64\n",
            "\n",
            "Counting total missing value:\n",
            "112\n"
          ],
          "name": "stdout"
        }
      ]
    },
    {
      "cell_type": "code",
      "metadata": {
        "id": "HHqpI_aoEm1D",
        "outputId": "79c9f8a0-1ed0-42a7-f8ab-e4039d8ea7c4",
        "colab": {
          "base_uri": "https://localhost:8080/"
        }
      },
      "source": [
        "#Drop rows with missing value\n",
        "dataset_clean = dataset.dropna()\n",
        "print('Ukuran dataset_clean:', dataset_clean.shape)"
      ],
      "execution_count": null,
      "outputs": [
        {
          "output_type": "stream",
          "text": [
            "Ukuran dataset_clean: (12316, 18)\n"
          ],
          "name": "stdout"
        }
      ]
    },
    {
      "cell_type": "markdown",
      "metadata": {
        "id": "JGTs1bE3Ex73"
      },
      "source": [
        "Imputing missing value sangat mudah dilakukan di Python, cukup memanfaatkan fungsi .fillna() dan .mean() dari Pandas, seperti berikut:"
      ]
    },
    {
      "cell_type": "code",
      "metadata": {
        "id": "bYFWdknDE4aK",
        "outputId": "8c92324c-68e6-42df-f6fc-2e40f2fde79a",
        "colab": {
          "base_uri": "https://localhost:8080/"
        }
      },
      "source": [
        "print(\"Before imputation:\")\n",
        "# Checking missing value for each feature\n",
        "print(dataset.isnull().sum())\n",
        "# Counting total missing value\n",
        "print(dataset.isnull().sum().sum())\n",
        "\n",
        "print(\"\\nAfter imputation:\")\n",
        "# Fill missing value with mean of feature value\n",
        "dataset.fillna(dataset.mean(), inplace = True)\n",
        "# Checking missing value for each feature\n",
        "print(dataset.isnull().sum())\n",
        "# Counting total missing value\n",
        "print(dataset.isnull().sum().sum())"
      ],
      "execution_count": null,
      "outputs": [
        {
          "output_type": "stream",
          "text": [
            "Before imputation:\n",
            "Administrative             14\n",
            "Administrative_Duration    14\n",
            "Informational              14\n",
            "Informational_Duration     14\n",
            "ProductRelated             14\n",
            "ProductRelated_Duration    14\n",
            "BounceRates                14\n",
            "ExitRates                  14\n",
            "PageValues                  0\n",
            "SpecialDay                  0\n",
            "Month                       0\n",
            "OperatingSystems            0\n",
            "Browser                     0\n",
            "Region                      0\n",
            "TrafficType                 0\n",
            "VisitorType                 0\n",
            "Weekend                     0\n",
            "Revenue                     0\n",
            "dtype: int64\n",
            "112\n",
            "\n",
            "After imputation:\n",
            "Administrative             0\n",
            "Administrative_Duration    0\n",
            "Informational              0\n",
            "Informational_Duration     0\n",
            "ProductRelated             0\n",
            "ProductRelated_Duration    0\n",
            "BounceRates                0\n",
            "ExitRates                  0\n",
            "PageValues                 0\n",
            "SpecialDay                 0\n",
            "Month                      0\n",
            "OperatingSystems           0\n",
            "Browser                    0\n",
            "Region                     0\n",
            "TrafficType                0\n",
            "VisitorType                0\n",
            "Weekend                    0\n",
            "Revenue                    0\n",
            "dtype: int64\n",
            "0\n"
          ],
          "name": "stdout"
        }
      ]
    },
    {
      "cell_type": "markdown",
      "metadata": {
        "id": "taCQt0gZFxkG"
      },
      "source": [
        "## **Data Preprocessing: Scaling**"
      ]
    },
    {
      "cell_type": "code",
      "metadata": {
        "id": "BJfMfEaTFcOG",
        "outputId": "47c0e28c-3c3f-45df-91fd-bdc1bf6018eb",
        "colab": {
          "base_uri": "https://localhost:8080/"
        }
      },
      "source": [
        "from sklearn.preprocessing import MinMaxScaler\n",
        "#Define MinMaxScaler as scaler\n",
        "scaler = MinMaxScaler()\n",
        "#list all the feature that need to be scaled\n",
        "scaling_column = ['Administrative','Administrative_Duration','Informational','Informational_Duration','ProductRelated','ProductRelated_Duration','BounceRates','ExitRates','PageValues']\n",
        "#Apply fit_transfrom to scale selected feature\n",
        "dataset[scaling_column] = scaler.fit_transform(dataset[scaling_column])\n",
        "#Cheking min and max value of the scaling_column\n",
        "print(dataset[scaling_column].describe().T[['min','max']])"
      ],
      "execution_count": null,
      "outputs": [
        {
          "output_type": "stream",
          "text": [
            "                         min  max\n",
            "Administrative           0.0  1.0\n",
            "Administrative_Duration  0.0  1.0\n",
            "Informational            0.0  1.0\n",
            "Informational_Duration   0.0  1.0\n",
            "ProductRelated           0.0  1.0\n",
            "ProductRelated_Duration  0.0  1.0\n",
            "BounceRates              0.0  1.0\n",
            "ExitRates                0.0  1.0\n",
            "PageValues               0.0  1.0\n"
          ],
          "name": "stdout"
        }
      ]
    },
    {
      "cell_type": "markdown",
      "metadata": {
        "id": "cgGaLpW4GP3o"
      },
      "source": [
        "## **Data Pre-processing: Konversi string ke numerik**"
      ]
    },
    {
      "cell_type": "code",
      "metadata": {
        "id": "uu0Gq8o5GR-N",
        "outputId": "797d9bee-b070-433a-9ba0-9ce0593f5b4e",
        "colab": {
          "base_uri": "https://localhost:8080/"
        }
      },
      "source": [
        "import numpy as np\n",
        "from sklearn.preprocessing import LabelEncoder\n",
        "# Convert feature/column 'Month'\n",
        "LE = LabelEncoder()\n",
        "dataset['Month'] = LE.fit_transform(dataset['Month'])\n",
        "print(LE.classes_)\n",
        "print(np.sort(dataset['Month'].unique()))\n",
        "print('')\n",
        "\n",
        "# Convert feature/column 'VisitorType'\n",
        "LE = LabelEncoder()\n",
        "dataset['VisitorType'] = LE.fit_transform(dataset['VisitorType'])\n",
        "print(LE.classes_)\n",
        "print(np.sort(dataset['VisitorType'].unique()))"
      ],
      "execution_count": null,
      "outputs": [
        {
          "output_type": "stream",
          "text": [
            "['Aug' 'Dec' 'Feb' 'Jul' 'June' 'Mar' 'May' 'Nov' 'Oct' 'Sep']\n",
            "[0 1 2 3 4 5 6 7 8 9]\n",
            "\n",
            "['New_Visitor' 'Other' 'Returning_Visitor']\n",
            "[0 1 2]\n"
          ],
          "name": "stdout"
        }
      ]
    },
    {
      "cell_type": "markdown",
      "metadata": {
        "id": "n-InWmE9GodR"
      },
      "source": [
        "# **Pemodelan dengan Scikit-Learn**"
      ]
    },
    {
      "cell_type": "markdown",
      "metadata": {
        "id": "Op6US-KKGq2D"
      },
      "source": [
        "## **Features & Label**\n",
        "\n",
        "Dalam dataset user online purchase, label target sudah diketahui, yaitu kolom Revenue yang bernilai 1 untuk user yang membeli dan 0 untuk yang tidak membeli, sehingga pemodelan yang dilakukan ini adalah klasifikasi. Nah, untuk melatih dataset menggunakan Scikit-Learn library, dataset perlu dipisahkan ke dalam Features dan Label/Target. Variabel Feature akan terdiri dari variabel yang dideklarasikan sebagai X dan [Revenue] adalah variabel Target yang dideklarasikan sebagai y. Gunakan fungsi drop() untuk menghapus kolom [Revenue] dari dataset."
      ]
    },
    {
      "cell_type": "code",
      "metadata": {
        "id": "Pjk_6tMQGuBU",
        "outputId": "93a533c6-d97f-4594-9de6-b1eef8362c66",
        "colab": {
          "base_uri": "https://localhost:8080/"
        }
      },
      "source": [
        "# removing the target column Revenue from dataset and assigning to X\n",
        "X = dataset.drop(['Revenue'], axis = 1)\n",
        "# assigning the target column Revenue to y\n",
        "y = dataset['Revenue']\n",
        "# checking the shapes\n",
        "print(\"Shape of X:\", X.shape)\n",
        "print(\"Shape of y:\", y.shape)"
      ],
      "execution_count": null,
      "outputs": [
        {
          "output_type": "stream",
          "text": [
            "Shape of X: (12330, 17)\n",
            "Shape of y: (12330,)\n"
          ],
          "name": "stdout"
        }
      ]
    },
    {
      "cell_type": "markdown",
      "metadata": {
        "id": "BmVBbi4JG0SD"
      },
      "source": [
        "## **Training dan Test Dataset**"
      ]
    },
    {
      "cell_type": "code",
      "metadata": {
        "id": "WlPzUw4uG2Kf",
        "outputId": "9caf6fc7-65c0-4a61-8838-0314792ecacb",
        "colab": {
          "base_uri": "https://localhost:8080/"
        }
      },
      "source": [
        "from sklearn.model_selection import train_test_split\n",
        "# splitting the X, and y\n",
        "X_train, X_test, y_train, y_test = train_test_split(X, y, test_size = 0.2, random_state = 0)\n",
        "# checking the shapes\n",
        "print(\"Shape of X_train :\", X_train.shape)\n",
        "print(\"Shape of y_train :\", y_train.shape)\n",
        "print(\"Shape of X_test :\", X_test.shape)\n",
        "print(\"Shape of y_test :\", y_test.shape)"
      ],
      "execution_count": null,
      "outputs": [
        {
          "output_type": "stream",
          "text": [
            "Shape of X_train : (9864, 17)\n",
            "Shape of y_train : (9864,)\n",
            "Shape of X_test : (2466, 17)\n",
            "Shape of y_test : (2466,)\n"
          ],
          "name": "stdout"
        }
      ]
    },
    {
      "cell_type": "markdown",
      "metadata": {
        "id": "1y5tZ08wG5Hl"
      },
      "source": [
        "## **Training Model: Fit**"
      ]
    },
    {
      "cell_type": "code",
      "metadata": {
        "id": "ZXBdADiKG8wn"
      },
      "source": [
        "from sklearn.tree import DecisionTreeClassifier\n",
        "# Call the classifier\n",
        "model = DecisionTreeClassifier()\n",
        "# Fit the classifier to the training data\n",
        "model = model.fit(X_train,y_train)"
      ],
      "execution_count": null,
      "outputs": []
    },
    {
      "cell_type": "markdown",
      "metadata": {
        "id": "iD4xAFZvHDYo"
      },
      "source": [
        "## **Training Model: Predict**"
      ]
    },
    {
      "cell_type": "code",
      "metadata": {
        "id": "PMFJHLr3HFTk",
        "outputId": "250fddc8-7f70-4c0f-f9d4-5f6a9f84c999",
        "colab": {
          "base_uri": "https://localhost:8080/"
        }
      },
      "source": [
        "# Apply the classifier/model to the test data\n",
        "y_pred = model.predict(X_test)\n",
        "print(y_pred.shape)"
      ],
      "execution_count": null,
      "outputs": [
        {
          "output_type": "stream",
          "text": [
            "(2466,)\n"
          ],
          "name": "stdout"
        }
      ]
    },
    {
      "cell_type": "markdown",
      "metadata": {
        "id": "1lN8-1tLHScC"
      },
      "source": [
        "## **Evaluasi Model Performance**\n",
        "Untuk menampilkan confusion matrix cukup menggunakan fungsi confusion_matrix() dari Scikit-Learn"
      ]
    },
    {
      "cell_type": "code",
      "metadata": {
        "id": "BZukWWlaIsqk",
        "outputId": "8b9c74f3-b812-4ab3-c98c-6144f29e03e0",
        "colab": {
          "base_uri": "https://localhost:8080/"
        }
      },
      "source": [
        "from sklearn.metrics import confusion_matrix, classification_report\n",
        "\n",
        "# evaluating the model\n",
        "print('Training Accuracy :', model.score(X_train, y_train))\n",
        "print('Testing Accuracy :', model.score(X_test, y_test))\n",
        "\n",
        "# confusion matrix\n",
        "print('\\nConfusion matrix:')\n",
        "cm = confusion_matrix(y_test, y_pred)\n",
        "print(cm)\n",
        "\n",
        "# classification report\n",
        "print('\\nClassification report:')\n",
        "cr = classification_report(y_test, y_pred)\n",
        "print(cr)"
      ],
      "execution_count": null,
      "outputs": [
        {
          "output_type": "stream",
          "text": [
            "Training Accuracy : 1.0\n",
            "Testing Accuracy : 0.8584752635847527\n",
            "\n",
            "Confusion matrix:\n",
            "[[1885  159]\n",
            " [ 190  232]]\n",
            "\n",
            "Classification report:\n",
            "              precision    recall  f1-score   support\n",
            "\n",
            "       False       0.91      0.92      0.92      2044\n",
            "        True       0.59      0.55      0.57       422\n",
            "\n",
            "    accuracy                           0.86      2466\n",
            "   macro avg       0.75      0.74      0.74      2466\n",
            "weighted avg       0.85      0.86      0.86      2466\n",
            "\n"
          ],
          "name": "stdout"
        }
      ]
    },
    {
      "cell_type": "markdown",
      "metadata": {
        "id": "atPdHy6QJEal"
      },
      "source": [
        "# **Pemodelan Permasalahan Klasifikasi dengan Logistic Regression**\n",
        "\n",
        "\n",
        "Pemodelan Logistic Regression dengan memanfaatkan Scikit-Learn sangatlah mudah. Dengan menggunakan dataset yang sama yaitu online_raw, dan setelah dataset dibagi ke dalam Training Set dan Test Set, cukup menggunakan modul linear_model dari Scikit-learn, dan memanggil fungsi LogisticRegression() yang diberi nama logreg.\n",
        "\n",
        "Kemudian, model yang sudah ditraining ini  bisa digunakan untuk memprediksi output/label dari test dataset sekaligus mengevaluasi model performance dengan fungsi score(), confusion_matrix() dan classification_report()."
      ]
    },
    {
      "cell_type": "code",
      "metadata": {
        "id": "foHV22PzJSRG",
        "outputId": "73cf9edb-b2e3-433a-abc4-7a9eb1482a73",
        "colab": {
          "base_uri": "https://localhost:8080/"
        }
      },
      "source": [
        "from sklearn.linear_model import LogisticRegression\n",
        "from sklearn.metrics import confusion_matrix, classification_report\n",
        "\n",
        "# Call the classifier\n",
        "logreg = LogisticRegression()\n",
        "# Fit the classifier to the training data\n",
        "logreg = logreg.fit(X_train,y_train)\n",
        "#Training Model: Predict\n",
        "y_pred = logreg.predict(X_test)\n",
        "\n",
        "#Evaluate Model Performance\n",
        "print('Training Accuracy :', model.score(X_train, y_train))\n",
        "print('Testing Accuracy :', model.score(X_test, y_test))\n",
        "\n",
        "# confusion matrix\n",
        "print('\\nConfusion matrix')\n",
        "cm = confusion_matrix(y_test, y_pred)\n",
        "print(cm)\n",
        "\n",
        "# classification report\n",
        "print('\\nClassification report')\n",
        "cr = classification_report(y_test, y_pred)\n",
        "print(cr)"
      ],
      "execution_count": null,
      "outputs": [
        {
          "output_type": "stream",
          "text": [
            "Training Accuracy : 1.0\n",
            "Testing Accuracy : 0.8584752635847527\n",
            "\n",
            "Confusion matrix\n",
            "[[2010   34]\n",
            " [ 316  106]]\n",
            "\n",
            "Classification report\n",
            "              precision    recall  f1-score   support\n",
            "\n",
            "       False       0.86      0.98      0.92      2044\n",
            "        True       0.76      0.25      0.38       422\n",
            "\n",
            "    accuracy                           0.86      2466\n",
            "   macro avg       0.81      0.62      0.65      2466\n",
            "weighted avg       0.85      0.86      0.83      2466\n",
            "\n"
          ],
          "name": "stdout"
        },
        {
          "output_type": "stream",
          "text": [
            "/usr/local/lib/python3.6/dist-packages/sklearn/linear_model/_logistic.py:940: ConvergenceWarning: lbfgs failed to converge (status=1):\n",
            "STOP: TOTAL NO. of ITERATIONS REACHED LIMIT.\n",
            "\n",
            "Increase the number of iterations (max_iter) or scale the data as shown in:\n",
            "    https://scikit-learn.org/stable/modules/preprocessing.html\n",
            "Please also refer to the documentation for alternative solver options:\n",
            "    https://scikit-learn.org/stable/modules/linear_model.html#logistic-regression\n",
            "  extra_warning_msg=_LOGISTIC_SOLVER_CONVERGENCE_MSG)\n"
          ],
          "name": "stderr"
        }
      ]
    },
    {
      "cell_type": "markdown",
      "metadata": {
        "id": "fbvn8VrTJxEN"
      },
      "source": [
        "## **Classification - Decision Tree**"
      ]
    },
    {
      "cell_type": "code",
      "metadata": {
        "id": "DrTGL07yJ1ZK",
        "outputId": "bcbec1e3-8b9a-4cc5-a7ed-d45fcf08f82a",
        "colab": {
          "base_uri": "https://localhost:8080/"
        }
      },
      "source": [
        "from sklearn.model_selection import train_test_split\n",
        "from sklearn.tree import DecisionTreeClassifier\n",
        "\n",
        "# splitting the data\n",
        "X_train, X_test, y_train, y_test = train_test_split(X, y, test_size = 0.3, random_state = 0)\n",
        "\n",
        "# Call the classifier\n",
        "decision_tree = DecisionTreeClassifier()\n",
        "# Fit the classifier to the training data\n",
        "decision_tree = decision_tree.fit(X_train,y_train)\n",
        "\n",
        "# evaluating the decision_tree performance\n",
        "print('Training Accuracy :', decision_tree.score(X_train, y_train))\n",
        "print('Testing Accuracy :', decision_tree.score(X_test, y_test))"
      ],
      "execution_count": null,
      "outputs": [
        {
          "output_type": "stream",
          "text": [
            "Training Accuracy : 1.0\n",
            "Testing Accuracy : 0.8667207353338741\n"
          ],
          "name": "stdout"
        }
      ]
    },
    {
      "cell_type": "markdown",
      "metadata": {
        "id": "YxRmwHbbJ5hk"
      },
      "source": [
        "## **Regression: Linear Regression**"
      ]
    },
    {
      "cell_type": "code",
      "metadata": {
        "id": "SgmpJ75aJ_HI",
        "outputId": "f60d5eaa-d116-4e46-fcbc-66ddb0beb2ec",
        "colab": {
          "base_uri": "https://localhost:8080/"
        }
      },
      "source": [
        "#load dataset\n",
        "import pandas as pd\n",
        "housing = pd.read_csv('https://dqlab-dataset.s3-ap-southeast-1.amazonaws.com/pythonTutorial/housing_boston.csv')\n",
        "#Data rescaling\n",
        "from sklearn import preprocessing\n",
        "data_scaler = preprocessing.MinMaxScaler(feature_range=(0,1))\n",
        "housing[['RM','LSTAT','PTRATIO','MEDV']] = data_scaler.fit_transform(housing[['RM','LSTAT','PTRATIO','MEDV']])\n",
        "# getting dependent and independent variables\n",
        "X = housing.drop(['MEDV'], axis = 1)\n",
        "y = housing['MEDV']\n",
        "# checking the shapes\n",
        "print('Shape of X:', X.shape)\n",
        "print('Shape of y:', y.shape)\n",
        "\n",
        "# splitting the data\n",
        "from sklearn.model_selection import train_test_split\n",
        "X_train, X_test, y_train, y_test = train_test_split(X, y, test_size = 0.3, random_state = 0)\n",
        "# checking the shapes\n",
        "print('Shape of X_train :', X_train.shape)\n",
        "print('Shape of y_train :', y_train.shape)\n",
        "print('Shape of X_test :', X_test.shape)\n",
        "print('Shape of y_test :', y_test.shape)\n",
        "\n",
        "##import regressor from Scikit-Learn\n",
        "from sklearn.linear_model import LinearRegression\n",
        "# Call the regressor\n",
        "reg = LinearRegression()\n",
        "# Fit the regressor to the training data\n",
        "reg = reg.fit(X_train,y_train)\n",
        "# Apply the regressor/model to the test data\n",
        "y_pred = reg.predict(X_test)"
      ],
      "execution_count": null,
      "outputs": [
        {
          "output_type": "stream",
          "text": [
            "Shape of X: (489, 3)\n",
            "Shape of y: (489,)\n",
            "Shape of X_train : (342, 3)\n",
            "Shape of y_train : (342,)\n",
            "Shape of X_test : (147, 3)\n",
            "Shape of y_test : (147,)\n"
          ],
          "name": "stdout"
        }
      ]
    },
    {
      "cell_type": "markdown",
      "metadata": {
        "id": "X8LeES28KFWJ"
      },
      "source": [
        "## **Regression Performance Evaluation**"
      ]
    },
    {
      "cell_type": "code",
      "metadata": {
        "id": "TNxg8rCAKHBB",
        "outputId": "05b8ca17-c68d-49b5-84f7-39464d5d00f2",
        "colab": {
          "base_uri": "https://localhost:8080/",
          "height": 400
        }
      },
      "source": [
        "from sklearn.metrics import mean_squared_error, mean_absolute_error\n",
        "import numpy as np\n",
        "import matplotlib.pyplot as plt\n",
        "\n",
        "#Calculating MSE, lower the value better it is. 0 means perfect prediction\n",
        "mse = mean_squared_error(y_test, y_pred)\n",
        "print('Mean squared error of testing set:', mse)\n",
        "#Calculating MAE\n",
        "mae = mean_absolute_error(y_test, y_pred)\n",
        "print('Mean absolute error of testing set:', mae)\n",
        "#Calculating RMSE\n",
        "rmse = np.sqrt(mse)\n",
        "print('Root Mean Squared Error of testing set:', rmse)\n",
        "\n",
        "#Plotting y_test dan y_pred\n",
        "plt.scatter(y_test, y_pred, c = 'green')\n",
        "plt.xlabel('Price Actual')\n",
        "plt.ylabel('Predicted value')\n",
        "plt.title('True value vs predicted value : Linear Regression')\n",
        "plt.show()"
      ],
      "execution_count": null,
      "outputs": [
        {
          "output_type": "stream",
          "text": [
            "Mean squared error of testing set: 0.010913024655841009\n",
            "Mean absolute error of testing set: 0.07789896103120689\n",
            "Root Mean Squared Error of testing set: 0.1044654232549747\n"
          ],
          "name": "stdout"
        },
        {
          "output_type": "display_data",
          "data": {
            "image/png": "[encoded data removed]",
            "text/plain": [
              "<Figure size 864x360 with 1 Axes>"
            ]
          },
          "metadata": {
            "tags": [],
            "needs_background": "light"
          }
        }
      ]
    },
    {
      "cell_type": "markdown",
      "metadata": {
        "id": "gXA3Cu3EKUAx"
      },
      "source": [
        "## **K-Means Clustering**"
      ]
    },
    {
      "cell_type": "code",
      "metadata": {
        "id": "XpkuxhjxKZK8"
      },
      "source": [
        "#import library\n",
        "import pandas as pd\n",
        "from sklearn.cluster import KMeans\n",
        "\n",
        "#load dataset\n",
        "dataset = pd.read_csv('https://dqlab-dataset.s3-ap-southeast-1.amazonaws.com/pythonTutorial/mall_customers.csv')\n",
        "\n",
        "#selecting features\n",
        "X = dataset[['annual_income','spending_score']]\n",
        "\n",
        "#Define KMeans as cluster_model\n",
        "cluster_model = KMeans(n_clusters = 5, random_state = 24)\n",
        "labels = cluster_model.fit_predict(X)"
      ],
      "execution_count": null,
      "outputs": []
    },
    {
      "cell_type": "code",
      "metadata": {
        "id": "cBot5wxwKkIL",
        "outputId": "767f3079-3669-434e-dda7-d6fe27e25e86",
        "colab": {
          "base_uri": "https://localhost:8080/",
          "height": 354
        }
      },
      "source": [
        "#import library\n",
        "import matplotlib.pyplot as plt\n",
        "\n",
        "#convert dataframe to array\n",
        "X = X.values\n",
        "#Separate X to xs and ys --> use for chart axis\n",
        "xs = X[:,0]\n",
        "ys = X[:,1]\n",
        "# Make a scatter plot of xs and ys, using labels to define the colors\n",
        "plt.scatter(xs,ys,c=labels, alpha=0.5)\n",
        "\n",
        "# Assign the cluster centers: centroids\n",
        "centroids = cluster_model.cluster_centers_\n",
        "# Assign the columns of centroids: centroids_x, centroids_y\n",
        "centroids_x = centroids[:,0]\n",
        "centroids_y = centroids[:,1]\n",
        "# Make a scatter plot of centroids_x and centroids_y\n",
        "plt.scatter(centroids_x,centroids_y,marker='D', s=50)\n",
        "plt.title('K Means Clustering', fontsize = 20)\n",
        "plt.xlabel('Annual Income')\n",
        "plt.ylabel('Spending Score')\n",
        "plt.show()"
      ],
      "execution_count": null,
      "outputs": [
        {
          "output_type": "display_data",
          "data": {
            "image/png": "[encoded data removed]",
            "text/plain": [
              "<Figure size 864x360 with 1 Axes>"
            ]
          },
          "metadata": {
            "tags": [],
            "needs_background": "light"
          }
        }
      ]
    },
    {
      "cell_type": "markdown",
      "metadata": {
        "id": "YvwZyvhKKuP7"
      },
      "source": [
        "## **Measuring Cluster Criteria**"
      ]
    },
    {
      "cell_type": "code",
      "metadata": {
        "id": "8MHN1FHFKwdb",
        "outputId": "66c609e3-c3cc-471a-e3ff-99862208f019",
        "colab": {
          "base_uri": "https://localhost:8080/",
          "height": 354
        }
      },
      "source": [
        "#import library\n",
        "from sklearn.cluster import KMeans\n",
        "import matplotlib.pyplot as plt\n",
        "\n",
        "#Elbow Method - Inertia plot\n",
        "inertia = []\n",
        "#looping the inertia calculation for each k\n",
        "for k in range(1, 10):\n",
        "  #Assign KMeans as cluster_model\n",
        "  cluster_model = KMeans(n_clusters = k, random_state = 24)\n",
        "  #Fit cluster_model to X\n",
        "  cluster_model.fit(X)\n",
        "  #Get the inertia value\n",
        "  inertia_value = cluster_model.inertia_\n",
        "  #Append the inertia_value to inertia list\n",
        "  inertia.append(inertia_value)\n",
        "\n",
        "##Inertia plot\n",
        "plt.plot(range(1, 10), inertia)\n",
        "plt.title('The Elbow Method - Inertia plot', fontsize = 20)\n",
        "plt.xlabel('No. of Clusters')\n",
        "plt.ylabel('inertia')\n",
        "plt.show()"
      ],
      "execution_count": null,
      "outputs": [
        {
          "output_type": "display_data",
          "data": {
            "image/png": "[encoded data removed]",
            "text/plain": [
              "<Figure size 864x360 with 1 Axes>"
            ]
          },
          "metadata": {
            "tags": [],
            "needs_background": "light"
          }
        }
      ]
    }
  ]
}