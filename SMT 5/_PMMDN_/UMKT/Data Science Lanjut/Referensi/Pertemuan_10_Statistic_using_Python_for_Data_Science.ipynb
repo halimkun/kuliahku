{
  "nbformat": 4,
  "nbformat_minor": 0,
  "metadata": {
    "colab": {
      "name": "Pertemuan 10 - Statistic using Python for Data Science.ipynb",
      "provenance": [],
      "collapsed_sections": []
    },
    "kernelspec": {
      "name": "python3",
      "display_name": "Python 3"
    }
  },
  "cells": [
    {
      "cell_type": "markdown",
      "metadata": {
        "id": "OfmmVRqHoQPu"
      },
      "source": [
        "# **Ukuran Pusat**"
      ]
    },
    {
      "cell_type": "markdown",
      "metadata": {
        "id": "aNWi2XLFn5-p"
      },
      "source": [
        "## **Rata-rata (Mean)**\n",
        "\n",
        "Kita dapat menghitung nilai rata-rata menggunakan method .mean() pada numpy atau pandas sebagaimana pada contoh berikut:\n",
        "\n"
      ]
    },
    {
      "cell_type": "code",
      "metadata": {
        "id": "SKxIJduRnvZI",
        "outputId": "65f3dc58-7524-443c-edf5-d6128129045a",
        "colab": {
          "base_uri": "https://localhost:8080/"
        }
      },
      "source": [
        "# memuat numpy sebagai np\n",
        "import numpy as np\n",
        " \n",
        "# memuat pandas sebagai pd\n",
        "import pandas as pd\n",
        "\n",
        "# memuat data bernama 'dataset_statistics.csv' dan memasukkan hasilnya ke dalam 'raw_data'\n",
        "raw_data = pd.read_csv(\"drive/My Drive/Dataset/dataset_statistic.csv\", sep=';')\n",
        "\n",
        "# mengambil hanya data untuk produk 'A'\n",
        "produk_A = raw_data[raw_data['Produk'] == 'A']\n",
        "\n",
        "# menghitung rerata pendapatan menggunakan method .mean pada objek pandas DataFrame\n",
        "print (produk_A['Pendapatan'].mean())\n",
        "\n",
        "# menghitung rerata pendapatan menggunakan method .mean pada objek pandas DataFrame dengan numpy\n",
        "print (np.mean(produk_A['Pendapatan']))"
      ],
      "execution_count": 4,
      "outputs": [
        {
          "output_type": "stream",
          "text": [
            "550000.0\n",
            "550000.0\n"
          ],
          "name": "stdout"
        }
      ]
    },
    {
      "cell_type": "markdown",
      "metadata": {
        "id": "ZkH-Cbjpp8yV"
      },
      "source": [
        "## **Median**\n",
        "\n",
        "Kita dapat menemukan nilai median dengan menggunakan method .median() pada numpy maupun pandas sebagaimana contoh berikut:"
      ]
    },
    {
      "cell_type": "code",
      "metadata": {
        "id": "CN3rzsuXqB5l",
        "outputId": "7640930a-f2d3-4c3c-94f2-d88ff9e02b30",
        "colab": {
          "base_uri": "https://localhost:8080/"
        }
      },
      "source": [
        "# memuat numpy sebagai np\n",
        "import numpy as np\n",
        " \n",
        "# memuat pandas sebagai pd\n",
        "import pandas as pd\n",
        "\n",
        "# memuat data bernama 'dataset_statistics.csv' dan memasukkan hasilnya ke dalam 'raw_data'\n",
        "raw_data = pd.read_csv(\"drive/My Drive/Dataset/dataset_statistic.csv\", sep=';')\n",
        "\n",
        "print (raw_data)\n",
        "# Hitung median dari pendapatan menggunakan pandas\n",
        "print (produk_A['Pendapatan'].median())\n",
        "\n",
        "# Hitung median dari pendapatan menggunakan numpy\n",
        "print (np.median(produk_A['Pendapatan']))"
      ],
      "execution_count": 6,
      "outputs": [
        {
          "output_type": "stream",
          "text": [
            "    ID Pelanggan     Nama  Jenis Kelamin  ...  Jumlah     Total  Tingkat Kepuasan\n",
            "0              1     Arif              1  ...        4   400000                 2\n",
            "1              2     Dian              2  ...        4  1000000                 2\n",
            "2              3    Dinda              2  ...        3   750000                 3\n",
            "3              4    Fajar              1  ...        2   200000                 3\n",
            "4              5      Ika              2  ...        4  1000000                 2\n",
            "5              6    Ilham              1  ...        4   600000                 3\n",
            "6              7    Indra              1  ...        5   750000                 1\n",
            "7              8  Kartika              2  ...        3   900000                 3\n",
            "8              9  Lestari              2  ...        2   600000                 1\n",
            "9             10      Lia              2  ...        5  1500000                 1\n",
            "10            11    Maria              2  ...        4   400000                 3\n",
            "11            12     Maya              2  ...        5   750000                 3\n",
            "12            13     Mila              2  ...        1   200000                 2\n",
            "13            14    Nurul              2  ...        5  1250000                 1\n",
            "14            15    Retno              2  ...        4   800000                 2\n",
            "15            16     Rini              2  ...        4   600000                 1\n",
            "16            17    Rizki              1  ...        5  1000000                 3\n",
            "17            18     Sari              2  ...        2   500000                 1\n",
            "18            19     Tyas              2  ...        4   400000                 3\n",
            "19            20    Wahyu              1  ...        3   600000                 1\n",
            "\n",
            "[20 rows x 9 columns]\n",
            "600000.0\n",
            "600000.0\n"
          ],
          "name": "stdout"
        }
      ]
    },
    {
      "cell_type": "markdown",
      "metadata": {
        "id": "bK3nGkXdqSlb"
      },
      "source": [
        "## **Modus**\n",
        "\n",
        "Kita dapat menggunakan method .count_values() pada pandas sebagaimana contoh berikut:"
      ]
    },
    {
      "cell_type": "code",
      "metadata": {
        "id": "u1Jj3IrLqK2p",
        "outputId": "f304d84a-60f2-42fc-ce1d-db7b0a68e4ab",
        "colab": {
          "base_uri": "https://localhost:8080/"
        }
      },
      "source": [
        "# memuat numpy sebagai np\n",
        "import numpy as np\n",
        " \n",
        "# memuat pandas sebagai pd\n",
        "import pandas as pd\n",
        "\n",
        "# memuat data bernama 'dataset_statistics.csv' dan memasukkan hasilnya ke dalam 'raw_data'\n",
        "raw_data = pd.read_csv(\"drive/My Drive/Dataset/dataset_statistic.csv\", sep=';')\n",
        "\n",
        "# Melihat jumlah dari masing-masing produk\n",
        "print (raw_data['Produk'].value_counts())"
      ],
      "execution_count": 7,
      "outputs": [
        {
          "output_type": "stream",
          "text": [
            "D    5\n",
            "A    4\n",
            "C    4\n",
            "B    4\n",
            "E    3\n",
            "Name: Produk, dtype: int64\n"
          ],
          "name": "stdout"
        }
      ]
    },
    {
      "cell_type": "markdown",
      "metadata": {
        "id": "LDqh1RIuqYhZ"
      },
      "source": [
        "## **Kuantil**\n",
        "\n",
        "Untuk mencari fraktil dari data, kita dapat menggunakan method .quantile dari pandas atau numpy sebagaimana contoh berikut:"
      ]
    },
    {
      "cell_type": "code",
      "metadata": {
        "id": "BPBtOX6Yqb6r",
        "outputId": "fdcf1e27-2b82-443b-d712-3cfe3c7faa0b",
        "colab": {
          "base_uri": "https://localhost:8080/"
        }
      },
      "source": [
        "# memuat numpy sebagai np\n",
        "import numpy as np\n",
        " \n",
        "# memuat pandas sebagai pd\n",
        "import pandas as pd\n",
        "\n",
        "# memuat data bernama 'dataset_statistics.csv' dan memasukkan hasilnya ke dalam 'raw_data'\n",
        "raw_data = pd.read_csv(\"drive/My Drive/Dataset/dataset_statistic.csv\", sep=';')\n",
        "\n",
        "# mencari median atau 50% dari data menggunakan pandas\n",
        "print (raw_data['Pendapatan'].quantile(q = 0.5))\n",
        "\n",
        "# mencari median atau 50% dari data menggunakan pandas\n",
        "print (np.quantile(raw_data['Pendapatan'], q=0.5))"
      ],
      "execution_count": 8,
      "outputs": [
        {
          "output_type": "stream",
          "text": [
            "875000.0\n",
            "875000.0\n"
          ],
          "name": "stdout"
        }
      ]
    },
    {
      "cell_type": "markdown",
      "metadata": {
        "id": "219BV6e_qlDy"
      },
      "source": [
        "## **Agregasi Data dengan method .agg()**\n",
        "Ada kalanya kita ingin menghitung sekaligus beberapa ukuran, misalnya menghitung nilai mean sekaligus menghitung nilai median. Kita dapat melakukan kedua hal tersebut dengan menggunakan method .agg() pada objek pandas DataFrame sebagaimana contoh berikut:\n",
        "\n"
      ]
    },
    {
      "cell_type": "code",
      "metadata": {
        "id": "s5QCNHBhqn6T",
        "outputId": "793134b7-1710-4d8d-bdac-7d7014cd12bc",
        "colab": {
          "base_uri": "https://localhost:8080/"
        }
      },
      "source": [
        "# memuat numpy sebagai np\n",
        "import numpy as np\n",
        " \n",
        "# memuat pandas sebagai pd\n",
        "import pandas as pd\n",
        "\n",
        "# memuat data bernama 'dataset_statistics.csv' dan memasukkan hasilnya ke dalam 'raw_data'\n",
        "raw_data = pd.read_csv(\"drive/My Drive/Dataset/dataset_statistic.csv\", sep=';')\n",
        "\n",
        "# menghitung rerata dan median usia (age) dan insulin (insu)\n",
        "print (raw_data[['Pendapatan', 'Harga']].agg([np.mean, np.median]))\n",
        "\n",
        "# menghitung rerata dan median Pendapatan dan Harga dari tiap produk\n",
        "print (raw_data[['Pendapatan', 'Harga', 'Produk']].groupby('Produk').agg([np.mean, np.median]))"
      ],
      "execution_count": 10,
      "outputs": [
        {
          "output_type": "stream",
          "text": [
            "        Pendapatan     Harga\n",
            "mean     1160000.0  197500.0\n",
            "median    875000.0  200000.0\n",
            "       Pendapatan            Harga        \n",
            "             mean   median    mean  median\n",
            "Produk                                    \n",
            "A          550000   600000  100000  100000\n",
            "B          875000   875000  150000  150000\n",
            "C          850000   900000  200000  200000\n",
            "D         2100000  1200000  250000  250000\n",
            "E         1200000  1100000  300000  300000\n"
          ],
          "name": "stdout"
        }
      ]
    },
    {
      "cell_type": "markdown",
      "metadata": {
        "id": "Bnk_Na6jq2il"
      },
      "source": [
        "# **Ukuran Sebaran**"
      ]
    },
    {
      "cell_type": "markdown",
      "metadata": {
        "id": "gjkQL5e5q-kJ"
      },
      "source": [
        "## **Proporsi Kategori**\n",
        "Proporsi kategori adalah ukuran sebaran yang paling sederhana dari ukuran sebaran pada data nomisal dan ordinal. Secara matematis dapat dirumuskan sebagai:"
      ]
    },
    {
      "cell_type": "code",
      "metadata": {
        "id": "US5-4yP5q4qu",
        "outputId": "83f4a3ca-6c55-4cb9-dc3c-9a3205c7c7b7",
        "colab": {
          "base_uri": "https://localhost:8080/"
        }
      },
      "source": [
        "# memuat numpy sebagai np\n",
        "import numpy as np\n",
        " \n",
        "# memuat pandas sebagai pd\n",
        "import pandas as pd\n",
        "\n",
        "# memuat data bernama 'dataset_statistics.csv' dan memasukkan hasilnya ke dalam 'raw_data'\n",
        "raw_data = pd.read_csv(\"drive/My Drive/Dataset/dataset_statistic.csv\", sep=';')\n",
        "\n",
        "# cari proporsi tiap Produk\n",
        "print (raw_data['Produk'].value_counts()/raw_data.shape[0])"
      ],
      "execution_count": 11,
      "outputs": [
        {
          "output_type": "stream",
          "text": [
            "D    0.25\n",
            "A    0.20\n",
            "C    0.20\n",
            "B    0.20\n",
            "E    0.15\n",
            "Name: Produk, dtype: float64\n"
          ],
          "name": "stdout"
        }
      ]
    },
    {
      "cell_type": "markdown",
      "metadata": {
        "id": "yqTdE-SjrC0P"
      },
      "source": [
        "## **Ukuran Sebaran pada Data Interval dan Rasio**\n",
        "Rentang (range)\n",
        "Rentang adalah jarak antara nilai maksimum dengan nilai minimum. Semakin besar jarang antara nilai maksimum dan minimum semakin besar pula sebaran datanya. Secara matematis dapat dituliskan sebagai berikut:\n",
        "\n",
        " "
      ]
    },
    {
      "cell_type": "code",
      "metadata": {
        "id": "CH3vonAhrFKC",
        "outputId": "2454f23f-39c9-41bc-85d2-d62d4a49cccd",
        "colab": {
          "base_uri": "https://localhost:8080/"
        }
      },
      "source": [
        "# memuat numpy sebagai np\n",
        "import numpy as np\n",
        " \n",
        "# memuat pandas sebagai pd\n",
        "import pandas as pd\n",
        "\n",
        "# memuat data bernama 'dataset_statistics.csv' dan memasukkan hasilnya ke dalam 'raw_data'\n",
        "raw_data = pd.read_csv(\"drive/My Drive/Dataset/dataset_statistic.csv\", sep=';')\n",
        "\n",
        "# Cari nilai rentang dari kolom 'Pendapatan'\n",
        "print (raw_data['Pendapatan'].max() - raw_data['Pendapatan'].min())"
      ],
      "execution_count": 13,
      "outputs": [
        {
          "output_type": "stream",
          "text": [
            "6050000\n"
          ],
          "name": "stdout"
        }
      ]
    },
    {
      "cell_type": "markdown",
      "metadata": {
        "id": "ouD4LV-0rNwj"
      },
      "source": [
        "## **Variansi**\n",
        "\n",
        "Untuk menghitung variansi kita dapat menggunakan method .var() dari numpy maupun pandas."
      ]
    },
    {
      "cell_type": "code",
      "metadata": {
        "id": "Upv1Ze3orRQI",
        "outputId": "88e7aef7-3867-4760-ca0f-00ed7f6792d8",
        "colab": {
          "base_uri": "https://localhost:8080/"
        }
      },
      "source": [
        "# memuat numpy sebagai np\n",
        "import numpy as np\n",
        " \n",
        "# memuat pandas sebagai pd\n",
        "import pandas as pd\n",
        "\n",
        "# memuat data bernama 'dataset_statistics.csv' dan memasukkan hasilnya ke dalam 'raw_data'\n",
        "raw_data = pd.read_csv(\"drive/My Drive/Dataset/dataset_statistic.csv\", sep=';')\n",
        "\n",
        "# menghitung variansi umur menggunakan method .var() dari pandas\n",
        "print (raw_data['Pendapatan'].var())\n",
        "\n",
        "# menghitung variansi umur menggunakan method .var() dari numpy\n",
        "print (np.var(raw_data['Pendapatan']))\n",
        "\n",
        "# mengatur variansi populasi dengan method `.var()` dari pandas\n",
        "print (raw_data['Pendapatan'].var(ddof = 0))"
      ],
      "execution_count": 14,
      "outputs": [
        {
          "output_type": "stream",
          "text": [
            "1645684210526.3157\n",
            "1563400000000.0\n",
            "1563400000000.0\n"
          ],
          "name": "stdout"
        }
      ]
    },
    {
      "cell_type": "markdown",
      "metadata": {
        "id": "caMM2FPOrXE3"
      },
      "source": [
        "## **Deviasi Baku (Standard Deviation)**\n",
        "\n",
        "Kita dapat menghitung deviasi baku menggunakan method .std dari numpy maupun pandas."
      ]
    },
    {
      "cell_type": "code",
      "metadata": {
        "id": "Kxw-wi6rraGe",
        "outputId": "3747e004-5121-4295-b5b5-33938ff1b901",
        "colab": {
          "base_uri": "https://localhost:8080/"
        }
      },
      "source": [
        "# memuat numpy sebagai np\n",
        "import numpy as np\n",
        " \n",
        "# memuat pandas sebagai pd\n",
        "import pandas as pd\n",
        "\n",
        "# memuat data bernama 'dataset_statistics.csv' dan memasukkan hasilnya ke dalam 'raw_data'\n",
        "raw_data = pd.read_csv(\"drive/My Drive/Dataset/dataset_statistic.csv\", sep=';')\n",
        "\n",
        "# menghitung deviasi baku sampel pendapatan menggunakan method std() dari pandas\n",
        "print (raw_data['Pendapatan'].std())\n",
        "\n",
        "# menghitung deviasi baku pendapatan menggunakan method std() dari numpy\n",
        "print (np.std(raw_data['Pendapatan'], ddof = 1))"
      ],
      "execution_count": 15,
      "outputs": [
        {
          "output_type": "stream",
          "text": [
            "1282842.2391417876\n",
            "1282842.2391417876\n"
          ],
          "name": "stdout"
        }
      ]
    },
    {
      "cell_type": "markdown",
      "metadata": {
        "id": "Q0kBoiHLruAZ"
      },
      "source": [
        "## **Menghitung Korelasi**\n",
        "Untuk menghitung korelasi antara kedua variabel, kita dapat menggunakan method .corr() dari pandas sebagaimana contoh berikut: "
      ]
    },
    {
      "cell_type": "code",
      "metadata": {
        "id": "7FxRJF9jrwZ9",
        "outputId": "a97f2ba6-19b7-4c13-99c9-7a32111d801b",
        "colab": {
          "base_uri": "https://localhost:8080/"
        }
      },
      "source": [
        "# memuat numpy sebagai np\n",
        "import numpy as np\n",
        " \n",
        "# memuat pandas sebagai pd\n",
        "import pandas as pd\n",
        "\n",
        "# memuat data bernama 'dataset_statistics.csv' dan memasukkan hasilnya ke dalam 'raw_data'\n",
        "raw_data = pd.read_csv(\"drive/My Drive/Dataset/dataset_statistic.csv\", sep=';')\n",
        "\n",
        "# menghitung korelasi dari setiap pasang variabel pada raw_data\n",
        "print (raw_data.corr())\n",
        "\n",
        "# mencari korelasi 'kendall' untuk tiap pasang variabel\n",
        "print (raw_data.corr(method='kendall'))\n",
        "\n",
        "# mencari korelasi 'spearman' untuk tiap pasang variabel\n",
        "print (raw_data.corr(method='spearman'))"
      ],
      "execution_count": 16,
      "outputs": [
        {
          "output_type": "stream",
          "text": [
            "                  ID Pelanggan  Jenis Kelamin  ...     Total  Tingkat Kepuasan\n",
            "ID Pelanggan          1.000000       0.151375  ... -0.039968         -0.245717\n",
            "Jenis Kelamin         0.151375       1.000000  ...  0.238051         -0.088339\n",
            "Pendapatan            0.110958       0.192849  ...  0.592044         -0.312663\n",
            "Harga                -0.028707       0.457555  ...  0.645455         -0.380798\n",
            "Jumlah                0.011289      -0.104168  ...  0.636097          0.017568\n",
            "Total                -0.039968       0.238051  ...  1.000000         -0.268345\n",
            "Tingkat Kepuasan     -0.245717      -0.088339  ... -0.268345          1.000000\n",
            "\n",
            "[7 rows x 7 columns]\n",
            "                  ID Pelanggan  Jenis Kelamin  ...     Total  Tingkat Kepuasan\n",
            "ID Pelanggan          1.000000       0.126650  ... -0.065998         -0.183817\n",
            "Jenis Kelamin         0.126650       1.000000  ...  0.190245         -0.085796\n",
            "Pendapatan           -0.054998       0.190245  ...  0.988506         -0.165588\n",
            "Harga                -0.005753       0.415339  ...  0.535078         -0.325659\n",
            "Jumlah                0.024016      -0.090299  ...  0.501925         -0.028923\n",
            "Total                -0.065998       0.190245  ...  1.000000         -0.165588\n",
            "Tingkat Kepuasan     -0.183817      -0.085796  ... -0.165588          1.000000\n",
            "\n",
            "[7 rows x 7 columns]\n",
            "                  ID Pelanggan  Jenis Kelamin  ...     Total  Tingkat Kepuasan\n",
            "ID Pelanggan          1.000000       0.151375  ... -0.069779         -0.238890\n",
            "Jenis Kelamin         0.151375       1.000000  ...  0.219508         -0.090784\n",
            "Pendapatan           -0.063711       0.219508  ...  0.998470         -0.192463\n",
            "Harga                -0.039149       0.463635  ...  0.646194         -0.378933\n",
            "Jumlah                0.046356      -0.098864  ...  0.607110         -0.023874\n",
            "Total                -0.069779       0.219508  ...  1.000000         -0.192463\n",
            "Tingkat Kepuasan     -0.238890      -0.090784  ... -0.192463          1.000000\n",
            "\n",
            "[7 rows x 7 columns]\n"
          ],
          "name": "stdout"
        }
      ]
    },
    {
      "cell_type": "markdown",
      "metadata": {
        "id": "PMaH0g3OsDNv"
      },
      "source": [
        "## **Interpretasi Nilai Korelasi dan Kaitannya dengan Kausalitas**\n",
        "Perhatikan nilai korelasi Pearson dari raw_data berikut:"
      ]
    },
    {
      "cell_type": "code",
      "metadata": {
        "id": "Dz3IcSLsr8t4",
        "outputId": "d259dfa8-8364-479c-fe37-0300fe8087d1",
        "colab": {
          "base_uri": "https://localhost:8080/"
        }
      },
      "source": [
        "print(raw_data.corr())"
      ],
      "execution_count": 17,
      "outputs": [
        {
          "output_type": "stream",
          "text": [
            "                  ID Pelanggan  Jenis Kelamin  ...     Total  Tingkat Kepuasan\n",
            "ID Pelanggan          1.000000       0.151375  ... -0.039968         -0.245717\n",
            "Jenis Kelamin         0.151375       1.000000  ...  0.238051         -0.088339\n",
            "Pendapatan            0.110958       0.192849  ...  0.592044         -0.312663\n",
            "Harga                -0.028707       0.457555  ...  0.645455         -0.380798\n",
            "Jumlah                0.011289      -0.104168  ...  0.636097          0.017568\n",
            "Total                -0.039968       0.238051  ...  1.000000         -0.268345\n",
            "Tingkat Kepuasan     -0.245717      -0.088339  ... -0.268345          1.000000\n",
            "\n",
            "[7 rows x 7 columns]\n"
          ],
          "name": "stdout"
        }
      ]
    }
  ]
}