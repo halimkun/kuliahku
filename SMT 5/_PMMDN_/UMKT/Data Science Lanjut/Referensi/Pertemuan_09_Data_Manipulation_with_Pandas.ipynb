{
  "cells": [
    {
      "cell_type": "markdown",
      "metadata": {
        "id": "ObNVBVjgQRif"
      },
      "source": [
        "# **Introduction to Pandas**"
      ]
    },
    {
      "cell_type": "markdown",
      "metadata": {
        "id": "_s3BM19hP6uC"
      },
      "source": [
        "## **DataFrame & Series**\n",
        "\n",
        "Di Pandas terdapat 2 kelas data baru yang digunakan sebagai struktur dari spreadsheet:\n",
        "\n",
        "1. Series: satu kolom bagian dari tabel dataframe yang merupakan 1 dimensional numpy array sebagai basis data nya, terdiri dari 1 tipe data (integer, string, float, dll).\n",
        "\n",
        "2. DataFrame: gabungan dari Series, berbentuk rectangular data yang merupakan tabel spreadsheet itu sendiri (karena dibentuk dari banyak Series, tiap Series biasanya punya 1 tipe data, yang artinya 1 dataframe bisa memiliki banyak tipe data)."
      ]
    },
    {
      "cell_type": "code",
      "execution_count": 1,
      "metadata": {
        "colab": {
          "base_uri": "https://localhost:8080/"
        },
        "id": "GjyjUR6wN1iK",
        "outputId": "c7cfb98a-98e9-4e53-dfbe-9e392b3a2d42"
      },
      "outputs": [
        {
          "name": "stdout",
          "output_type": "stream",
          "text": [
            "Series:\n",
            "0    1\n",
            "1    2\n",
            "2    3\n",
            "3    4\n",
            "4    5\n",
            "5    6\n",
            "dtype: int64\n",
            "DataFrame:\n",
            "   0  1  2\n",
            "0  1  2  3\n",
            "1  a  b  c\n",
            "2  3  4  5\n",
            "3  d  4  6\n"
          ]
        }
      ],
      "source": [
        "import pandas as pd\n",
        "# Series\n",
        "number_list = pd.Series([1,2,3,4,5,6])\n",
        "print(\"Series:\")\n",
        "print(number_list)\n",
        "\n",
        "# DataFrame\n",
        "matrix = [[1,2,3],\n",
        "['a','b','c'],\n",
        "[3,4,5],\n",
        "['d',4,6]]\n",
        "matrix_list = pd.DataFrame(matrix)\n",
        "print(\"DataFrame:\")\n",
        "print(matrix_list)"
      ]
    },
    {
      "cell_type": "markdown",
      "metadata": {
        "id": "xPI0iJ0nQKke"
      },
      "source": [
        "## **Atribut DataFrame & Series**\n",
        "\n",
        "Dataframe dan Series memiliki sangat banyak atribut yang digunakan untuk transformasi data, tetapi ada beberapa attribute yang sering dipakai. Di sini series number_list dan data frame matrix_list pada subbab sebelumnya digunakan kembali."
      ]
    },
    {
      "cell_type": "code",
      "execution_count": 2,
      "metadata": {
        "colab": {
          "base_uri": "https://localhost:8080/"
        },
        "id": "ptRJ69S6QZNo",
        "outputId": "07633b09-9096-421f-c0eb-e6a7725768f6"
      },
      "outputs": [
        {
          "name": "stdout",
          "output_type": "stream",
          "text": [
            "[1] attribute .info()\n",
            "<class 'pandas.core.frame.DataFrame'>\n",
            "RangeIndex: 4 entries, 0 to 3\n",
            "Data columns (total 3 columns):\n",
            " #   Column  Non-Null Count  Dtype \n",
            "---  ------  --------------  ----- \n",
            " 0   0       4 non-null      object\n",
            " 1   1       4 non-null      object\n",
            " 2   2       4 non-null      object\n",
            "dtypes: object(3)\n",
            "memory usage: 224.0+ bytes\n",
            "None\n",
            "\n",
            "[2] attribute .shape\n",
            " Shape dari number_list: (6,)\n",
            " Shape dari matrix_list: (4, 3)\n",
            "\n",
            "[3] attribute .dtypes\n",
            " Tipe data number_list: int64\n",
            " Tipe data matrix_list: 0    object\n",
            "1    object\n",
            "2    object\n",
            "dtype: object\n",
            "\n",
            "[4] attribute .astype()\n",
            " Konversi number_list ke str: 0    1\n",
            "1    2\n",
            "2    3\n",
            "3    4\n",
            "4    5\n",
            "5    6\n",
            "dtype: object\n",
            " Konversi matrix_list ke str:    0  1  2\n",
            "0  1  2  3\n",
            "1  a  b  c\n",
            "2  3  4  5\n",
            "3  d  4  6\n"
          ]
        }
      ],
      "source": [
        "import pandas as pd\n",
        "# Series\n",
        "number_list = pd.Series([1,2,3,4,5,6])\n",
        "# DataFrame\n",
        "matrix_list = pd.DataFrame([[1,2,3],\n",
        "['a','b','c'],\n",
        "[3,4,5],\n",
        "['d',4,6]])\n",
        "# [1] attribute .info()\n",
        "print(\"[1] attribute .info()\")\n",
        "print(matrix_list.info())\n",
        "# [2] attribute .shape\n",
        "print(\"\\n[2] attribute .shape\")\n",
        "print(\" Shape dari number_list:\", number_list.shape)\n",
        "print(\" Shape dari matrix_list:\", matrix_list.shape)\n",
        "# [3] attribute .dtypes\n",
        "print(\"\\n[3] attribute .dtypes\")\n",
        "print(\" Tipe data number_list:\", number_list.dtypes)\n",
        "print(\" Tipe data matrix_list:\", matrix_list.dtypes)\n",
        "# [4] attribute .astype()\n",
        "print(\"\\n[4] attribute .astype()\")\n",
        "print(\" Konversi number_list ke str:\", number_list.astype(\"str\"))\n",
        "print(\" Konversi matrix_list ke str:\", matrix_list.astype(\"str\"))"
      ]
    },
    {
      "cell_type": "code",
      "execution_count": null,
      "metadata": {
        "colab": {
          "base_uri": "https://localhost:8080/"
        },
        "id": "DKyMY71SQjY5",
        "outputId": "6437db7a-6bdf-4bb6-c943-1619d6ce1a55"
      },
      "outputs": [
        {
          "name": "stdout",
          "output_type": "stream",
          "text": [
            "[5] attribute .copy()\n",
            " Copy number_list ke num_list: 0    1\n",
            "1    2\n",
            "2    3\n",
            "3    4\n",
            "4    5\n",
            "5    6\n",
            "dtype: int64\n",
            " Copy matrix_list ke mtr_list:    0  1  2\n",
            "0  1  2  3\n",
            "1  a  b  c\n",
            "2  3  4  5\n",
            "3  d  4  6\n",
            "[6] attribute .to_list()\n",
            "[1, 2, 3, 4, 5, 6]\n",
            "[7] attribute .unique()\n",
            "[1 2 3 4 5 6]\n"
          ]
        }
      ],
      "source": [
        "import pandas as pd\n",
        "# Series\n",
        "number_list = pd.Series([1,2,3,4,5,6])\n",
        "# DataFrame\n",
        "matrix_list = pd.DataFrame([[1,2,3],\n",
        "['a','b','c'],\n",
        "[3,4,5],\n",
        "['d',4,6]])\n",
        "# [5] attribute .copy()\n",
        "print(\"[5] attribute .copy()\")\n",
        "num_list = number_list.copy()\n",
        "print(\" Copy number_list ke num_list:\", num_list)\n",
        "mtr_list = matrix_list.copy()\n",
        "print(\" Copy matrix_list ke mtr_list:\", mtr_list)\n",
        "# [6] attribute .to_list()\n",
        "print(\"[6] attribute .to_list()\")\n",
        "print(number_list.to_list())\n",
        "# [7] attribute .unique()\n",
        "print(\"[7] attribute .unique()\")\n",
        "print(number_list.unique())"
      ]
    },
    {
      "cell_type": "code",
      "execution_count": null,
      "metadata": {
        "colab": {
          "base_uri": "https://localhost:8080/"
        },
        "id": "r8FEK2B_Qnuc",
        "outputId": "8e518974-3096-4b9b-f29a-36faa9bbbff4"
      },
      "outputs": [
        {
          "name": "stdout",
          "output_type": "stream",
          "text": [
            "[8] attribute .index\n",
            " Index number_list: RangeIndex(start=0, stop=6, step=1)\n",
            " Index matrix_list: RangeIndex(start=0, stop=4, step=1)\n",
            "[9] attribute .columns\n",
            " Column matrix_list: RangeIndex(start=0, stop=3, step=1)\n",
            "[10] attribute .loc\n",
            " .loc[0:1] pada number_list: 0    1\n",
            "1    2\n",
            "dtype: int64\n",
            " .loc[0:1] pada matrix_list:    0  1  2\n",
            "0  1  2  3\n",
            "1  a  b  c\n",
            "[11] attribute .iloc\n",
            " iloc[0:1] pada number_list: 0    1\n",
            "dtype: int64\n",
            " iloc[0:1] pada matrix_list:    0  1  2\n",
            "0  1  2  3\n"
          ]
        }
      ],
      "source": [
        "import pandas as pd\n",
        "# Series\n",
        "number_list = pd.Series([1,2,3,4,5,6])\n",
        "# DataFrame\n",
        "matrix_list = pd.DataFrame([[1,2,3],\n",
        "['a','b','c'],\n",
        "[3,4,5],\n",
        "['d',4,6]])\n",
        "# [8] attribute .index\n",
        "print(\"[8] attribute .index\")\n",
        "print(\" Index number_list:\", number_list.index)\n",
        "print(\" Index matrix_list:\", matrix_list.index)\n",
        "# [9] attribute .columns\n",
        "print(\"[9] attribute .columns\")\n",
        "print(\" Column matrix_list:\", matrix_list.columns)\n",
        "# [10] attribute .loc\n",
        "print(\"[10] attribute .loc\")\n",
        "print(\" .loc[0:1] pada number_list:\", number_list.loc[0:1])\n",
        "print(\" .loc[0:1] pada matrix_list:\", matrix_list.loc[0:1])\n",
        "# [11] attribute .iloc\n",
        "print(\"[11] attribute .iloc\")\n",
        "print(\" iloc[0:1] pada number_list:\", number_list.iloc[0:1])\n",
        "print(\" iloc[0:1] pada matrix_list:\", matrix_list.iloc[0:1])"
      ]
    },
    {
      "cell_type": "markdown",
      "metadata": {
        "id": "GbNU6Hj6Qsr9"
      },
      "source": [
        "## **Creating Series & Dataframe from List**\n",
        "Untuk membuat Series atau Dataframe bisa dari berbagai macam tipe data container/mapping di python, seperti list dan dictionary, maupun dari numpy array.\n",
        "\n",
        " \n",
        "\n",
        "Pada sub bagian ini, kamu akan membuat Series dan Dataframe yang bersumber dari list. Sekedar meninjau bahwa, list merupakan sebuah kumpulan data berbagai macam tipe data, yang mutable (dapat diganti)."
      ]
    },
    {
      "cell_type": "code",
      "execution_count": null,
      "metadata": {
        "colab": {
          "base_uri": "https://localhost:8080/"
        },
        "id": "yWraiFIcQvYs",
        "outputId": "42f0aee3-50c4-443c-f9fe-f4a756d59855"
      },
      "outputs": [
        {
          "name": "stdout",
          "output_type": "stream",
          "text": [
            "0    a\n",
            "1    1\n",
            "2    3\n",
            "3    5\n",
            "4    c\n",
            "5    d\n",
            "dtype: object\n",
            "     float char   obj char\n",
            "dq     1.0    a     b    c\n",
            "lab    2.5    d     e    f\n",
            "kar    5.0    g     h    i\n",
            "lan    7.5    j  10.5    l\n"
          ]
        }
      ],
      "source": [
        "import pandas as pd\n",
        "# Creating series from list\n",
        "ex_list = ['a',1,3,5,'c','d']\n",
        "ex_series = pd.Series(ex_list)\n",
        "print(ex_series)\n",
        "# Creating dataframe from list of list\n",
        "ex_list_of_list = [[1 ,'a','b' ,'c'],\n",
        "[2.5,'d','e' ,'f'],\n",
        "[5 ,'g','h' ,'i'],\n",
        "[7.5,'j',10.5,'l']]\n",
        "index = ['dq','lab','kar','lan']\n",
        "cols = ['float','char','obj','char']\n",
        "ex_df = pd.DataFrame(ex_list_of_list, index=index, columns=cols)\n",
        "print(ex_df)"
      ]
    },
    {
      "cell_type": "markdown",
      "metadata": {
        "id": "7MJXmtztQ4sx"
      },
      "source": [
        "## **Creating Series & Dataframe from Numpy Array**"
      ]
    },
    {
      "cell_type": "code",
      "execution_count": null,
      "metadata": {
        "colab": {
          "base_uri": "https://localhost:8080/"
        },
        "id": "GcOyR3F-QzZd",
        "outputId": "21669d05-d1a9-45aa-fefa-44cb0b594320"
      },
      "outputs": [
        {
          "name": "stdout",
          "output_type": "stream",
          "text": [
            "1    a\n",
            "2    b\n",
            "3    c\n",
            "dtype: object\n",
            "   1  2  4\n",
            "0  a  b  2\n",
            "1  b  c  3\n",
            "2  c  d  z\n"
          ]
        }
      ],
      "source": [
        "import pandas as pd\n",
        "# Creating series from dictionary\n",
        "dict_series = {'1':'a',\n",
        "'2':'b',\n",
        "'3':'c'}\n",
        "ex_series = pd.Series(dict_series)\n",
        "print(ex_series)\n",
        "# Creating dataframe from dictionary\n",
        "df_series = {'1':['a','b','c'],\n",
        "'2':['b','c','d'],\n",
        "'4':[2,3,'z']}\n",
        "ex_df = pd.DataFrame(df_series)\n",
        "print(ex_df)"
      ]
    },
    {
      "cell_type": "markdown",
      "metadata": {
        "id": "7aMbIBl3d5EQ"
      },
      "source": [
        "# **Penggabungan Series/Dataframe**"
      ]
    },
    {
      "cell_type": "markdown",
      "metadata": {
        "id": "8Kx9-0vmQ8OX"
      },
      "source": [
        "## **Append**\n",
        "Method .append() dapat digunakan pada dataframe/series yang ditujukan untuk menambah row-nya saja. Jika di SQL memiliki 2 tabel atau lebih maka dapat menggabungkannya secara vertikal dengan Union. Jadi SQL Union ekuivalen dengan method .append() di Pandas."
      ]
    },
    {
      "cell_type": "code",
      "execution_count": null,
      "metadata": {
        "colab": {
          "base_uri": "https://localhost:8080/"
        },
        "id": "l1Ep3O2UdE0o",
        "outputId": "dc7f8797-26bc-4222-835e-a08526e6bb1c"
      },
      "outputs": [
        {
          "name": "stdout",
          "output_type": "stream",
          "text": [
            "Series - append:\n",
            " 0    a\n",
            "1    b\n",
            "2    c\n",
            "3    d\n",
            "4    e\n",
            "5    f\n",
            "0    1\n",
            "1    2\n",
            "2    3\n",
            "3    4\n",
            "4    5\n",
            "5    6\n",
            "dtype: object\n",
            "Dataframe - append:\n",
            "    b  a\n",
            "0  1  3\n",
            "1  2  4\n",
            "0  3  1\n",
            "1  4  2\n"
          ]
        }
      ],
      "source": [
        "import pandas as pd\n",
        "# Buat series of int (s1) dan series of string (s2)\n",
        "s1 = pd.Series([1,2,3,4,5,6])\n",
        "s2 = pd.Series([\"a\",\"b\",\"c\",\"d\",\"e\",\"f\"])\n",
        "# Terapkan method append\n",
        "s2_append_s1 = s2.append(s1)\n",
        "print(\"Series - append:\\n\", s2_append_s1)\n",
        "# Buat dataframe df1 dan df2\n",
        "df1 = pd.DataFrame({'a':[1,2],\n",
        "'b':[3,4]})\n",
        "df2 = pd.DataFrame({'b':[1,2],\n",
        "'a':[3,4]})\n",
        "# Terapkan method append\n",
        "df2_append_df1 = df2.append(df1)\n",
        "print(\"Dataframe - append:\\n\", df2_append_df1)"
      ]
    },
    {
      "cell_type": "markdown",
      "metadata": {
        "id": "OBj--TL9eTTw"
      },
      "source": [
        "## **Concat**\n",
        "Method .concat() dapat digunakan pada dataframe yang ditujukan untuk penggabungan baik dalam row-wise (dalam arah ) atau column-wise."
      ]
    },
    {
      "cell_type": "code",
      "execution_count": null,
      "metadata": {
        "colab": {
          "base_uri": "https://localhost:8080/"
        },
        "id": "jqHnlSgPeWEr",
        "outputId": "f1ca4628-1e81-4c2c-de99-cc0c0cbc6035"
      },
      "outputs": [
        {
          "name": "stdout",
          "output_type": "stream",
          "text": [
            "Row-wise - concat:\n",
            "    b  a\n",
            "0  1  3\n",
            "1  2  4\n",
            "0  3  1\n",
            "1  4  2\n",
            "Column-wise - concat:\n",
            "    b  a  a  b\n",
            "0  1  3  1  3\n",
            "1  2  4  2  4\n",
            "Multiindex - concat:\n",
            "        b  a\n",
            "df1 0  1  3\n",
            "    1  2  4\n",
            "df2 0  3  1\n",
            "    1  4  2\n"
          ]
        }
      ],
      "source": [
        "import pandas as pd\n",
        "# Buat dataframe df1 dan df2\n",
        "df1 = pd.DataFrame({'a':[1,2],\n",
        "'b':[3,4]})\n",
        "df2 = pd.DataFrame({'b':[1,2],\n",
        "'a':[3,4]})\n",
        "# Terapkan method concat row-wise\n",
        "row_wise_concat = pd.concat([df2, df1])\n",
        "print(\"Row-wise - concat:\\n\", row_wise_concat)\n",
        "# Terapkan method concat column-wise\n",
        "col_wise_concat = pd.concat([df2, df1], axis=1)\n",
        "print(\"Column-wise - concat:\\n\", col_wise_concat)\n",
        "# Penambahan identifier --> membentuk hasil penggabungan multiindex\n",
        "multiindex_concat = pd.concat([df2,df1], axis=0, keys=['df1','df2'])\n",
        "print(\"Multiindex - concat:\\n\", multiindex_concat)"
      ]
    },
    {
      "cell_type": "markdown",
      "metadata": {
        "id": "bsBioqcZecZI"
      },
      "source": [
        "## **Merge**\n",
        "\n",
        "Method .merge() untuk menggabungkan Series/Dataframe yang bentuknya mirip dengan syntax join di SQL, specify left and right tables, join key dan how to join (left, right, inner, full outer).\n",
        "\n"
      ]
    },
    {
      "cell_type": "code",
      "execution_count": null,
      "metadata": {
        "colab": {
          "base_uri": "https://localhost:8080/"
        },
        "id": "nimAQHvoegB4",
        "outputId": "2990685d-c6c7-42e9-b649-b5eff0e2d567"
      },
      "outputs": [
        {
          "name": "stdout",
          "output_type": "stream",
          "text": [
            "Merge - Left:\n",
            "    key  val3  val4   val1   val2\n",
            "0   k1     1     6  200.0   30.0\n",
            "1   k3     2     7    0.0  100.0\n",
            "2   k5     3     8  100.0   10.0\n",
            "3   k7     4     8    NaN    NaN\n",
            "4  k10     5    10    NaN    NaN\n",
            "Merge - Right:\n",
            "   key  val3  val4  val1  val2\n",
            "0  k1   1.0   6.0   200    30\n",
            "1  k2   NaN   NaN   500    50\n",
            "2  k3   2.0   7.0     0   100\n",
            "3  k4   NaN   NaN   500    20\n",
            "4  k5   3.0   8.0   100    10\n",
            "Merge - Inner:\n",
            "   key  val3  val4  val1  val2\n",
            "0  k1     1     6   200    30\n",
            "1  k3     2     7     0   100\n",
            "2  k5     3     8   100    10\n",
            "Merge - Outer:\n",
            "    key  val3  val4   val1   val2\n",
            "0   k1   1.0   6.0  200.0   30.0\n",
            "1   k3   2.0   7.0    0.0  100.0\n",
            "2   k5   3.0   8.0  100.0   10.0\n",
            "3   k7   4.0   8.0    NaN    NaN\n",
            "4  k10   5.0  10.0    NaN    NaN\n",
            "5   k2   NaN   NaN  500.0   50.0\n",
            "6   k4   NaN   NaN  500.0   20.0\n"
          ]
        }
      ],
      "source": [
        "import pandas as pd\n",
        "# Buat dataframe df1 dan df2\n",
        "df1 = pd.DataFrame({\n",
        "'key':['k1','k2','k3','k4','k5'],\n",
        "'val1':[200, 500, 0, 500, 100],\n",
        "'val2':[30, 50, 100, 20, 10]\n",
        "})\n",
        "df2 = pd.DataFrame({\n",
        "'key':['k1','k3','k5','k7','k10'],\n",
        "'val3':[1,2,3,4,5],\n",
        "'val4':[6,7,8,8,10]\n",
        "})\n",
        "# Merge yang ekivalen dengan SQL left join\n",
        "merge_df_left = pd.merge(left=df2, right=df1, how='left', left_on='key', right_on='key')\n",
        "print('Merge - Left:\\n', merge_df_left)\n",
        "# Merge yang ekivalen dengan SQL right join\n",
        "merge_df_right = pd.merge(left=df2, right=df1, how='right', left_on='key', right_on='key')\n",
        "print('Merge - Right:\\n', merge_df_right)\n",
        "# Merge yang ekivalen dengan SQL inner join\n",
        "merge_df_inner = pd.merge(left=df2, right=df1, how='inner', left_on='key', right_on='key')\n",
        "print('Merge - Inner:\\n', merge_df_inner)\n",
        "# Merge yang ekivalen dengan SQL outer join\n",
        "merge_df_outer = pd.merge(left=df2, right=df1, how='outer', left_on='key', right_on='key')\n",
        "print('Merge - Outer:\\n', merge_df_outer)"
      ]
    },
    {
      "cell_type": "markdown",
      "metadata": {
        "id": "6-8HXUryetkK"
      },
      "source": [
        "## **Join**\n",
        "Metthod .join() digunakan pada dataframe untuk menggabungkan kedua data dengan set index pada kedua tabel tersebut sebagai join key, tanpa index, hal ini tidak akan berhasil."
      ]
    },
    {
      "cell_type": "code",
      "execution_count": null,
      "metadata": {
        "colab": {
          "base_uri": "https://localhost:8080/"
        },
        "id": "aOakGFEdevjd",
        "outputId": "4e6372e3-547e-4df6-b1e4-8172cf81b6e5"
      },
      "outputs": [
        {
          "name": "stdout",
          "output_type": "stream",
          "text": [
            "      val1   val2  val3  val4\n",
            "key                          \n",
            "k1   200.0   30.0   1.0   6.0\n",
            "k10    NaN    NaN   5.0  10.0\n",
            "k2   500.0   50.0   NaN   NaN\n",
            "k3     0.0  100.0   2.0   7.0\n",
            "k4   500.0   20.0   NaN   NaN\n",
            "k5   100.0   10.0   3.0   8.0\n",
            "k7     NaN    NaN   4.0   8.0\n"
          ]
        }
      ],
      "source": [
        "import pandas as pd\n",
        "# Buat dataframe df1 dan df2\n",
        "df1 = pd.DataFrame({\n",
        "'key':['k1','k2','k3','k4','k5'],\n",
        "'val1':[200, 500, 0, 500, 100],\n",
        "'val2':[30, 50, 100, 20, 10]\n",
        "})\n",
        "df2 = pd.DataFrame({\n",
        "'key':['k1','k3','k5','k7','k10'],\n",
        "'val3':[1,2,3,4,5],\n",
        "'val4':[6,7,8,8,10]\n",
        "})\n",
        "# Penerapan join dengan menggunakan set_index dan keyword how\n",
        "join_df = df1.set_index('key').join(df2.set_index('key'), how='outer')\n",
        "print(join_df)"
      ]
    },
    {
      "cell_type": "markdown",
      "metadata": {
        "id": "8jlnddjye70E"
      },
      "source": [
        "# **Dataset I/O**"
      ]
    },
    {
      "cell_type": "markdown",
      "metadata": {
        "id": "pOvVnR7Je8Oq"
      },
      "source": [
        "## **Read Dataset - CSV dan TSV**\n",
        "CSV dan TSV pada hakikatnya adalah tipe data text dengan perbedaan terletak pada pemisah antar data dalam satu baris. Pada file CSV, antar data dalam satu baris dipisahkan oleh comma, \",\". Namun, pada file TSV antar data dalam satu baris dipisahkan oleh \"Tab\".\n",
        "\n",
        "Fungsi .read_csv() digunakan untuk membaca file yang value nya dipisahkan oleh comma (default), terkadang pemisah value nya bisa di set ‘\\t’ untuk file tsv (tab separated values)."
      ]
    },
    {
      "cell_type": "code",
      "execution_count": null,
      "metadata": {
        "colab": {
          "base_uri": "https://localhost:8080/"
        },
        "id": "RyjeUVuMfDBJ",
        "outputId": "ae28595b-4af6-4927-ef02-5f77017e58b9"
      },
      "outputs": [
        {
          "name": "stdout",
          "output_type": "stream",
          "text": [
            "   order_id  order_date  customer_id  ...    brand quantity item_price\n",
            "0   1612339  2019-01-01        18055  ...  BRAND_C        4    1934000\n",
            "1   1612339  2019-01-01        18055  ...  BRAND_V        8     604000\n",
            "2   1612339  2019-01-01        18055  ...  BRAND_G       12     747000\n",
            "\n",
            "[3 rows x 9 columns]\n",
            "   order_id  order_date  customer_id  ...    brand quantity item_price\n",
            "0   1612339  2019-01-01        18055  ...  BRAND_C        4    1934000\n",
            "1   1612339  2019-01-01        18055  ...  BRAND_V        8     604000\n",
            "2   1612339  2019-01-01        18055  ...  BRAND_G       12     747000\n",
            "\n",
            "[3 rows x 9 columns]\n"
          ]
        }
      ],
      "source": [
        "import pandas as pd\n",
        "# File CSV\n",
        "df_csv = pd.read_csv(\"https://dqlab-dataset.s3-ap-southeast-1.amazonaws.com/sample_csv.csv\")\n",
        "print(df_csv.head(3)) # Menampilkan 3 data teratas\n",
        "# File TSV\n",
        "df_tsv = pd.read_csv(\"https://dqlab-dataset.s3-ap-southeast-1.amazonaws.com/sample_tsv.tsv\", sep='\\t')\n",
        "print(df_tsv.head(3)) # Menampilkan 3 data teratas"
      ]
    },
    {
      "cell_type": "markdown",
      "metadata": {
        "id": "BHoORpflfGxs"
      },
      "source": [
        "## **Read Dataset - Excel**\n",
        "File Excel dengan ekstensi *.xls atau *.xlsx cukup banyak digunakan dalam menyimpan data. Pandas juga memiliki fitur untuk membaca file excel."
      ]
    },
    {
      "cell_type": "code",
      "execution_count": null,
      "metadata": {
        "colab": {
          "base_uri": "https://localhost:8080/"
        },
        "id": "c0josn_qfIn9",
        "outputId": "e71b2c1a-9c90-43ae-de66-a13e14b1a38c"
      },
      "outputs": [
        {
          "name": "stdout",
          "output_type": "stream",
          "text": [
            "   order_id  order_date  customer_id  ...    brand quantity item_price\n",
            "0   1612339  2019-01-01        18055  ...  BRAND_C        4    1934000\n",
            "1   1612339  2019-01-01        18055  ...  BRAND_V        8     604000\n",
            "2   1612339  2019-01-01        18055  ...  BRAND_G       12     747000\n",
            "3   1612339  2019-01-01        18055  ...  BRAND_B       12     450000\n",
            "\n",
            "[4 rows x 9 columns]\n"
          ]
        }
      ],
      "source": [
        "import pandas as pd\n",
        "# File xlsx dengan data di sheet \"test\"\n",
        "df_excel = pd.read_excel(\"https://dqlab-dataset.s3-ap-southeast-1.amazonaws.com/sample_excel.xlsx\", sheet_name=\"test\")\n",
        "print(df_excel.head(4)) # Menampilkan 4 data teratas"
      ]
    },
    {
      "cell_type": "markdown",
      "metadata": {
        "id": "KZBe80G0fMi8"
      },
      "source": [
        "## **Read Dataset - JSON**\n",
        "Method .read_json() digunakan untuk membaca URL API yang formatnya JSON dan merubahnya menjadi dataframe pandas. Method ini dapat digunakan seperti yang dicontohkan berikut ini:"
      ]
    },
    {
      "cell_type": "code",
      "execution_count": null,
      "metadata": {
        "colab": {
          "base_uri": "https://localhost:8080/"
        },
        "id": "ajBxbqzkfO0S",
        "outputId": "3d9cc85e-5465-446c-94cc-72d2d7f7d333"
      },
      "outputs": [
        {
          "name": "stdout",
          "output_type": "stream",
          "text": [
            "                                                data          dt          ts\n",
            "0  {'location': 'US', 'confirmed': 3363056, 'deat...  07-14-2020  1594684800\n",
            "1  {'location': 'Brazil', 'confirmed': 1884967, '...  07-14-2020  1594684800\n",
            "2  {'location': 'India', 'confirmed': 906752, 'de...  07-14-2020  1594684800\n",
            "3  {'location': 'Russia', 'confirmed': 732547, 'd...  07-14-2020  1594684800\n",
            "4  {'location': 'Peru', 'confirmed': 330123, 'dea...  07-14-2020  1594684800\n",
            "5  {'location': 'Chile', 'confirmed': 317657, 'de...  07-14-2020  1594684800\n",
            "6  {'location': 'Mexico', 'confirmed': 304435, 'd...  07-14-2020  1594684800\n",
            "7  {'location': 'United Kingdom', 'confirmed': 29...  07-14-2020  1594684800\n",
            "8  {'location': 'South Africa', 'confirmed': 2877...  07-14-2020  1594684800\n",
            "9  {'location': 'Iran', 'confirmed': 259652, 'dea...  07-14-2020  1594684800\n"
          ]
        }
      ],
      "source": [
        "import pandas as pd\n",
        "# File JSON\n",
        "url = \"https://dqlab-dataset.s3-ap-southeast-1.amazonaws.com/covid2019-api-herokuapp-v2.json\"\n",
        "df_json = pd.read_json(url)\n",
        "print(df_json.head(10)) # Menampilkan 10 data teratas"
      ]
    },
    {
      "cell_type": "markdown",
      "metadata": {
        "id": "XgKmZ67xfj1v"
      },
      "source": [
        "# **Indexing, Slicing, dan Transforming**"
      ]
    },
    {
      "cell_type": "markdown",
      "metadata": {
        "id": "jHaC1D66fpKT"
      },
      "source": [
        "## **Indexing**\n",
        "Secara default setelah suatu data frame dibaca dari file dengan format tertentu, index-nya\n",
        "merupakan single index.\n",
        "Pada sub bab ini akan mencetak index dan kolom yang dimiliki oleh file \"sample_csv.csv\". Untuk\n",
        "menentukan index dan kolom yang dimiliki oleh dataset yang telah dinyatakan sebagai sebuah\n",
        "dataframe pandas dapat dilakukan dengan menggunakan attribut .index dan .columns.\n",
        "Untuk lebih jelasnya diberikan oleh kode yang ditampilkan berikut ini :"
      ]
    },
    {
      "cell_type": "code",
      "execution_count": null,
      "metadata": {
        "colab": {
          "base_uri": "https://localhost:8080/"
        },
        "id": "GCnlhnggfwua",
        "outputId": "26cbd773-d671-4402-d65b-5d3d07e2c978"
      },
      "outputs": [
        {
          "name": "stdout",
          "output_type": "stream",
          "text": [
            "Index: RangeIndex(start=0, stop=101, step=1)\n",
            "Columns: Index(['order_id', 'order_date', 'customer_id', 'city', 'province',\n",
            "       'product_id', 'brand', 'quantity', 'item_price'],\n",
            "      dtype='object')\n"
          ]
        }
      ],
      "source": [
        "import pandas as pd\n",
        "# Baca file TSV sample_tsv.tsv\n",
        "df = pd.read_csv(\"https://dqlab-dataset.s3-ap-southeast-1.amazonaws.com/sample_tsv.tsv\", sep=\"\\t\")\n",
        "# Index dari df\n",
        "print(\"Index:\", df.index)\n",
        "# Column dari df\n",
        "print(\"Columns:\", df.columns)"
      ]
    },
    {
      "cell_type": "markdown",
      "metadata": {
        "id": "H1tQiGdQf3mS"
      },
      "source": [
        "Di sub bab sebelumnya telah dibahas terkait single index, tentunya pada sub bab ini akan bahas multi index atau disebut juga dengan hierarchical indexing.\n",
        "\n",
        "Untuk membuat multi index (hierarchical indexing) dengan pandas diperlukan kolom-kolom mana saja yang perlu disusun agar index dari data frame menjadi sebuah hirarki yang kemudian dapat dikenali.\n",
        "\n",
        " \n",
        "\n",
        "Pada sub bab sebelumnya telah diberikan nama-nama kolom dari dataframe yang telah dibaca, yaitu"
      ]
    },
    {
      "cell_type": "code",
      "execution_count": null,
      "metadata": {
        "colab": {
          "base_uri": "https://localhost:8080/"
        },
        "id": "ln57rVwaf7xa",
        "outputId": "df96bd4e-ff03-4523-ecea-d2376931e025"
      },
      "outputs": [
        {
          "name": "stdout",
          "output_type": "stream",
          "text": [
            "order_date : Index(['2019-01-01'], dtype='object', name='order_date')\n",
            "city : Index(['Bogor', 'Jakarta Pusat', 'Jakarta Selatan', 'Jakarta Utara',\n",
            "       'Makassar', 'Malang', 'Surabaya', 'Tangerang'],\n",
            "      dtype='object', name='city')\n",
            "customer_id : Int64Index([12681, 13963, 15649, 17091, 17228, 17450, 17470, 17511, 17616,\n",
            "            18055],\n",
            "           dtype='int64', name='customer_id')\n"
          ]
        }
      ],
      "source": [
        "import pandas as pd\n",
        "# Baca file TSV sample_tsv.tsv\n",
        "df = pd.read_csv(\"https://dqlab-dataset.s3-ap-southeast-1.amazonaws.com/sample_tsv.tsv\", sep=\"\\t\")\n",
        "# Set multi index df\n",
        "df_x = df.set_index(['order_date', 'city', 'customer_id'])\n",
        "# Print nama dan level dari multi index\n",
        "for name, level in zip(df_x.index.names, df_x.index.levels):\n",
        "\tprint(name,':',level)"
      ]
    },
    {
      "cell_type": "markdown",
      "metadata": {
        "id": "N5XR2nr6gViC"
      },
      "source": [
        "## **Slicing**\n",
        "Seperti artinya slicing adalah cara untuk melakukan filter ke dataframe/series berdasarkan kriteria tertentu dari nilai kolomnya ataupun kriteria index-nya.\n",
        "\n",
        "Terdapat 2 cara paling terkenal untuk slicing dataframe, yaitu dengan menggunakan method .loc dan .iloc pada variabel bertipe pandas DataFrame/Series. Method .iloc ditujukan untuk proses slicing berdasarkan index berupa nilai integer tertentu. Akan tetapi akan lebih sering menggunakan dengan method .loc karena lebih fleksibel. "
      ]
    },
    {
      "cell_type": "code",
      "execution_count": null,
      "metadata": {
        "colab": {
          "base_uri": "https://localhost:8080/"
        },
        "id": "j2gn6_HogY2u",
        "outputId": "9f4d1b09-9d24-4a42-f48c-3a39b79113f1"
      },
      "outputs": [
        {
          "name": "stdout",
          "output_type": "stream",
          "text": [
            "Slice langsung berdasarkan kolom:\n",
            " Empty DataFrame\n",
            "Columns: [order_id, order_date, customer_id, city, province, product_id, brand, quantity, item_price]\n",
            "Index: []\n"
          ]
        }
      ],
      "source": [
        "import pandas as pd\n",
        "# Baca file sample_csv.csv\n",
        "df = pd.read_csv(\"https://dqlab-dataset.s3-ap-southeast-1.amazonaws.com/sample_csv.csv\")\n",
        "# Slice langsung berdasarkan kolom\n",
        "df_slice = df.loc[(df[\"customer_id\"] == \"18055\") &\n",
        "\t\t\t\t  (df[\"product_id\"].isin([\"P0029\",\"P0040\",\"P0041\",\"P0116\",\"P0117\"]))\n",
        "\t\t\t\t ]\n",
        "print(\"Slice langsung berdasarkan kolom:\\n\", df_slice)"
      ]
    },
    {
      "cell_type": "markdown",
      "metadata": {
        "id": "G5iJ1FPogpMV"
      },
      "source": [
        "## **Transforming**"
      ]
    },
    {
      "cell_type": "code",
      "execution_count": null,
      "metadata": {
        "colab": {
          "base_uri": "https://localhost:8080/"
        },
        "id": "VqbpLEGvgrKj",
        "outputId": "284c5346-4616-4c8f-bd09-5804aeabb3ee"
      },
      "outputs": [
        {
          "name": "stdout",
          "output_type": "stream",
          "text": [
            "Tipe data df:\n",
            " order_id        int64\n",
            "order_date     object\n",
            "customer_id     int64\n",
            "city           object\n",
            "province       object\n",
            "product_id     object\n",
            "brand          object\n",
            "quantity        int64\n",
            "item_price      int64\n",
            "dtype: object\n",
            "\n",
            "Tipe data df setelah transformasi:\n",
            " order_id                int64\n",
            "order_date     datetime64[ns]\n",
            "customer_id             int64\n",
            "city                   object\n",
            "province               object\n",
            "product_id             object\n",
            "brand                  object\n",
            "quantity                int64\n",
            "item_price              int64\n",
            "dtype: object\n"
          ]
        }
      ],
      "source": [
        "import pandas as pd\n",
        "# Baca file sample_csv.csv\n",
        "df = pd.read_csv(\"https://dqlab-dataset.s3-ap-southeast-1.amazonaws.com/sample_csv.csv\")\n",
        "# Tampilkan tipe data\n",
        "print(\"Tipe data df:\\n\", df.dtypes)\n",
        "# Ubah tipe data kolom order_date menjadi datetime\n",
        "df[\"order_date\"] = pd.to_datetime(df[\"order_date\"])\n",
        "# Tampilkan tipe data df setelah transformasi\n",
        "print(\"\\nTipe data df setelah transformasi:\\n\", df.dtypes)"
      ]
    },
    {
      "cell_type": "markdown",
      "metadata": {
        "id": "uQEDe3ZBg9th"
      },
      "source": [
        "Sekarang akan mempelajari teknik/cara berikutnya dalam proses transformasi suatu dataframe. Di sub bab ini akan memakai method .apply() dan .map() pada suatu dataframe.\n",
        "\n",
        " \n",
        "\n",
        "Method .apply() digunakan untuk menerapkan suatu fungsi python (yang dibuat dengan def atau anonymous dengan lambda) pada dataframe/series atau hanya kolom tertentu dari dataframe. \n",
        "\n",
        "Berikut ini adalah contohnya yaitu akan merubah setiap baris pada kolom brand menjadi lowercase.  "
      ]
    },
    {
      "cell_type": "code",
      "execution_count": null,
      "metadata": {
        "colab": {
          "base_uri": "https://localhost:8080/"
        },
        "id": "C3zdk0iIg_Fi",
        "outputId": "9210efc8-0a1d-477f-c43c-3bb4d8586d64"
      },
      "outputs": [
        {
          "name": "stdout",
          "output_type": "stream",
          "text": [
            "Kolom brand awal:\n",
            " 0    BRAND_C\n",
            "1    BRAND_V\n",
            "2    BRAND_G\n",
            "3    BRAND_B\n",
            "4    BRAND_G\n",
            "Name: brand, dtype: object\n",
            "Kolom brand setelah apply:\n",
            " 0    brand_c\n",
            "1    brand_v\n",
            "2    brand_g\n",
            "3    brand_b\n",
            "4    brand_g\n",
            "Name: brand, dtype: object\n"
          ]
        }
      ],
      "source": [
        "import pandas as pd\n",
        "# Baca file sample_csv.csv\n",
        "df = pd.read_csv(\"https://dqlab-dataset.s3-ap-southeast-1.amazonaws.com/sample_csv.csv\")\n",
        "# Cetak 5 baris teratas kolom brand\n",
        "print(\"Kolom brand awal:\\n\", df[\"brand\"].head())\n",
        "# Gunakan method apply untuk merubah isi kolom menjadi lower case\n",
        "df[\"brand\"] = df[\"brand\"].apply(lambda x: x.lower())\n",
        "# Cetak 5 baris teratas kolom brand\n",
        "print(\"Kolom brand setelah apply:\\n\", df[\"brand\"].head())"
      ]
    },
    {
      "cell_type": "markdown",
      "metadata": {
        "id": "-h2e_AlJhVnn"
      },
      "source": [
        "Method .map() hanya dapat diterapkan pada series atau dataframe yang diakses satu kolom saja. Method ini digunakan untuk mensubstitusikan suatu nilai ke dalam tiap baris datanya.\n",
        "\n",
        "Mari lihat contoh yang diberikan berikut ini yang mana akan ambil huruf terakhir dari brand"
      ]
    },
    {
      "cell_type": "code",
      "execution_count": null,
      "metadata": {
        "colab": {
          "base_uri": "https://localhost:8080/"
        },
        "id": "dwt_cPTShWBp",
        "outputId": "3a9c2d37-024d-4117-9982-3eda1695d703"
      },
      "outputs": [
        {
          "name": "stdout",
          "output_type": "stream",
          "text": [
            "Kolom brand setelah map:\n",
            " 0    c\n",
            "1    v\n",
            "2    g\n",
            "3    b\n",
            "4    g\n",
            "Name: brand, dtype: object\n"
          ]
        }
      ],
      "source": [
        "# Gunakan method map untuk mengambil kode brand yaitu karakter terakhirnya\n",
        "df[\"brand\"] = df[\"brand\"].map(lambda x: x[-1])\n",
        "# Cetak 5 baris teratas kolom brand\n",
        "print(\"Kolom brand setelah map:\\n\", df[\"brand\"].head())"
      ]
    },
    {
      "cell_type": "markdown",
      "metadata": {
        "id": "v0ifho7qhjSn"
      },
      "source": [
        "Di sub bab sebelumnya sudah mengetahui bahwa map hanya dapat digunakan untuk pandas series. Pada sub bab ini akan menggunakan method .applymap pada dataframe.\n",
        "\n",
        " \n",
        "\n",
        "Untuk itu perhatikan contoh berikut:"
      ]
    },
    {
      "cell_type": "code",
      "execution_count": null,
      "metadata": {
        "colab": {
          "base_uri": "https://localhost:8080/"
        },
        "id": "LvahHHL7hk4-",
        "outputId": "983b53d8-c330-43b9-d631-2a4f3491ce3b"
      },
      "outputs": [
        {
          "name": "stdout",
          "output_type": "stream",
          "text": [
            "Dataframe:\n",
            "           0         1         2         3\n",
            "0  0.191519  0.622109  0.437728  0.785359\n",
            "1  0.779976  0.272593  0.276464  0.801872\n",
            "2  0.958139  0.875933  0.357817  0.500995\n",
            "\n",
            "Dataframe - cara 1:\n",
            "           0         1         2         3\n",
            "0  2.611238  4.253346  3.504789  4.972864\n",
            "1  4.948290  2.892085  2.905825  5.048616\n",
            "2  5.792449  5.395056  3.201485  3.753981\n",
            "\n",
            "Dataframe - cara 2:\n",
            "           0         1         2         3\n",
            "0  2.611238  4.253346  3.504789  4.972864\n",
            "1  4.948290  2.892085  2.905825  5.048616\n",
            "2  5.792449  5.395056  3.201485  3.753981\n"
          ]
        }
      ],
      "source": [
        "  import numpy as np\n",
        "  import pandas as pd\n",
        "  # number generator, set angka seed menjadi suatu angka, bisa semua angka, supaya hasil random nya selalu sama ketika kita run\n",
        "  np.random.seed(1234)\n",
        "  # create dataframe 3 baris dan 4 kolom dengan angka random\n",
        "  df_tr = pd.DataFrame(np.random.rand(3,4))\n",
        "  # Cetak dataframe\n",
        "  print(\"Dataframe:\\n\", df_tr)\n",
        "  # Cara 1 dengan tanpa define function awalnya, langsung pake fungsi anonymous lambda x\n",
        "  df_tr1 = df_tr.applymap(lambda x: x**2 + 3*x + 2)\n",
        "  print(\"\\nDataframe - cara 1:\\n\", df_tr1)\n",
        "  # Cara 2 dengan define function\n",
        "  def qudratic_fun(x):\n",
        "\t  return x**2 + 3*x + 2\n",
        "  df_tr2 = df_tr.applymap(qudratic_fun)\n",
        "  print(\"\\nDataframe - cara 2:\\n\", df_tr2)"
      ]
    },
    {
      "cell_type": "markdown",
      "metadata": {
        "id": "ee2tUSVyh17k"
      },
      "source": [
        "# **Handling Missing Value**"
      ]
    },
    {
      "cell_type": "markdown",
      "metadata": {
        "id": "JWeqEm2Zh5MV"
      },
      "source": [
        "## **Inspeksi Missing Value**\n",
        "**Cara 1:** menerapkan method .info() pada dataframe yang dapat diikuti dari kode berikut ini"
      ]
    },
    {
      "cell_type": "code",
      "execution_count": 1,
      "metadata": {
        "colab": {
          "base_uri": "https://localhost:8080/"
        },
        "id": "O-CncvZih8CT",
        "outputId": "eac18d57-e56e-49ca-9b76-edaecfee4a93"
      },
      "outputs": [
        {
          "ename": "ModuleNotFoundError",
          "evalue": "No module named 'pandas'",
          "output_type": "error",
          "traceback": [
            "\u001b[0;31m---------------------------------------------------------------------------\u001b[0m",
            "\u001b[0;31mModuleNotFoundError\u001b[0m                       Traceback (most recent call last)",
            "\u001b[0;32m/tmp/ipykernel_3638/2863822014.py\u001b[0m in \u001b[0;36m<module>\u001b[0;34m\u001b[0m\n\u001b[0;32m----> 1\u001b[0;31m \u001b[0;32mimport\u001b[0m \u001b[0mpandas\u001b[0m \u001b[0;32mas\u001b[0m \u001b[0mpd\u001b[0m\u001b[0;34m\u001b[0m\u001b[0;34m\u001b[0m\u001b[0m\n\u001b[0m\u001b[1;32m      2\u001b[0m \u001b[0;31m# Baca file \"public data covid19 jhu csse eu.csv\"\u001b[0m\u001b[0;34m\u001b[0m\u001b[0;34m\u001b[0m\u001b[0m\n\u001b[1;32m      3\u001b[0m \u001b[0mdf\u001b[0m \u001b[0;34m=\u001b[0m \u001b[0mpd\u001b[0m\u001b[0;34m.\u001b[0m\u001b[0mread_csv\u001b[0m\u001b[0;34m(\u001b[0m\u001b[0;34m\"https://dqlab-dataset.s3-ap-southeast-1.amazonaws.com/CHAPTER+4+-+missing+value+-+public+data+covid19+.csv\"\u001b[0m\u001b[0;34m)\u001b[0m\u001b[0;34m\u001b[0m\u001b[0;34m\u001b[0m\u001b[0m\n\u001b[1;32m      4\u001b[0m \u001b[0;31m# Cetak info dari df\u001b[0m\u001b[0;34m\u001b[0m\u001b[0;34m\u001b[0m\u001b[0m\n\u001b[1;32m      5\u001b[0m \u001b[0mprint\u001b[0m\u001b[0;34m(\u001b[0m\u001b[0mdf\u001b[0m\u001b[0;34m.\u001b[0m\u001b[0minfo\u001b[0m\u001b[0;34m(\u001b[0m\u001b[0;34m)\u001b[0m\u001b[0;34m)\u001b[0m\u001b[0;34m\u001b[0m\u001b[0;34m\u001b[0m\u001b[0m\n",
            "\u001b[0;31mModuleNotFoundError\u001b[0m: No module named 'pandas'"
          ]
        }
      ],
      "source": [
        "import pandas as pd\n",
        "# Baca file \"public data covid19 jhu csse eu.csv\"\n",
        "df = pd.read_csv(\"https://dqlab-dataset.s3-ap-southeast-1.amazonaws.com/CHAPTER+4+-+missing+value+-+public+data+covid19+.csv\")\n",
        "# Cetak info dari df\n",
        "print(df.info())"
      ]
    },
    {
      "cell_type": "markdown",
      "metadata": {
        "id": "DjKBbmhoiLF4"
      },
      "source": [
        "**Cara 2:** mengetahui berapa banyak nilai hilang dari tiap kolom di dataset tersebut dengan menerapkan chaining method pada dataframe yaitu .isna().sum(). Method .isna() digunakan untuk mengecek berapa data yang bernilai NaN dan .sum() menjumlahkannya secara default untuk masing-masing kolom dataframe.\n",
        "\n",
        "\n",
        "Perhatikanlah kode berikut"
      ]
    },
    {
      "cell_type": "code",
      "execution_count": null,
      "metadata": {
        "colab": {
          "base_uri": "https://localhost:8080/"
        },
        "id": "sxkGFNk5iNod",
        "outputId": "e02383f5-c90f-42fc-cf5e-55b95e7b59cc"
      },
      "outputs": [
        {
          "name": "stdout",
          "output_type": "stream",
          "text": [
            "\n",
            "Jumlah missing value per kolom:\n",
            " province_state      40\n",
            "country_region       0\n",
            "date                 0\n",
            "latitude           126\n",
            "longitude          126\n",
            "location_geom      126\n",
            "confirmed            0\n",
            "deaths               1\n",
            "recovered            1\n",
            "active              51\n",
            "fips                51\n",
            "admin2             158\n",
            "combined_key      1000\n",
            "dtype: int64\n"
          ]
        }
      ],
      "source": [
        "# Cetak jumlah missing value di setiap kolom\n",
        "mv = df.isna().sum()\n",
        "print(\"\\nJumlah missing value per kolom:\\n\", mv)"
      ]
    },
    {
      "cell_type": "markdown",
      "metadata": {
        "id": "g-ojYxin3IWf"
      },
      "source": [
        "## **Treatment untuk Missing Value**"
      ]
    },
    {
      "cell_type": "code",
      "execution_count": null,
      "metadata": {
        "colab": {
          "base_uri": "https://localhost:8080/"
        },
        "id": "u75f1e063KrM",
        "outputId": "c0ea1013-6fd8-47f5-a2b9-d9f796d69506"
      },
      "outputs": [
        {
          "name": "stdout",
          "output_type": "stream",
          "text": [
            "Ukuran awal df: 1000 baris, 13 kolom.\n",
            "Ukuran df setelah buang kolom dengan seluruh data missing: 1000 baris, 12 kolom.\n",
            "Ukuran df setelah dibuang baris yang memiliki sekurangnya 1 missing value: 746 baris, 12 kolom.\n"
          ]
        }
      ],
      "source": [
        "import pandas as pd\n",
        "# Baca file \"public data covid19 jhu csse eu.csv\"\n",
        "df = pd.read_csv(\"https://dqlab-dataset.s3-ap-southeast-1.amazonaws.com/CHAPTER+4+-+missing+value+-+public+data+covid19+.csv\")\n",
        "# Cetak ukuran awal dataframe\n",
        "print(\"Ukuran awal df: %d baris, %d kolom.\" % df.shape)\n",
        "# Drop kolom yang seluruhnya missing value dan cetak ukurannya\n",
        "df = df.dropna(axis=1, how=\"all\")\n",
        "print(\"Ukuran df setelah buang kolom dengan seluruh data missing: %d baris, %d kolom.\" % df.shape)\n",
        "# Drop baris jika ada satu saja data yang missing dan cetak ukurannya\n",
        "df = df.dropna(axis=0, how=\"any\")\n",
        "print(\"Ukuran df setelah dibuang baris yang memiliki sekurangnya 1 missing value: %d baris, %d kolom.\" % df.shape)"
      ]
    },
    {
      "cell_type": "markdown",
      "metadata": {
        "id": "AtEquKlX3iAN"
      },
      "source": [
        "Untuk melakukan hal demikian dapat menggunakan method .fillna() pada kolom dataframe\n",
        "yang dimaksud. Perhatikan kode berikut :"
      ]
    },
    {
      "cell_type": "code",
      "execution_count": null,
      "metadata": {
        "colab": {
          "base_uri": "https://localhost:8080/"
        },
        "id": "Z__PLXjm3T9X",
        "outputId": "8b01f56c-7fff-47f1-fbb4-3cc3f9f9cea7"
      },
      "outputs": [
        {
          "name": "stdout",
          "output_type": "stream",
          "text": [
            "Unique value awal:\n",
            " [nan 'US' 'Guam' 'Iowa']\n",
            "Unique value setelah fillna:\n",
            " ['unknown_province_state' 'US' 'Guam' 'Iowa']\n"
          ]
        }
      ],
      "source": [
        "import pandas as pd\n",
        "# Baca file \"public data covid19 jhu csse eu.csv\"\n",
        "df = pd.read_csv(\"https://dqlab-dataset.s3-ap-southeast-1.amazonaws.com/CHAPTER+4+-+missing+value+-+public+data+covid19+.csv\")\n",
        "# Cetak unique value pada kolom province_state\n",
        "print(\"Unique value awal:\\n\", df[\"province_state\"].unique())\n",
        "# Ganti missing value dengan string \"unknown_province_state\"\n",
        "df[\"province_state\"] = df[\"province_state\"].fillna(\"unknown_province_state\")\n",
        "# Cetak kembali unique value pada kolom province_state\n",
        "print(\"Unique value setelah fillna:\\n\", df[\"province_state\"].unique())"
      ]
    },
    {
      "cell_type": "markdown",
      "metadata": {
        "id": "uSxZBCZQ3otW"
      },
      "source": [
        "Carilah perbedaan nilai mean dan median kolom active untuk kondisi sebelum dan setelah\n",
        "missing valuenya diisi masing-masingnya dengan median dan mean. Dengan kode berikut :"
      ]
    },
    {
      "cell_type": "code",
      "execution_count": null,
      "metadata": {
        "colab": {
          "base_uri": "https://localhost:8080/"
        },
        "id": "md1rwW783pnJ",
        "outputId": "5ffcce60-9ef9-460f-fabe-a11c443cebb8"
      },
      "outputs": [
        {
          "name": "stdout",
          "output_type": "stream",
          "text": [
            "Awal: mean = 192.571128, median = 41.000000.\n",
            "Fillna median: mean = 184.841000, median = 41.000000.\n",
            "Fillna mean: mean = 192.571128, median = 49.000000.\n"
          ]
        }
      ],
      "source": [
        "import pandas as pd\n",
        "# Baca file \"https://dqlab-dataset.s3-ap-southeast-1.amazonaws.com/CHAPTER+4+-+missing+value+-+public+data+covid19+.csv\"\n",
        "df = pd.read_csv(\"https://dqlab-dataset.s3-ap-southeast-1.amazonaws.com/CHAPTER+4+-+missing+value+-+public+data+covid19+.csv\")\n",
        "# Cetak nilai mean dan median awal\n",
        "print(\"Awal: mean = %f, median = %f.\" % (df[\"active\"].mean(), df[\"active\"].median()))\n",
        "# Isi missing value kolom active dengan median\n",
        "df_median = df[\"active\"].fillna(df[\"active\"].median())\n",
        "# Cetak nilai mean dan median awal setelah diisi dengan median\n",
        "print(\"Fillna median: mean = %f, median = %f.\" % (df_median.mean(), df_median.median()))\n",
        "# Isi missing value kolom active dengan mean\n",
        "df_mean = df[\"active\"].fillna(df[\"active\"].mean())\n",
        "# Cetak nilai mean dan median awal setelah diisi dengan mean\n",
        "print(\"Fillna mean: mean = %f, median = %f.\" % (df_mean.mean(), df_mean.median()))"
      ]
    }
  ],
  "metadata": {
    "colab": {
      "collapsed_sections": [
        "GbNU6Hj6Qsr9",
        "7MJXmtztQ4sx",
        "7aMbIBl3d5EQ",
        "pOvVnR7Je8Oq"
      ],
      "name": "Pertemuan 9 - Data Manipulation with Pandas.ipynb",
      "provenance": []
    },
    "interpreter": {
      "hash": "31f2aee4e71d21fbe5cf8b01ff0e069b9275f58929596ceb00d14d90e3e16cd6"
    },
    "kernelspec": {
      "display_name": "Python 3.9.7 64-bit",
      "name": "python3"
    },
    "language_info": {
      "codemirror_mode": {
        "name": "ipython",
        "version": 3
      },
      "file_extension": ".py",
      "mimetype": "text/x-python",
      "name": "python",
      "nbconvert_exporter": "python",
      "pygments_lexer": "ipython3",
      "version": "3.9.7"
    }
  },
  "nbformat": 4,
  "nbformat_minor": 0
}
