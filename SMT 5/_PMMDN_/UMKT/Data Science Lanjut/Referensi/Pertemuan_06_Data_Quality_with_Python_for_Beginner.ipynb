{
 "cells": [
  {
   "cell_type": "markdown",
   "metadata": {
    "id": "ZhuDK0RR3C36"
   },
   "source": [
    "# **Data Profiling**"
   ]
  },
  {
   "cell_type": "markdown",
   "metadata": {
    "id": "kzMHURHY2HOH"
   },
   "source": [
    "## **Importing Data**\n",
    "\n",
    "Sebagai langkah pertama yang harus dilakukan adalah inisialisasi Library dan mengimport dataset tersebut ke dalam Python menggunakan library Pandas dan diassign sebagai retail_raw."
   ]
  },
  {
   "cell_type": "code",
   "execution_count": 1,
   "metadata": {
    "id": "hHxXZFJM0391"
   },
   "outputs": [
    {
     "name": "stdout",
     "output_type": "stream",
     "text": [
      "      order_id  order_date  customer_id             city     province  \\\n",
      "0      1703458  17/10/2019        14004  Jakarta Selatan  DKI Jakarta   \n",
      "1      1706815  24/10/2019        17220  Jakarta Selatan  DKI Jakarta   \n",
      "2      1710718  03/11/2019        16518    Jakarta Utara  DKI Jakarta   \n",
      "3      1683592  19/08/2019        16364    Jakarta Barat  DKI Jakarta   \n",
      "4      1702573  16/10/2019        15696    Jakarta Timur  DKI Jakarta   \n",
      "...        ...         ...          ...              ...          ...   \n",
      "4995   1724011  01/12/2019        12838        Tangerang       Banten   \n",
      "4996   1676302  28/07/2019        13833            Bogor   Jawa Barat   \n",
      "4997   1706071  23/10/2019        16332    Jakarta Timur  DKI Jakarta   \n",
      "4998   1703620  17/10/2019        13055    Jakarta Barat  DKI Jakarta   \n",
      "4999   1720036  24/11/2019        17609    Jakarta Pusat  DKI Jakarta   \n",
      "\n",
      "     product_id    brand  quantity  item_price  \n",
      "0         P1910  BRAND_J      10.0    740000.0  \n",
      "1         P2934  BRAND_R       2.0    604000.0  \n",
      "2         P0908  BRAND_C       8.0   1045000.0  \n",
      "3         P0128  BRAND_A       4.0    205000.0  \n",
      "4         P2968  BRAND_R       2.0         NaN  \n",
      "...         ...      ...       ...         ...  \n",
      "4995      P3047  BRAND_R       2.0    450000.0  \n",
      "4996      P0760  BRAND_C       3.0   1465000.0  \n",
      "4997      P1681  BRAND_H       4.0    747000.0  \n",
      "4998      P0757  BRAND_C       8.0    695000.0  \n",
      "4999      P3334  BRAND_S       1.0   1045000.0  \n",
      "\n",
      "[5000 rows x 9 columns]\n"
     ]
    }
   ],
   "source": [
    "import pandas as pd\n",
    "import numpy as np\n",
    "import io\n",
    "import pandas_profiling\n",
    "\n",
    "data_raw = pd.read_csv('https://dqlab-dataset.s3-ap-southeast-1.amazonaws.com/retail_raw_reduced_data_quality.csv')\n",
    "print(data_raw)"
   ]
  },
  {
   "cell_type": "markdown",
   "metadata": {
    "id": "aLCKUNa52-zL"
   },
   "source": [
    "## **Inspeksi tipe data**\n",
    "Dengan library Pandas, dapat menjalankan fungsi .dtypes untuk melihat data untuk setiap kolom termasuk tipe datanya.\n",
    "\n"
   ]
  },
  {
   "cell_type": "code",
   "execution_count": null,
   "metadata": {
    "colab": {
     "base_uri": "https://localhost:8080/"
    },
    "id": "Rc9oCwYv3S6x",
    "outputId": "d55c9a11-fc41-4334-e9aa-56ded6f826b5"
   },
   "outputs": [],
   "source": [
    "print(data_raw.dtypes)"
   ]
  },
  {
   "cell_type": "markdown",
   "metadata": {
    "id": "23K5-0bl2-vg"
   },
   "source": [
    "## **Descriptive Statistics**\n",
    "\n",
    "Di bagian ini, aku akan mempelajari berbagai statistik deskriptif yang dapat digunakan untuk lebih memahami struktur data.\n",
    "\n",
    "**Length**\n",
    "\n",
    "Fungsi len menghitung jumlah pengamatan dalam suatu series / column. Fungsi len akan menghitung semua pengamatan, terlepas dari apakah ada null-value atau tidak (include missing value)."
   ]
  },
  {
   "cell_type": "code",
   "execution_count": null,
   "metadata": {
    "colab": {
     "base_uri": "https://localhost:8080/"
    },
    "id": "jiXljHgy3hLv",
    "outputId": "df9291f3-9610-4b49-c263-6f4bf0d04ac8"
   },
   "outputs": [],
   "source": [
    "len_city = len(data_raw['city'])\n",
    "print('Length kolom city:', len_city)\n",
    "\n",
    "len_pid = len(data_raw['product_id'])\n",
    "print('Length kolom product_id:',len_pid)"
   ]
  },
  {
   "cell_type": "markdown",
   "metadata": {
    "id": "mIbxJe2Z3ur5"
   },
   "source": [
    "**Count**\n",
    "\n",
    "Fungsi count menghitung jumlah pengamatan non-NA / non-null dalam suatu series / column. Fungsi len akan hanya menghitung elemen dari kolom yang mempunyai nilai (exclude missing value)."
   ]
  },
  {
   "cell_type": "code",
   "execution_count": null,
   "metadata": {
    "colab": {
     "base_uri": "https://localhost:8080/"
    },
    "id": "jS5-jfLT3xhj",
    "outputId": "e036456a-10f6-42ed-911c-724d85eface6"
   },
   "outputs": [],
   "source": [
    "count_city = data_raw['city'].count()\n",
    "print('Count kolom count_city:', count_city)\n",
    "\n",
    "count_pid = data_raw['product_id'].count()\n",
    "print('Count kolom product_id:', count_pid)"
   ]
  },
  {
   "cell_type": "markdown",
   "metadata": {
    "id": "eQqBl92a330J"
   },
   "source": [
    "**Missing Value**\n",
    "\n",
    "Dengan Length dan Count, sekarang dapat menghitung jumlah missing-value. Jumlah nilai yang hilang adalah perbedaan antara Length dan Count."
   ]
  },
  {
   "cell_type": "code",
   "execution_count": null,
   "metadata": {
    "colab": {
     "base_uri": "https://localhost:8080/"
    },
    "id": "pK4FO-xF3-5b",
    "outputId": "d01476e8-534a-4133-87ff-68d56d41b0f1"
   },
   "outputs": [],
   "source": [
    "number_mv_city = len_city - count_city\n",
    "flovat_mv_city = float(number_mv_city/len_city)\n",
    "pct_mv_city = '{0:.1f}%'.format(flovat_mv_city * 100)\n",
    "\n",
    "print('missing value kolom city:', pct_mv_city)\n",
    "\n",
    "\n",
    "number_mv_pid = len_pid - count_pid\n",
    "float_mv_pid = float(number_mv_pid/len_pid)\n",
    "pct_mv_pid = '{0:.1f}%'.format(float_mv_pid * 100)\n",
    "\n",
    "print('Persentase missing value kolom product_id:', pct_mv_pid)"
   ]
  },
  {
   "cell_type": "markdown",
   "metadata": {
    "id": "9ob3qwiW4d5o"
   },
   "source": [
    "**Maximum dan Minimum**\n",
    "\n",
    "Fungsi max dan min digunakan untuk mengetahui element terbesar dan terkecil dari suatu kolom di dataframe.\n",
    "\n",
    "**Mean, Medium, Modus dan Standard Deviasi**\n",
    "\n",
    "Fungsi mean, medium, modus dan standard deviasi digunakan untuk mengetahui pemusatan data dan persebarannya."
   ]
  },
  {
   "cell_type": "code",
   "execution_count": null,
   "metadata": {
    "id": "w60Ca12q5AyI"
   },
   "outputs": [],
   "source": [
    "print('Kolom quantity')\n",
    "print('Minimum value: ', data_raw['quantity'].min())\n",
    "print('Maximum value: ', data_raw['quantity'].max())\n",
    "print('Mean value: ', data_raw['quantity'].mean())\n",
    "print('Mode value: ', data_raw['quantity'].mode())\n",
    "print('Median value: ', data_raw['quantity'].median())\n",
    "print('Standard Deviation value: ', data_raw['quantity'].std())"
   ]
  },
  {
   "cell_type": "markdown",
   "metadata": {
    "id": "B-zzv0Xr67Dv"
   },
   "source": [
    "**Quantile Statistics**\n",
    "\n",
    "Quantiles adalah titik potong yang membagi distribusi dalam ukuran yang sama. Jika akan membagi distribusi menjadi empat grup yang sama, kuantil yang dibuat dinamai quartile. Jika dibagi kedalam 10 sepuluh group yang sama dinamakan percentile. Dalam kasus di bawah ini, ingin membagi distribusi menjadi empat grup atau quartile."
   ]
  },
  {
   "cell_type": "code",
   "execution_count": null,
   "metadata": {
    "colab": {
     "base_uri": "https://localhost:8080/"
    },
    "id": "UdEib3-a7KdE",
    "outputId": "535b0a45-59d7-4704-b216-f2fa0714ce39"
   },
   "outputs": [],
   "source": [
    "print('Kolom quantity:')\n",
    "print(data_raw['quantity'].quantile([0.25, 0.5, 0.75]))\n",
    "\n",
    "print()\n",
    "\n",
    "print('Kolom item_price:')\n",
    "print(data_raw['item_price'].quantile([0.25, 0.5, 0.75]))"
   ]
  },
  {
   "cell_type": "markdown",
   "metadata": {
    "id": "jqZ8qH837P7e"
   },
   "source": [
    "**Correlation**\n",
    "\n",
    "Korelasi adalah cara yang tepat untuk menemukan hubungan antara variabel numerik. Koefisien korelasi berkisar antara -1 hingga 1. Korelasi 1 adalah korelasi positif total, korelasi -1 adalah korelasi negatif total dan korelasi 0 adalah korelasi non-linear."
   ]
  },
  {
   "cell_type": "code",
   "execution_count": null,
   "metadata": {
    "colab": {
     "base_uri": "https://localhost:8080/"
    },
    "id": "_1JZH6nC7SmQ",
    "outputId": "167f2b9b-1fa1-4511-c6d6-116ee5780580"
   },
   "outputs": [],
   "source": [
    "print('Korelasi quantity dengan item_price')\n",
    "print(data_raw[['quantity', 'item_price']].corr())"
   ]
  },
  {
   "cell_type": "code",
   "execution_count": null,
   "metadata": {},
   "outputs": [],
   "source": [
    "import pandas_profiling\n",
    "from pandas_profiling import ProfileReport\n",
    "\n",
    "pandas_profiling.ProfileReport(data_raw)"
   ]
  },
  {
   "cell_type": "markdown",
   "metadata": {
    "id": "rljxbpZG7uuS"
   },
   "source": [
    "# **Data Cleansing**"
   ]
  },
  {
   "cell_type": "markdown",
   "metadata": {
    "id": "5b2yqXlQ73py"
   },
   "source": [
    "## **Missing Data**\n",
    "Dataset yang ditemui di real-world biasanya akan memiliki banyak missing value. Kemampuan untuk treatment missing value sangat penting karena jika membiarkan missing value itu dapat memengaruhi analisis dan machine learning model. Sehingga jika menemukan nilai yang hilang dalam dataset, harus melakukan treatment sedemikian rupa. Cara check kolom yang mempunyai missing value:\n",
    "\n",
    "![image.png](data:image/png;base64,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)\n",
    "\n",
    "\n",
    "Cara treatment terhadap missing-value antara lain:\n",
    "\n",
    "\n",
    "1. Leave as it is (dibiarkan)\n",
    "2. Filling the missing value (imputasi)\n",
    "3. Drop them (hapus row yang mengandung missing value)\n",
    " \n",
    "\n",
    "\n",
    "Imputasi merupakan suatu metode treatment terhadap missing value dengan mengisinya menggunakan teknik tertentu. Bisa menggunakan mean, modus ataupun menggunakan predictive modelling. Pada modul ini akan membahas mengenai pemanfaatan function fillna dari Pandas untuk imputasi ini, yaitu\n",
    "\n",
    "\n",
    "![image.png](data:image/png;base64,iVBORw0KGgoAAAANSUhEUgAABLoAAABiCAIAAADY2C1mAAAgAElEQVR4Ae2dCXRUVZrHn6OOtu0c7fF0H8/YnHF62kJUxAUcpe2xR2XEse0WbbvYVaRFVEBFkEAjoIgKLoCtbCKiYlCCC4jsEQmVDbKSfSX7XpXKUkkqVe/Niffly623peqlqlKRv4fjuXXz3l1+d/nu/91NkPAfCIAACIAACIAACIAACIAACIAACKgICCofeIAACIAACIAACIAACIAACIAACICABLmISgACIAACIAACIAACIAACIAACIKBBAHJRAwq8QAAEQAAEQAAEQAAEQAAEQAAEIBdRB0AABEAABEAABEAABEAABEAABDQIQC5qQIEXCIAACIAACIAACIAACIAACIAA5CLqAAiAAAiAAAiAAAiAAAiAAAiAgAYByEUNKPACARAAARAAARAAARAAARAAARCAXEQdAAEQAAEQAAEQAAEQAAEQAAEQ0CAAuagBBV4gAAIgAAIgAAIgAAIgAAIgAAKQi6gDIAACIAACIAACIAACIAACIAACGgQgFzWgwAsEQAAEQAAEQAAEQAAEQAAEQAByEXUABEAABEAABEAABEAABEAABEBAgwDkogYUeIEACIAACIAACIAACIAACIAACEAuog6AAAiAAAiAAAiAAAiAAAiAAAhoEIBc1IACLxAAARAAARAAARAAARAAARAAAchF1AEQAAEQAAEQAAEQAAEQAAEQAAENApCLGlDgBQIgAAIgAAIgAAIgAAIgAAIgALmIOgACIAACIAACIAACIAACIAACIKBBAHJRAwq8QAAEQAAEQAAEQAAEQAAEQAAEIBdRB0AABEAABEAABEAABEAABEAABDQIQC5qQIEXCIAACIAACIAACIAACIAACIAA5CLqAAiAAAiAAAiAAAiAAAiAAAiAgAYByEUNKPACARAAARAAARAAARAAARAAARCAXEQdAAEQAAEQAAEQAAEQAAEQAAEQ0CAAuagBBV4gAAIgAAIgAAIgAAIgAAIgAAKQi6gDIAACIAACIAACIAACIAACIAACGgTCIBdFScI/EAABEAABEAABEAABEAABEACB0BHQEHsD94JcDF2BIWQQAAEQAAEQAAEQAAEQAAEQCA+BgWtDjRAgF8NTeIgFBEAABEAABEAABEAABEAABEJHQEPsDdwLcjF0BYaQzxYC+fl5O3dG8/8yMtKxBhsEgkjg22/38hVs587otrbWIIaPoEAABEAABEAABIY+gYFrQ40QIBfPFkkz9BtA5JbUO++8Lfj+t2jRIgAHgSAS+O1vf+tbxYTS0pIghj90g3K7u55//vnDhw8N3Swg5SAAAiAAAmctAd6KzZw584cfjhmgWLdu7T/+8a7BAxpSLxhekIuRK0L42pCa7zyU3HgoudHZ5ub9I9Dt7vYeTGp8b3f54o2Fb0efSc13RmAig5skY7lYUdfxfWpTcGP8CYeWnNPMqnqbqzuk2SysaGcRVdZ3hDQic4E729wseRmFLZIkBkUuVldX7djx6bJly2bMmBEVFfXhh1srKso1k5ednfXll7u//HK3QpTq+WsGEgbP5mbHrbfeKgjC008/HYbozoYoSqtdrOKdqXFFfn6LKtujD9es/Khk2QdFH+yt9Hi8kZ9mpHBQCBRVyh1+RV1oO/xGZxdrQaeLe7ruIf0vKbt5276ql7YUvfZxyb74hiGdl4hNPG/F2tpazz///HPPPXf9+nV6CR47dqwgCJMmTfJ49MZIwVCHqjAgF4dGY56xKttitVmstsyiiO6A0gtb/m9+Kksq+/8/YrTHo3otYSj6k1xcuHChw2F3OOwdHfJIq8vtmbAo3WK1bdtXNRSzFv40T3wpk9Wcosr2kMb+5mdnWESfH6kJaUTmAk8rcLLkPfNWriSJLS1OVrVGjRrFphkVQs44lu5u95tvrrn44osVU5SCINx9993qdxctWsSe3Lx5E/9XPX/+mbC5u7vd48aNEwTh4osvTkxMCFu8P+2INn1dwSrelj2VkZzTLrdn9Y7SEZPjWWotVtvVE22iODQMeiSD/amm7Z2dcof/2aHQdvhx6XZWJ+evzx+6MOvsnU+uzqHGZbHapr2cNXSzw6c8u7Q11KMLPjpjt9qKvfXWm4IgnHPOOTExuzTfPX78h4suukgQhLlz52o+oBJ6wfGAXBwa1mVIyMUmZ9foGUnUv4x9IvnWvyV/erBap0IPDfL+JJ7k4ksvvaR4/qUtRRarbfhEW04pdpr5VeKQi6wKkVyc83YeX6luuukmE3JxyZIlaqHIfO69914+fObWk4V6/uoQwuDz9NNPC4JwwQUXHDlyOAzRnSVRDBW5uPbzMrI1101N+MPTp/579smzpIyQTRMEIBcDgjZ52WlqXzc9mvj72SefWzeE1S/lfeveSpav3cfqyHMQHZpW7PnnnxcE4aKLLkpNTdFM25493zDzvXHjBq0HgqMPFaFALvo1hNUqj7C+GFy5WF7nisuwx2XYqxqCuSqDSSOL1fbnF9OHxEKmYBWrnlxsaO5iHZNixB+seH+S4UAusmI9lNzIKs97u33m503IxdOnM88//3xBEM4999yFCxfm5+e5XO3Z2Vnbtn341FNPKeYPWex6slDPP/xV8dix75m9XLv2nfDH/hOOMbhy0dnmZrYmuN/Lqho6rpuawBrIR/uqPF6sQQ3rgGQo1n/IRf9L7VtbPWtco2ck2TId/r8YCU8a9zlz38ljWXtpS9Ggp1bPinV0uCwWiyAIo0aN0ltxOm3aNCYpy8vLVBlRCL3g/IRcHBqdbHDl4nu7y8nQquqZeSD/+2wKC/ZbW30Qg438oPTk4oHEBgbk4/0//SnWYBUT5CIj+e4uuZGezG3m2ZqQiytWLGfKavbs2XxQBm49WajnbxBUKP7k8XRff/31giBceeWVXV2doYjirA0zuHLxZG4z6wNnr+lZUx2sf3tPyMPZe55LDVaYCOenTQBy0f/yXbq5Z1WUxWqLBE3lf7LZk8Z9zsnc5j8uSHtocUb2YC/4MrZi3367l1ntDRve1yTQ2Nhw4YUXCoJgtVpVDwRHHypCgVwMmgFTFVgwQ458uejxeNk2kpFTE0J9SElIUZsIXE8urtxWwvrcpGyfEb+JKM6eVyAXWVk/tDjDYrVdPy2hy+3hS9+EXJw4cSIzPP4fH6onC/X8+RSGwb1x4waWo48/3h6G6M6qKIaEXFy/S16J+nb0mbOqdJBZ0wQgF/1HN3WFvBL1xFCbWpQk0Vgu+g8h1E8aWzGv13PFFVcIgnDZZZc5ndoDSLLsJ07E+aZWIfSC8xNyMZiizrfAghly5MtFWnh57/Nn3edePbk441X5gKK8srbQ1Y2fWMiQi5Ik0kpU9by0Cbl4yy23MHGVl+fvDI+eLNTzD3MlHDlypCAI//7v/+71+mjpMCfjJxndkJCLyz6QZz++w2mNwZuz/UnWZ8oU5CKh6Ncx/jn5wMJGZ1e/D0faA0NFLvZrxaKioownGA8ePMAeUE0wBkcfKkIJk1ysd3RW1HXwB9bbW9zHUpt2xdaezG3253IIrygWVrR/fbxuT1x9WoFT75WOLk9FXUdFXUdLu3zCrKvTk5rv/OJobVJ2s6tTY2xR7+g8kNjw1Q916YUt/kyL+ZkS002oyy0nODHLQdn0Ry4629y2TEf04Zof0uyl1S71GXH2FjeD89rH8qzX2s/LmE+TTqfQ6fakF7Z8fqTmYFJj7plWxUQHy2OdvadwM4ta2EzauHkpLMyKug5KP5VLc6t8EUhptWv3sbqjpzRumPCTMIUZurLucntO5Tpjvq/91lZfVNmut0NGTy4+tjKLMeHl4sDbgj+FIkliGPj4mZKA2oKxXKys72ndFXUdVJEUgVc1dBxLbYo+XPN9alOd3WiZoj8no3Z7vKn5zj0n6mNia7OKtes/S0Bzq9y4qI00ObviMuy7YmtzSls1a05JVfvuY3UHEhvyy9q6fS8AiImtvXZK/PNaB+v5LxcdDntJSXFJSfF1113HjMr338cyn/p6eZe/3d7EfFpafC680ZOFmv6i6GWB1NT0LbouKSmOjv7s008/SUk5RQcFKwqL/9nR4UpMTNi8edPu3THp6Wmdnbrbqk+eTGbZeeaZZ/gQmJuqPXU+Hq8390xrTGztoeTG4qp2rx+HZ1Y3dh5KbvziaG1ilqO2SbcWsa6Pt2sVdR0Hkxr3xNWX12ncQtHt8Wb82J0eS23yc3e3nylRc/DHxyuKBRVtrB+ubpSz6Y9c7LfhuzplQ/xdvLwg/7GVWazlUkSKFPrT7VPhzl+fz7rWTw9Ws2D5UmB9bEVdByvr9o7uuAx7TGyt5g0KfhIOQ1nnlLbui2+Iia09XdzS0aUxVlEQU/wcuGXxpwjCY1n8TImCgPFPY7nY4OhiFUnPajjb3AlZjpjY2n3xDaXVLoNuxJ+TUf23LFTnQzfOIW5kxe6eK28sOl3cwrA0OGTd6PF6mY9ex+hsk01he0ffNQ+Ui4F0ywUVbYeTGz871GPcK+o6FENcP/scSp7BaN//sqbQyO67Oj0nc5t3HqmJS7fX6NsOYyvGSiQ/P49ZultuuYXKiHd4vZ5hw4ax897sdn4srRB6wfkZJrn48JKehVUWq83j9eaVtd33Qhr7yf4/cmrC1r2Ves2vzt45642cGx5JVLyyZscZaj9EMDaliT327q5yZ5v7mbdyr57YEy/7d83k+OkvZ1F93baviloFe+CmRxN3HKwOSkooSf47uj3epZuLrp3SdzK4xWqb9UaOvcVtLBd3HqlRZMRitU1YlJ6Y5bNHecmmQkKhcLzwjwJFOlPznROi0vljyi1W29hZyV8crVWMfSdE9VwUofmPbtE43nu09IqtxWW1rnHz5M5o+EQbH2/klLXH493yTeXYWcl8vq6flrDp6wpFJyVJop5c9Iqix+tV4BpIW/C/UCRJDGlbCCglfBH36zaQi2t2yCeh/27WybJa5XA8s6jliddzhnPtvafGPpG8K7ZWM1Jjudjt8b7/ZcXvZp3kK8A1k+NnvpatOZ54/ZNS9mRSdnNBRdufFvo0ihseSXz5w2JWczrdnr9vLrr1bz5Va9y8lATf1lpQ0ab5ect/ubh06VJmbNT/nzJlCmOyYMEC9lfFAWuaslCSRE3/jg4XC+T222+XJHHnzuhf/epXfKRXXHHF/v3faZaCJIk224mbb775vPPO41+5/PLLt2zZrLnLnx0lJwjCgQP71WFSV7P28zKvKK7eUTpqunwmCisg69LM0mpl5WHhdLk9K7eV3PaET9FYrLY5b+ep65skiazrY53YwaRGRZmOnZVMh+9VNXTMeDVbkZLHVmZpBitJYqApUXPo1yf6cM3Nj/lY1fHPpeaeaTWWi342/D1x8t5Cvvkwt/r8Uv+7ferT1MHypoT6WHuLe+3nZWTFyB6ZIBy6smarCRQ9xohJPV+LWgO5e5ZyjVGWZuU3kItHTzWxSjJicrz6E3a9o3Pp5iJF473hkcSVH5WQSOBjNJaLgVoWqvOhGNPyyZYkkayYun3RLRoNDvkAv/vmpyleZz9X75BN4RdH+yzvQLplSRKPnGx8MEoWEZS2Py5I4zf2+9nnGNv9QMuaxiTxpx3Nre5Zb+RQb8PSGbWhUK1TJEk0tmIE9ne/+x0zizk52eTJO+jMc98tjsHRh4pQwi0XY76vVbQ6Kvu1n6uP9xHjTzt44z1yagI/HPzjgrRO34091LQeX5X9h6dPUeC8Y8ry067OnmEB78m7393lcxQhK5tAU8KXqD9uR4t7yvK+k4v59Pz37JOkrxT3Lro6PQv+UcA/fP00n7HRnri+U2f8l4vb9lVdw91npQhzyaZCPkcBycVHXsn679l9Q3DexgdKOHRl3ebqfrz3okt2DQZPeMar2Yr2rycXeUrkJqMeaFsIqFB4uRj0thBoSijv/jj05OKGr+Tr4EbPSMpXLe7dE1dPJyWqi+zZtXmKIpMk0cBsqBsj3+3818yk2BT+S17PsnMytAvfK9Dr4lZ/Wupsc/MHlPP1ymK1+bPHNZLl4qhRoxYvXsyrPt6tuXPy7bffYqe2sid/9rOf8a/MnDlTXWeuvvpqQRB+/vOfa85A0rgkakMh34p51Dc/luhokZc5UPiV9R18VzZicjzfB46anqAWmfQ8HQrNx2Kx2kZM6hl95pe13f5kX6fHP3PLzCT1PLmJlFAu/HF4vN5XthXzySD3yKkJf/27fPGp+t5F/xu+n0M3SQrMxFOfTwkmB29KqI998X0f40hy0QThEJW1KIokY1he+A/cd89NKSj3dyMD5TpQyxI5ljfQlPhT2+kZ4qy4dzEhyzHyx1N2h0+0fX1ceblCTmmrYsRCVY4dAl9cpbwf2EAumrAsVOeDbseJDDnIivF5ZO5gycVAu2VJEtd90XdlDrtelU8enRzuZ59jYPdNlDXJxY1fVajnbFg6Jy3LJMLkMLZi9Ni6dWuZQVy/fh158o6MjHT2wIMPPsj5K4RecH6GWy5arLabHk18aUvRsdSmRmdXemHLnLflY21HTU+od/gs+0krcLKu85rJ8Su2Fsdl2N3d3k6351hq011z5OmpldtKOEZ9MyrMVL+yrfjIycYGR1dBedv7X1aQ7GGzRmOfSP78SM2ZGldDc1dKnvOZt3JZ6V4/LUFxw4SJlPCp8sf93Dp5dc2o6T1zrVnFrVUNHd8cr6NUsbQp5OLfXpfvUf3zi+kf769mC3Jqmjpf/lAeDdz4aCLlxd7iLq9zlde5Vm3vW4zKfPjFqFv2yPfSjJ2VvH5XWVZxqyiKzjb3JweqaY73YFIjZaq2qbO8zpVe2LcYlYVZXueiiVwaw7FcjH0i+bl1+du/q6IRiQnC1I0Gt6wlSZy9Rq4J459LjUu3t7q6nW09a6epO1j9aSll32B2kX+G3GTUA2oLgRYKLxeDy8dESijv/jg05eLH+6tZzRk1PSGtwGfZpCSJSdnNJOcWvV+Qmu/sdPeshdt9rO6WmfJFoOq7TAzMxiOvZFFF3RNXX9XQwVaYUCO9eqIt94zPRZq8ob3tieR3d5UnZTc3OrsyClv4MSvreR54MT02pWetbFVDR2xKE00s3L8gTW9pA6HzXy7a7U3FxUXFxUXXXnstsyixsUeZT12d/N03uLOLLJb/+I//WLJkSVJSYlVV5f79391www3M/6abbhJFnwsPVq9+g/3p8ssvX7Zs2alTJ0XR63DY3313/cUXX8z+tHt3DOVdksTmZsc555wjCMIf/vAH3p/ciq7mr3/P3Lav6kyNq6zWFRNbSxOAq7b7GI42VzctJXhydc6eE/XONjdbxTr9ZbkyPPBiumKlAEkINnDc/l1V7pnWOnvniUyHdaksuq6flsAm8ea+k5ea77S3uIur2nceqaGUrNhaTImXJNFcSvgQ+nVHH65h1dtita3YWpyY5ah3dMamNL26vYT/NE6dMwswoIbf3tHNrMC+3sWoj67MYj5kjyRJDLTbd3V6WCC0GPWTA9VkbijjfB87YnL8w0sy3vzszCcHqk/l9nQd5giHoqwlSfxoXxUri9EzkmJia+sdnZ1uz+niFtrI8JclGZQvYwefa4yy1Kw05WJagZO+7qk3ijta3DRd8fCSjOPpdmeb297ijk1peuBFef3IHU+dVKwcNpCLJixL6MY5akTNrfIQkQbYmUUtrH3R4HyAs4ustvvZLUuSGPN9LXtlxKT493aX55e1eTzeqoaO97+sYCL/6ok2dtWHn32Ont03V9YkF9lH6jlv5319vK7O3llQ3rb28zL64KiYsu7XilHR0Pmo06ZNI0/e0dbWygzlsGHDOP/g6ENFKOGWi9dMjleskJQkkQaInx+p4TIsPrla1kKKr0GSJBaUt7GSGD0jiX+Fb1offlvF/0mSxN3H6shMjp6RxO92YE/SeVCKGE2kRBG18c/CinYmjG9+LFEhCCVJpEONLVYb/9esklaWnbvnpqjXYT/fu7tj+3dKDgYXaXhFkQ1urp5oU3/X3HlEHmc89abyzAw66ub/5mscdcOP4WasylaPiU0QDlFZ02abP7+YrlgN2NLezVYnXj/N59OGudlF/9uCuUIJBR9zKTGu/Iq/Um9QVCl/td19rI6pwWunxKsPaut0e0jGb/q6QhFaWa3rf56RVxko5u70zMYXR2X7NG5eCj+0ZSHT5eBTV5zm4yK5eN3UhNR8paDlFeNflmQodio629yjZ8iylnLNB867/ZeL9Ba9UlioXHMedLk4bNgwfgejJIkNDfWXXHIJM2kFBX0XPXu9Hub/T//0T6dPK7+/btq0kb3ywAMPUEYkSTx8+BDznz59Ou9PbkVXoxB4tkwH6zNvf9LnSne6u3ne2jwKijk6ujw0eFJ8IyAJceecU3bf6Up3t5eWhFistld91Sn7xsFSctsTyXyM5lLCh2Dsdnd7ad3NTl+DK0niN8fltmax2ni5aLrhGx87YaLbZ7mjo272JzSo80vCacTkeEWrlyTRHOFQlHVFXQfTKqOmJyj2soqiSN+Cj5zs+zirziz5UK79tyySdBaNstRyMfdMK3W8NPNMPCVJnP+u/BF/9ppcxUI2V6eHFi8o1qPpyUVzliUUdpzPo6abjrrhJxLYkwOXizNWZfvZLTtaZMt49URbXIZdkVQiM26ez132xn2Ont03V9a8XHz/S+Xwg6rcfN9jCPq1YpRTmjwcPnw4eSocv/jFL5hN5CyvQugF52e45WL0IR9ByLJNIuTNz3wOxV79aWnUhkK9tb+0lJnf/kEV6LGVWQqmkiSKonjjo/JuDZrC5h/76gdZTyqsu4mU8MH266Zvpat3+ExbsRe9okifsni5mJrvZHy++kG5gkKSxO9T5W2c6n2JBnLR0eJmYb6ldUB5e0c3G7ir95/4KRfvmpNCU448FhOEQ1TWf+ndZ8ujpqTSh3l+7bQ5ueh/WzBXKKHgYy4lRM8fh0IuHkhsGDGpZzfviEnxBxI1hoZ0ueUfF6Spt5VKksjrfz4BembjvvnyzmrN6ERRpAcOJ/cN40gubvhKaTMkSTxdLM+9W6w2NsXBp0SSxKgN8r7ifoeGpP1KS33mxxQB8j/plVDLxQsuuCAtTeNr0aRJk5g943cbNjY2PPbjf1FRUXxqmbu1tYXNIv7617/m/7p+/ToW1OLFi3l/cpNcHDcvRXPrF/viM3yijR//xcTWsn4vvbCFgiLHG70bUxX7YElCqD8QSJL4wV55mcao6crbUFjId86RP2TwK6XNpYSS2q/j895PfnrTVrRNg5eLphu+8dDNRLfPMuinXNy+X/mptGe+ImLKmnZ5fbC3Ul1wJVXt7IOC5mI29fMkF/23LJIkmiiCUFgWcylRQzDwobE7mwwoqWqnmcOVH2n0pQ3NXcz0XDslXnO/enVjJztpYtT0BP4BPblIhiMgyxIi2gagJEkMnVwMqFum4ZZ6cRBL/xO9y+v4c3eM+xxNu2+6rEkuPqv6zihJYmm1izXhv/7d53tov1aMSsdub2L27pxzztHcyS9JIruCWBCE2NijvS8GRx8qQgm3XFR8QmN5O9H7xVeTeG/+lfdS0CpW/ogIaloL31N+R2fh0LovTQOfnCPfKfzk6hy9eNX+milRP2bgwz73Dp9o0zs1zvioG82QC8rbWE2dvMxnGkSSRAO5qBkU70mr+xQzhH7KRcVXFj5kA7cm4VCUdUVdB4Omdx1IeZ3c/p95q29+1ZxcDGJb0CyUUPAxKCP2J82U9PsW/wAvF+My7LScI0bnxBparf2NatsJC9Yrivf0HgtOK2r09i7ml8mtZty8FEUNp0Tu6b0ifOnmIvIkuRjzfd/+fvqrs83N6tWo6Qke30NQ2TP/iClnD2zbpzHApXAkSSTtF4Fy8d/+7d/4pJKbNjT6bsdXdun0PHNcdtllzFLyt2UsX76ceeoFRXJRr6uhZaLqTUeKBNDPTw7Ia6H5j0R01I3FatM8cvNwciMrU81vl5IkTutd5ur/hdF6KaGk9utY+J68nY/f1s6/ZXzUDf8k79Zr+MZDNz4EtVuz22eP+SkXNftYdUS8jx5h+jQQxLKmhQ961xXc8VTPltcxj/ssoeJTy7tJLmrmGqMsXi7WNHXSjsQX3y/Q/M5IOyAWb/Q5rIFn/vfe6+z3nug7JEJTLpq2LINix0MnFwPqlmlJdnKO9sWDe+LqJy87PXnZ6ZS8vhU9xn2Oplw0XdYkFxVLI1klcXd7mQkY67uEpF8rxtexn//858zkNTZqfC6XJPG+++5jD8TE7Op9USH0gvMzIuSicemy/Ld3dBdVtsdl2L88VhcTWxsTW0uziwHJRRorqFdaSpKY0bsB7/FV2scQSZLoZ0p6i62fIZEkid0eL1uJOnaWz6okPoR+5aJXFOvsnemFLQcSe07ijomtJU04ELnoaHHnlLYePdUU831PmDGxtTQ9qxhMB1Eu+km4327URFnTTNSza/PYadGK/5fVutiK+QdeTKcCCqJc9Kct+FkooeBDWWYOP1OieMv4J8nFQ8mNdHLjVq2v7ywcWlmneXUBe4bWgvIr0zTNBq1XX6A6K5iSXVkvf1Pg16May8Vuj2w2bpmpPfLb8o08E7X5G43JSYp6iMrFl19ewezZO++8zeeFdzc2NqSlpe7Z882HH27duvWDrVs/+Jd/+Rf2Fi8X586dyzy//vor/nVy9ysXaS9iTqnP7lMKwd3dc1J8ck4zu0AlJraW1ikFJBdpgK73aXzma/K9rJpTmpIk+p8SSny/DjppqUR1RAd71x+56H/D96dDY/H62e2zh4MlF/0nbCwXTZR1o1M+YfJ/njmlsDL0k06/05wnV5S1sVz0pyD8LIIwWBY/U6IgYPyT5OLWvZW0XOupN3MVCyMpELIael8q+f1N/HpUTblo2rKEgTZlmRzhl4ua3TJJesVSf0qnpsO4qmvafdNlbSwXJUmkXWZ8Uvu1YvzDw4cPZyZPvTiIPTZr1iz2wJYtm3tfDEpVYsgAABqDSURBVI4+VIQyBOTiydzmJ1crz8dnkp39P2xyMaCU9BZb/3LxTI08YTVhUZ8CUbxuIBedbe7N31TonbxnsdpMyEWPx7vnRD11qTxtcodCLgZEOBTdKB08QNnUc/CbZsMjFwMtlFDwYdUy0JQoKrPxT5KLtKvEYrUd4pZ98q+LosiWAw2faHN3+xyjwj/27i557o7/BKhpNuj81Xd2+iyM50PzeL3sRBB+/xvkoiAIerOLBnKxu9u9Y8enN954IzN4mv/n5eIjjzzCntm371u+UMg9ELlYVutasbWYjr5Qt/2wycVAU0LZ79fx+96DqdXb3dm7BnLRRMM3HrqxGAPq9tkrA5eLgRIOulzMKZWPHlBXM7WPYtOsZikPRC4GVAShsyySJAaUEk0Oep4kF3nLorkMlYVAU1vsJBXNYJOy5fVo/KSZplw0bVlCSlszUyFdjMqD4mNXy0VRFNnaouunJfBP9us27nM07b7psjYnF/u1Ynwe77zzTmbyTp7Unk8i87pmzereFxVCLzg/I10urtjad973zY8l3r8g7dGVWbPX5M5ek0sCKTxyMdCU9BZb/3IxNd/JzMPM13SnNPXkYklV+5jH5UMyLFbbXXNSrEszZ72RM3tNLjW/QOWiq9Pz0OK+K27Gzkp+MCrj8VXZDDtdCxl0uRgo4VB0o29Hyzf7qQ222odWsIRBLpoolFDwkSTRREr8bwv8wVc8cM2DqdiF0eyxW/+m3ZOyqLfvl48f5If7mmaDev8dB/tunFennwYctLIUctGEXGxvbxszZgxJxMsvv3z06NHjx4//84///fM//zP7Ey8XZ8+ezTw/+2yHulwkSTQtF/fFN7AvwRar7dop8fc+nzpl+eknV/f0pfcvkLez8vWn38WoJmacWI5MpEQThaYn68ANRmB6ctFcwzceukmSGGi3zzI1QLlognDQ5SJVD76j03OrDwhUF65puRhoEYTIspiuDGoUmj4kFxWQ+S3o/IvEs7BCeVUGPZbXu3mB31+qKRdNW5bQ0aZcqB2RMLvY6fawkvr9bJ9jydSpVfgY9zmadt90WVOx8l+i+fRozi72a8X4EO644w5m8jIztQ9JXrZsGXuAu2wjOPpQEUpEy0Wa6hk3L+XoqSbFcYJz35Fv4AiDXDSREr68jd3VjZ2sVTysf2S2plx0tLjpyL7XPi5R7KkorJA3ygcqF596U75G4vFV2Rmqgx/o/PfgykUThEPRjW7/TtYVizcWxmXYjf9RsYZBLpoolFDwkSTRREoIlD8Oml1kp/zT1sSHVQeKstDG/nip+ojJ8XprinoOUei9OJg/LVnTbEQfks/+5RcXKZLt6pTN2I2PJtKfIBdNyMUHHniA2bnx48cnJfXBZFR/+ctfsr/ycjEqKop5vvXWmwSfd5iTi2kFTrbIfNT0hOhDNYrjuHYcNLN3kfRAQItRzaWEJ2DsJpOhOP2f3tKTi+YavvHQzUS3z9I5ELlojnDQ5WLuGXl28cGoDGNDE5fRc38DFZCeg4a8mnsX9QrCRBGEyLKYSIkeCk1/Xi4+vCRjI3eRr/oEbEkSn10rjzD5LQyKkH9Is7PBG3/ahaZcNG1ZQkRbkRHFz0iQi5IkstHmyKkhn100Xdbm5GK/VowvjhEjRjCTV1GhcSF8z8VvvZ9QP/nk494XFUIvOD8jWi6yI+wUp0714hDDKRdNpITS2a/D27ug7nezdD+iaMpFOlFWc0GFOblIRzk9tFh53D/LSIjkognCoehG4zLk3j9Kf3e7ukBDLRfNFUoo+JhLiZqYgQ/JxagNhaIotrR30wD3tY81zq+j7T3qe3EoFrov8Vtb34EEmnIxMUu+aOHF97XPypIkkU4svOe5vlNAIRcDlYv5+XnMCo4ZM8bt7qLCIoemXKSrGl944QV6kneYk4t07ZDmVEM45aK5lPAEjN2PrsxiA9zSapfmk5py0XTD11MpLGoT3T57cSBy0RzhoMvFTreHzTzcNcfnGgDNQvHH05xcNFEEobAskiSaSIk/WOgZkot/fjGdyW86S+mvf89UzEbwt8PvPqZx8jwLlo7ufGlL37FnmnLRtGUJEW3CoumIELlIx0/onQWlmXjjPkfT7q/7ooz1ioGWtTm52K8V4/NFR761tWlvtn/ooYeYJf322729LwZHHypCiVy5SHNu017WuBJDksInF82lpLfY+l+MKkkiu6Fr+ESb3pBXUy5GbZQP39c8NsqcXPz6uHyViOY1RPS9x2K1BXF20RzhUHSjVQ3yKSb3vZDmfwmGWi6aK5RQ8DGXEv9J8otR6QbCrOJWWgKtuO5WksQlm+RW8KWOUXd3e2nhOt++NM1GbZM81X/33BS96Uo6O3ERJykhFwOVix9/vJ0ZuRUrlmvWEE25uGPHp+ytKVOmaL5lTi6yTxIjpyZo7oANp1w0lxJNFJqedJaj5vVLkiRqykXTDd9g6Gau22eZGohcNEc46HJRkkR2k8rwibaARsOaxSpJogm5aK4IQmFZzKVED4WmP8lFulWb/xb5+ifKO8z2xNUzCcH384qQSXDy1kdTLpq2LKGgrciF+qeBXOzo8rDb1Pit+3wItJbni6N9h4Sb65bpGGe97aMF5W07j9TsPFLDz6gb9Dl6J6KbLmtzcrFfK0Y8u7vd7EKpSy65hDwVjt///vfMJnK3WCmEXnB+Rq5czCySbypT3FjCSNU7OulExFAvRjWXEkWJGv98dXsJ65he2VasfrLV1TfBwl8GSNf4xqUrLzCVJJHWWhgsRuXX5rF4t+yRT2hU3IHJ/pqc00wXGwRRLpojHIpuVBRFuvNd72KGJmdXQ7PPZEio5aK5QgkFH3MpUVdpAx+aXSS5KEnip72rAcc8nqS4bIYmhP/3WW2BR5cjKxZ7a8pFSRLpi6ZmBfB4vHT8/XGu3UEuBioX6QvrokWL1PXhhx+OnX/++cwK8otRaU7yzjvvVL9leu8iO97m6ok2V6dHEazH46XbvcKwd9FcShRpNvh55KR8vcf9C7S/iNGyHf7eRdMN/1SuvDOfX63Hkmeu22fvDkQumiMcCrlIH3z1rmrweLx8N2hQrObkorkiCIVlMZcSYyCKv6rloiSJWSWt101NsFhtwyfaYlOa+FeanF3saO4Rk+MVO33YY6XVLjY/fO2UeP7qVE25aNqyhII2n01Nt4FclCSRfX7V7C29okjHxgxcLpKK0zvXg24s57dNGfQ5enLRdFmbk4v9WjEqlKqqSmYE7777bvJUOK666ipBEC688MLublqyHhx9qAglcuViR5dHvp57crzijsQmZ9e9z6cyfWWx+jTyUDQtcylRlKjxzwZH1/XTevqskVMTFH1Wt8dLy4csVhsvF+lclidez6FjV1hENAFisdomRCkPXKUBtPqUKtpvc8dTJ5tbqfL1zJGmFThveCSRsLd3dPOZGshFGuYIh6KsJUmkvv62J5JPFyvv7C6rdd09N+X2J0/y9/yEWi6aK5RQ8DGXEr6e9OvWlIv8agLr0kw6YIaFNuuNHFYtV24rUXzFyC5tHTsrmf1VcbyqnlzMLGqhr6eKAwk9Xi+NUycsSuenHwddLnq9nqSkxI4OjRWGdFWj+iTuBQsWMGu0ceMGvmgWLVrE/Ddv3tSvf0eHiz0c0Mmohw4dZG8NGzasqamRjyUhIf7iiy9mfxUEobW1rxmKovfSSy8VBOE3v/kN/wq5zX3Gpm8EvEaSJNHj9dK2FovVppiCCIWEMJcSyr4/DjryWqF++QV4FquNR2G64dO53+rzKsx1+yyD1Az3J2jcRWY8z2aOcCjKuqFZFiTDJ9r46SmWR1en54nXc66dEh99qIYvVr2WbpxrzSkXc0UQCstiLiU8ln7dmnKR/xZ5y0zlt8ite+Wv51OWn1YMhxwtbqpIK7f57JKgIYRifGXOsoSCNmNVVVWZl9d3fTQP0FguTl1xmplUvotgr/PHJg1cLoqiOGFROotL/fX2eLqdaYR7nkvlbbFBn6MnFyVJNFfW5uRiv1aMyiImZhezg1FRUeTJO+rr69j042233cb5K4RecH5GrlyUJJEm+q+dEj/rjZzdx+p2xdY+uzaPPwvUYrXxi2pC1LRMpIQrOb/Wo67qnWAcMSn+lW3FB5MaE7Mc63eVUWthbYaXi9mlrTTXd9eclNU7So+eanor+syDURlsvMteuXPOKUViknPk059vejRx41cVp3KdJH7aO7pp8mTM40lRGwoPJjV+sLfysZVZ7CMcC9NitSl2hw9ELkZUWfPK5JrJ8W9Fn7FlOirqOg4lN766vYS2bvLWPdRy0VyhhKItmEuJovoZ/9STi62ubrZm22K1rd7hs3CotNpFq1VnvJq9L77hTI3rZG7zhq8q2EyCxWp7dm2eIl49uShJ4qL35avMb3gkcdPXPQ3kTI1r74l6+nBz7ZR4hZIcXLkoit7rrrtOEIRLL720vl650yYy5WJra8uVV17JbOG//uu/PvbYY7t3x6xZs3rcuHEXXHABaUVBEMrKfC41ueeee9hfs7JOK8rU9OwiTV9brLaHl2R8sLfyQGLDsg+K2HJB6vSiNvhc2B0KCWEuJWoOBj5HTzVRjp5c3WNYU/OdH+2roklU9ld+LGi64bu7vWQ4lm8tTsxy8N9DTRvWgchFc4RDUdaSJNI6Z4vV9ty6/MPJjeV1roQsx7u7yu+bL5/Hy9c6g5ZuQi5GlOU1XRkMqjr/Jz25yFv8iS/5fIvs9nj/99kU1hzGzUv5/EhNXllb7pnW6MM1tArprjkpiiUJenLRnGUJhR2XJDE6+rNzzz1XEITFixfzlJjbWC4eSpZXKIyYFL96R2liliMu3b7uizKSkYzYwOWiJIl0VYnFantpS9Gx1Kaqho60Auer20vY6HfU9AR+gSG7rtagz9Gz++bK2pxclCTR2IpRidCdinv37iFP3hEd/RmzhvPnz+f8g6MPFaFEtFx0trkV1pqM3ISodOpc+BvSQtS0TKSEKzm/5GK3xxu1Qd6FRdlkjgmL0ulCZ14uSpJIJ3kqXrlmcvz6XWW0UkLRnYmi+KeF8jcb9uLjq/ru8MgobKHGpgh2/rv5970g27ATmQ4+jwOUiyYIh6isJUls7+imHT4KAharbcSk+C3fVPJ5D7VclCTRRKGEiI+JlPCs+nXryUVJErNL+xYO/ZDmswA7s6iF7Le6yOavz+9yKxcZ6pkNZm9e/6SU/+bChznm8ST1WXmDKxdLS0tIX8XE7FJAjky52DMUSEpUKEPKxZQpU5gAFgTh0KGDfI4++mgbe2zp0qW8P3Obm12UJPHp3hOh+bK2WG1jn0imzQLWpZl8jCGSECZSwqfKH3f04Rp2d6gis7f+LXnp5iLmyctFc10QS8nKbfJWCxYsf86hiW6fhTkQuRhRZS2KPUacrS1SlAX7OeftPH4/rUFLNycXTRRBiCyLiZT4U9XpGQO5yH+LXLPD5+NUQ3PXjFezNYvGYrX9aWG6YnMEv0BJMbtozrKEiDZd/XfdddcRInIYy0VJEh95JUuTyegZSXTQRlDkoiSJBxIb6OYqRaS3P3kyq0TjABiDPsfA7psoa9Ny0diKUUH85je/EQThsssu6+rqJE/eMWPGDGYNT53iT8pUCL3g/IxouShJPecivvZxCU0dWKy2W/+W/Fb0mW6P92CS/IXjL9z9EyFqWiZSwpeo/+4P9lbyCvmWmUnLtxZ3uj207lQhFyVJjD/t+GPvtWA9YmZy/MNLMlgTIn/F2Jqd7sgrRl4uSpJ4psb15Gp5gR9rn3fPTdlzoudUyVe2yTdhKmZ4BigXTRAOXVmz8jqW2jQhKp1XztdM7pnlTlddLhIGuWiiUELHx0T18L8JGMhFSRI/673o4r9mJtU2+XSgba7upZuL7njqJG9RHlqcsffHeqtOgIHZYA8fT7f/ZUkGu1+BhXnjo4mvbCtWzKuzhwdXLvZcrDx+vCAIV199dXOzz3ccSRIjVi5KklhYWHD//feTShQE4T//8z937Pi0Z95jzhzmv3DhQr742tpa2VLVq666ivenUmOFpR6rsQfoQtqcUp9xhsfrjT5UQ8sHLFbbqOkJc97Oa3R2OVrcLMwRk+P52+1DJBdNpETNoV+fE5mOPy1MZ6u5LFbb9dMSHl+VXdPUSetOFXLRRBfE0tDq6p7XeycB23DBpy1QE8/eHaBcNEE4RGXNslNS1f74qmy2U466r78sydgT13eSM0HTa+nm5GJEWV5zlYHIGDsM5KLiWyS/KV2SRFEUP9hbee/zqez7OyugPzx9ass3lYoP8SwBBrOL7IGALEuI7Pj+/d9deumlF1544dq176i59SsXuz3edV+U8cbx+mkJM1/Lrm7spAnzYMlFSRKrGztnr8nl1xWOm5cStbFQMQagjBj0OcZ2P9CyNi0Xja0Yy0hRUSGzgHPmzKGsKRzDhg0TBGHkyJG+/sHRh4pQwiQXfXPi12wb/0r3jxu+T2Q61B9y+MfC4PYnJXozfmQGeIfmfUoNjq740w7NUaleHpucXadynemFLZ2qWRS9V7yiWFrtiku3F1S0ad7B1d7RnVXSmpjl0EykXrAD9PeH8ACjCOh1j8dbWNF+PN2eVdLKb2fnAwlILvIvmnAPSqFoptOflAy8LWhGbexpb3EnZDnSCpyKE4mM39L7q8frLShvi8uwF1e1q6co9d4KnT9pv9JSnw0zkiSql6GGLhnBDbm1tSUl5VRs7FG73ee0Cb1YZs6cyexoampwLiGgiERRrGrosGU6CivaFftg6ZnwOPxMid53d97KMLfmfUvtHd1J2c0FFW385h/jDPrT8NUh1DZ12jIdp4tbNK3JoHT7fhJW5yV0PlUNHXEZ9rQCZ73D51uYIsZQtPRBKQJFvthPf1IyKJbF1elJK3AmZTdX1ncMvHMYdMvS2dnhdDZrFoGfnh6v90yNKy7DfqbGNXAg/kRa3dgZf9ph3DooHOM+hx7TdAS3rDWj6NeKPffcc8zMcUee+qinb775mj2g0vwKoRecn0NDLmqyjljPQenIIpbG2ZCwcMrFocUTbSHo5WUgF4MeV8QGWF5edtFFFwmC8PTTT0dsIsOTsAHKxfAkErGAQHAJwLIElydCCz8BYytWU1P9s5/9TBCEiRMn6qXtxhtvFAThyiuvVB1xFxx9qAgFctFHrOuVSkD+BRVtu2Jr/fzHb0sIKBY8HDkESC7eddddr7/+2uuvv3bs2PeRk7xBTAnaQrDgb9q0kVWtK664gn1QVM8uBiuuIRHOihXLBUE477zzMjKUJz8PifQHK5FfH+85Ac6ff2kFzmBFinBAYHAJwLIMLn/EHhQCBlZs3rx5giBcdNFF5eVlmnF99dWXbCSwe3eM6gGF0AvOT8jF4MtFVckhip84AZKLrPUKgqB5lRwqBgiYJvDb3/6WahfkoiSJLle7xWIRBOG2227jL2Y0TRgvggAIgAAIgEDYCOhZsaSkxAsvvFAQhNdff00zMY2NDey6xfHjx2s9EBx9qAgFcvEnrmS0ahKyHGQC77//3iW+/y1fvhzkQSCIBG688UbfKnaJ4nqJIMY1VILKy8tldzDOmDFDFL1DJdlIJwiAAAiAAAhIkqi2Yjk52ZdddpkgCA8//LCmXWttbRkzZowgCFdddZXObn+F0AvOT8jFICsHNAAQAAEQAIHwEDh06OB5550nCMLLL68IT4yIBQRAAARAAASCRYC3Yu3tbb/+9a8FQRg9erTL1a4ZxYQJEwRB+MUvfpGXl6v5QHDUoSoUyEXIRRAAARAAgaFK4MSJuCuuuGL9+nU6hnOo5gvZAQEQAAEQOBsI8FbsqquuslqtLS26W81nzpw5atSogoJ8fTIqqRcMD8hFDCZAAARAAASGMIH6+rrGxgZ92zmEs4ZMgQAIgAAI/OQJkBXLyck2zmxpaYnqKFSFjQuGOlSFEQa5qIoTHiAAAiAAAiAAAiAAAiAAAiAAAhFPAHIx4osICQQBEAABEAABEAABEAABEACBwSAAuTgY1BEnCIAACIAACIAACIAACIAACEQ8AcjFiC8iJBAEQAAEQAAEQAAEQAAEQAAEBoMA5OJgUEecIAACIAACIAACIAACIAACIBDxBCAXI76IkEAQAAEQAAEQAAEQAAEQAAEQGAwCkIuDQR1xggAIgAAIgAAIgAAIgAAIgEDEE4BcjPgiQgJBAARAAARAAARAAARAAARAYDAIQC4OBnXECQIgAAIgAAIgAAIgAAIgAAIRTwByMeKLCAkEARAAARAAARAAARAAARAAgcEgALk4GNQRJwiAAAiAAAiAAAiAAAiAAAhEPAHIxYgvIiQQBEAABEAABEAABEAABEAABAaDAOTiYFBHnCAAAiAAAiAAAiAAAiAAAiAQ8QQgFyO+iJBAEAABEAABEAABEAABEAABEBgMApCLg0EdcYIACIAACIAACIAACIAACIBAxBOAXIz4IkICQQAEQAAEQAAEQAAEQAAEQGAwCEAuDgZ1xAkCIAACIAACIAACIAACIAACEU8AcjHiiwgJBAEQAAEQAAEQAAEQAAEQAIHBIAC5OBjUEScIgAAIgAAIgAAIgAAIgAAIRDwByMWILyIkEARAAARAAARAAARAAARAAAQGgwDk4mBQR5wgAAIgAAIgAAIgAAIgAAIgEPEEIBcjvoiQQBAAARAAARAAARAAARAAARAYDAKQi4NBHXGCAAiAAAiAAAiAAAiAAAiAQMQTgFyM+CJCAkEABEAABEAABEAABEAABEBgMAhALg4GdcQJAiAAAiAAAiAAAiAAAiAAAhFPAHIx4osICQQBEAABEAABEAABEAABEACBwSAAuTgY1BEnCIAACIAACIAACIAACIAACEQ8AcjFiC8iJBAEQAAEQAAEQAAEQAAEQAAEBoMA5OJgUEecIAACIAACIAACIAACIAACIBDxBCAXI76IkEAQAAEQAAEQAAEQAAEQAAEQGAwCkIuDQR1xggAIgAAIgAAIgAAIgAAIgEDEE4BcjPgiQgJBAARAAARAAARAAARAAARAYDAIQC4OBnXECQIgAAIgAAIgAAIgAAIgAAIRT+D/ASnMo9zMsckoAAAAAElFTkSuQmCC)"
   ]
  },
  {
   "cell_type": "code",
   "execution_count": null,
   "metadata": {
    "colab": {
     "base_uri": "https://localhost:8080/"
    },
    "id": "386kCqxv8ibg",
    "outputId": "8bcae7d2-1380-429b-93df-c88963a7f1a0"
   },
   "outputs": [],
   "source": [
    "print(data_raw.isnull().any())"
   ]
  },
  {
   "cell_type": "code",
   "execution_count": null,
   "metadata": {},
   "outputs": [],
   "source": [
    "print(data_raw['quantity'].fillna(data_raw['quantity'].mean()))"
   ]
  },
  {
   "cell_type": "code",
   "execution_count": null,
   "metadata": {},
   "outputs": [],
   "source": [
    "print(data_raw['quantity'].dropna())"
   ]
  },
  {
   "cell_type": "markdown",
   "metadata": {
    "id": "bTGQsv3p9ND2"
   },
   "source": [
    "## **Outliers**\n",
    "Mari melihat penggunaannya pada dataframe retail_raw untuk kolom quantity:"
   ]
  },
  {
   "cell_type": "code",
   "execution_count": null,
   "metadata": {
    "colab": {
     "base_uri": "https://localhost:8080/"
    },
    "id": "daZuHJwx9TnL",
    "outputId": "a1a1d947-5585-4b6f-a7a9-2136182f971f"
   },
   "outputs": [],
   "source": [
    "# Q1, Q3, dan IQR\n",
    "Q1 = data_raw['quantity'].quantile(0.25)\n",
    "Q3 = data_raw['quantity'].quantile(0.75)\n",
    "IQR = Q3 - Q1\n",
    "\n",
    "# Check ukuran (baris dan kolom) sebelum data yang outliers dibuang\n",
    "print('Shape awal: ', data_raw.shape)\n",
    "\n",
    "# Removing outliers\n",
    "data_raw = data_raw[~((data_raw['quantity'] < (Q1 - 1.5 * IQR)) | (data_raw['quantity'] > (Q3 + 1.5 * IQR)))]\n",
    "\n",
    "# Check ukuran (baris dan kolom) setelah data yang outliers dibuang\n",
    "print('Shape akhir: ', data_raw.shape)"
   ]
  },
  {
   "cell_type": "markdown",
   "metadata": {
    "id": "QCrT-uUi9gky"
   },
   "source": [
    "## **Deduplikasi Data**\n",
    "Mari melihat penggunaannya pada dataframe retail_raw :"
   ]
  },
  {
   "cell_type": "code",
   "execution_count": null,
   "metadata": {
    "colab": {
     "base_uri": "https://localhost:8080/"
    },
    "id": "q4uekYUW9iRd",
    "outputId": "a11c0b48-df17-4ce7-9e1c-f4a9603a327e"
   },
   "outputs": [],
   "source": [
    "# cek sebelum data di duplikasi\n",
    "print('Shape awal: ', data_raw.shape)\n",
    "\n",
    "# hapus data yang terduplikasi\n",
    "data_raw.drop_duplicates(inplace=True)\n",
    "\n",
    "# cek setelah data diduplikasi\n",
    "print('Shape akhir: ', data_raw.shape)"
   ]
  },
  {
   "cell_type": "markdown",
   "metadata": {
    "id": "67reX5i_AMaj"
   },
   "source": [
    "# **Case Studi: Data Profiling**\n",
    "\n",
    "Tolong proses dataset terlampir yang  disimpan dalam bentuk csv bernama 'https://dqlab-dataset.s3-ap-southeast-1.amazonaws.com/uncleaned_raw.csv'.\n",
    "\n",
    "Kamu bisa memprosesnya dengan cara berikut:\n",
    "\n",
    "Import dataset csv ke variable bernama uncleaned_raw\n",
    "Inspeksi dataframe uncleaned_raw\n",
    "Check kolom yang mengandung missing value, jika ada, kolom apakah itu dan berapa persen missing value pada kolom tersebut?\n",
    "Mengisi missing value tersebut dengan mean dari kolom tersebut!\n",
    "Setelah membaca email tersebut, aku pun memulai kode programnya di code editor."
   ]
  },
  {
   "cell_type": "code",
   "execution_count": null,
   "metadata": {
    "colab": {
     "base_uri": "https://localhost:8080/"
    },
    "id": "WC2xKvcXAkSq",
    "outputId": "bbad0247-9a21-4da8-d64b-7d44e2952609"
   },
   "outputs": [],
   "source": [
    "# Baca dataset uncleaned_raw.csv\n",
    "uncleaned_raw = pd.read_csv('https://dqlab-dataset.s3-ap-southeast-1.amazonaws.com/uncleaned_raw.csv')\n",
    "\n",
    "#inspeksi dataframe uncleaned_raw\n",
    "print('Lima data teratas:')\n",
    "print(uncleaned_raw.head())\n",
    "\n",
    "#Check kolom yang mengandung missing value\n",
    "print('\\nKolom dengan missing value:')\n",
    "print(uncleaned_raw.isnull().any())\n",
    "\n",
    "#Persentase missing value\n",
    "length_qty = len(uncleaned_raw['Quantity'])\n",
    "count_qty = uncleaned_raw['Quantity'].count()\n",
    "\n",
    "#mengurangi length dengan count\n",
    "number_of_missing_values_qty = length_qty - count_qty\n",
    "\n",
    "#mengubah ke bentuk float\n",
    "float_of_missing_values_qty = float(number_of_missing_values_qty / length_qty)\n",
    "\n",
    "#mengubah ke dalam bentuk persen\n",
    "pct_of_missing_values_qty = '{0:.1f}%'.format(float_of_missing_values_qty*100)\n",
    "\n",
    "#print hasil percent dari missing value\n",
    "print('Persentase missing value kolom Quantity:', pct_of_missing_values_qty)\n",
    "\n",
    "#Mengisi missing value tersebut dengan mean dari kolom tersebut\n",
    "uncleaned_raw['Quantity'] = uncleaned_raw['Quantity'].fillna(uncleaned_raw['Quantity'].mean())"
   ]
  },
  {
   "cell_type": "code",
   "execution_count": null,
   "metadata": {},
   "outputs": [],
   "source": [
    "import pandas as pd\n",
    "import numpy as np\n",
    "import io\n",
    "import pandas_profiling\n",
    "\n",
    "# membaca dataset uncleaned_raw.csv\n",
    "uncleaned_raw = pd.read_csv('https://dqlab-dataset.s3-ap-southeast-1.amazonaws.com/uncleaned_raw.csv')\n",
    "\n",
    "#inspeksi dataframe uncleaned_raw\n",
    "print('Lima teratas:')\n",
    "print(uncleaned_raw.head())\n",
    "\n",
    "# cek kolom yang ada missing value\n",
    "print('\\nKolom dengan missing value:')\n",
    "print(uncleaned_raw.isnull().any())\n",
    "\n",
    "# persentase missing value\n",
    "len_qty = len(uncleaned_raw['Quantity'])\n",
    "count_qty = uncleaned_raw['Quantity'].count()\n",
    "mv_qty = len_qty - count_qty\n",
    "float_mv_qty = float(mv_qty / len_qty)\n",
    "\n",
    "# persentase missing value\n",
    "print(\"\\nPersentase Missing Value Kolom Quantity : \", '{0:.1f}%'.format(float_mv_qty*100))\n",
    "\n",
    "# mengisinya dengan mean\n",
    "uncleaned_raw['Quantity'] = uncleaned_raw['Quantity'].fillna(uncleaned_raw['Quantity'].mean())\n",
    "print('\\nCek Kolom dengan missing value Setelah diisi dengan mean:')\n",
    "print(uncleaned_raw.isnull().any())"
   ]
  },
  {
   "cell_type": "code",
   "execution_count": 6,
   "metadata": {},
   "outputs": [],
   "source": [
    "import pandas as pd\n",
    "import matplotlib.pyplot as plt\n",
    "\n",
    "uncleaned_raw = pd.read_csv('https://dqlab-dataset.s3-ap-southeast-1.amazonaws.com/uncleaned_raw.csv')\n",
    "uncleaned_raw.boxplot()\n",
    "plt.show()"
   ]
  },
  {
   "cell_type": "markdown",
   "metadata": {
    "id": "g4CUEEj8ArY9"
   },
   "source": [
    "## **Case Study: Data Cleansing - Part 1**\n",
    "Untuk memprosesnya bisa dilakukan dengan cara berikut:\n",
    "\n",
    "Mengetahui kolom yang memiliki outliers! Gunakan visualisasi dengan boxplot pada dataframe uncleaned_raw.\n"
   ]
  },
  {
   "cell_type": "code",
   "execution_count": null,
   "metadata": {
    "colab": {
     "base_uri": "https://localhost:8080/",
     "height": 275
    },
    "id": "20VpVBgHAuGW",
    "outputId": "83b51f10-b16f-4a5d-e671-f882ce68f702"
   },
   "outputs": [],
   "source": [
    "import matplotlib.pyplot as plt\n",
    "\n",
    "#Mengetahui kolom yang memiliki outliers!\n",
    "uncleaned_raw.boxplot()\n",
    "plt.show()"
   ]
  },
  {
   "cell_type": "markdown",
   "metadata": {
    "id": "BCTRA2s_Ayab"
   },
   "source": [
    "## **Case Study: Data Cleansing - Part 2**\n",
    "Langkah selanjutnya bisa dilakukan dengan cara berikut:\n",
    "\n",
    "Melakukan proses removing outliers pada kolom UnitPrice.\n",
    "Checking duplikasi and melakukan deduplikasi dataset tersebut!\n"
   ]
  },
  {
   "cell_type": "code",
   "execution_count": null,
   "metadata": {
    "colab": {
     "base_uri": "https://localhost:8080/"
    },
    "id": "G8W65ZOaA09-",
    "outputId": "9b39f446-1403-4214-80d8-809ca6e65d6d"
   },
   "outputs": [],
   "source": [
    "#Check IQR\n",
    "Q1 = uncleaned_raw['UnitPrice'].quantile(0.25)\n",
    "Q3 = uncleaned_raw['UnitPrice'].quantile(0.75)\n",
    "IQR = Q3 - Q1\n",
    "\n",
    "#removing outliers\n",
    "uncleaned_raw = uncleaned_raw[~((uncleaned_raw[['UnitPrice']] < (Q1 - 1.5 * IQR)) | (uncleaned_raw[['UnitPrice']] > (Q3 + 1.5 * IQR)))]\n",
    "\n",
    "#check for duplication\n",
    "print(uncleaned_raw.duplicated(subset=None))\n",
    "\n",
    "#remove duplication\n",
    "uncleaned_raw = uncleaned_raw.drop_duplicates()"
   ]
  }
 ],
 "metadata": {
  "colab": {
   "collapsed_sections": [
    "ZhuDK0RR3C36"
   ],
   "name": " Pertemuan 6 - Data Quality with Python for Beginner.ipynb",
   "provenance": []
  },
  "interpreter": {
   "hash": "767d51c1340bd893661ea55ea3124f6de3c7a262a8b4abca0554b478b1e2ff90"
  },
  "kernelspec": {
   "display_name": "Python 3.9.7 64-bit",
   "name": "python3"
  },
  "language_info": {
   "codemirror_mode": {
    "name": "ipython",
    "version": 3
   },
   "file_extension": ".py",
   "mimetype": "text/x-python",
   "name": "python",
   "nbconvert_exporter": "python",
   "pygments_lexer": "ipython3",
   "version": "3.9.7"
  }
 },
 "nbformat": 4,
 "nbformat_minor": 1
}
